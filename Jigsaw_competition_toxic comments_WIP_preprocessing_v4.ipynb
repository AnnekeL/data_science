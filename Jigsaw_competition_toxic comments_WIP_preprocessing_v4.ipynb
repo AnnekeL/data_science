{
  "nbformat": 4,
  "nbformat_minor": 0,
  "metadata": {
    "colab": {
      "name": "Jigsaw_v13_preprocessing.ipynb",
      "version": "0.3.2",
      "provenance": [],
      "collapsed_sections": [
        "jl6cVGFHuHZ8",
        "gjI-VzajuHas",
        "-Qb3q4UMclyt",
        "OBQbbyTdmhGJ",
        "S7LlIB2pCWQI",
        "3Mg2mIr8mpnn",
        "tNVzqAeOnn1n",
        "e7MHMYUXntXZ",
        "FvUlKwVkuHtc",
        "yULbLAkruHyd"
      ]
    },
    "language_info": {
      "codemirror_mode": {
        "name": "ipython",
        "version": 3
      },
      "file_extension": ".py",
      "mimetype": "text/x-python",
      "name": "python",
      "nbconvert_exporter": "python",
      "pygments_lexer": "ipython3",
      "version": "3.6.7"
    },
    "kernelspec": {
      "name": "python3",
      "display_name": "Python 3"
    },
    "accelerator": "GPU"
  },
  "cells": [
    {
      "cell_type": "markdown",
      "metadata": {
        "id": "87W_1p2tuHXx",
        "colab_type": "text"
      },
      "source": [
        "## Jigsaw Kaggle Competition - WIP \n",
        "\n",
        "### Proper commenting and explanation still missing"
      ]
    },
    {
      "cell_type": "markdown",
      "metadata": {
        "id": "DMnFr_i0eLkF",
        "colab_type": "text"
      },
      "source": [
        "### Link to google Drive"
      ]
    },
    {
      "cell_type": "code",
      "metadata": {
        "id": "hnrqM8Lm2IPp",
        "colab_type": "code",
        "colab": {}
      },
      "source": [
        "# Code to read csv file into Colaboratory:\n",
        "\n",
        "!pip install -U -q PyDrive\n",
        "from pydrive.auth import GoogleAuth\n",
        "from pydrive.drive import GoogleDrive\n",
        "from google.colab import auth\n",
        "from oauth2client.client import GoogleCredentials\n",
        "\n",
        "# Authenticate and create the PyDrive client.\n",
        "auth.authenticate_user()\n",
        "gauth = GoogleAuth()\n",
        "gauth.credentials = GoogleCredentials.get_application_default()\n",
        "drive = GoogleDrive(gauth)"
      ],
      "execution_count": 0,
      "outputs": []
    },
    {
      "cell_type": "markdown",
      "metadata": {
        "id": "jl6cVGFHuHZ8",
        "colab_type": "text"
      },
      "source": [
        "#### Intro and agenda\n"
      ]
    },
    {
      "cell_type": "markdown",
      "metadata": {
        "id": "gjI-VzajuHas",
        "colab_type": "text"
      },
      "source": [
        "### Import relevant packages"
      ]
    },
    {
      "cell_type": "code",
      "metadata": {
        "_cell_guid": "b1076dfc-b9ad-4769-8c92-a6c4dae69d19",
        "_uuid": "8f2839f25d086af736a60e9eeb907d3b93b6e0e5",
        "id": "aFeN81njuHa-",
        "colab_type": "code",
        "colab": {}
      },
      "source": [
        "# This Python 3 environment comes with many helpful analytics libraries installed\n",
        "# It is defined by the kaggle/python docker image: https://github.com/kaggle/docker-python\n",
        "# For example, here's several helpful packages to load in \n",
        "\n",
        "import numpy as np # linear algebra\n",
        "import pandas as pd # data processing, CSV file I/O (e.g. pd.read_csv)\n",
        "import matplotlib.pyplot as plt \n",
        "import seaborn as sns\n",
        "import re\n",
        "sns.set()\n",
        "# To release RAM import gc collector\n",
        "import gc\n",
        "gc.enable()"
      ],
      "execution_count": 0,
      "outputs": []
    },
    {
      "cell_type": "code",
      "metadata": {
        "id": "zVq1pAq_uHYD",
        "colab_type": "code",
        "colab": {}
      },
      "source": [
        "import gensim\n"
      ],
      "execution_count": 0,
      "outputs": []
    },
    {
      "cell_type": "code",
      "metadata": {
        "id": "7BHAxLHmuvzF",
        "colab_type": "code",
        "outputId": "c5101792-e0cd-4c7b-f1fc-3ca4cb8ee8ee",
        "colab": {
          "base_uri": "https://localhost:8080/",
          "height": 36
        }
      },
      "source": [
        "!pip install emoji\n"
      ],
      "execution_count": 4,
      "outputs": [
        {
          "output_type": "stream",
          "text": [
            "Requirement already satisfied: emoji in /usr/local/lib/python3.6/dist-packages (0.5.2)\n"
          ],
          "name": "stdout"
        }
      ]
    },
    {
      "cell_type": "code",
      "metadata": {
        "id": "s-h0XMnluHZV",
        "colab_type": "code",
        "colab": {}
      },
      "source": [
        "#workaround for zeno\n",
        "#%run 'emoji/emoji/unicode_codes.py'\n",
        "#%run 'emoji/emoji/core.py'"
      ],
      "execution_count": 0,
      "outputs": []
    },
    {
      "cell_type": "markdown",
      "metadata": {
        "id": "-Qb3q4UMclyt",
        "colab_type": "text"
      },
      "source": [
        "### Load Datasets"
      ]
    },
    {
      "cell_type": "code",
      "metadata": {
        "id": "WWLkAJkFuHeR",
        "colab_type": "code",
        "colab": {}
      },
      "source": [
        "dtypesDict_tr = {\n",
        "'id'                            :         'int32',\n",
        "'target'                        :         'float16',\n",
        "'severe_toxicity'               :         'float16',\n",
        "'obscene'                       :         'float16',\n",
        "'identity_attack'               :         'float16',\n",
        "'insult'                        :         'float16',\n",
        "'threat'                        :         'float16',\n",
        "'asian'                         :         'float16',\n",
        "'atheist'                       :         'float16',\n",
        "'bisexual'                      :         'float16',\n",
        "'black'                         :         'float16',\n",
        "'buddhist'                      :         'float16',\n",
        "'christian'                     :         'float16',\n",
        "'female'                        :         'float16',\n",
        "'heterosexual'                  :         'float16',\n",
        "'hindu'                         :         'float16',\n",
        "'homosexual_gay_or_lesbian'     :         'float16',\n",
        "'intellectual_or_learning_disability':    'float16',\n",
        "'jewish'                        :         'float16',\n",
        "'latino'                        :         'float16',\n",
        "'male'                          :         'float16',\n",
        "'muslim'                        :         'float16',\n",
        "'other_disability'              :         'float16',\n",
        "'other_gender'                  :         'float16',\n",
        "'other_race_or_ethnicity'       :         'float16',\n",
        "'other_religion'                :         'float16',\n",
        "'other_sexual_orientation'      :         'float16',\n",
        "'physical_disability'           :         'float16',\n",
        "'psychiatric_or_mental_illness' :         'float16',\n",
        "'transgender'                   :         'float16',\n",
        "'white'                         :         'float16',\n",
        "'publication_id'                :         'int8',\n",
        "'parent_id'                     :         'float32',\n",
        "'article_id'                    :         'int32',\n",
        "'funny'                         :         'int8',\n",
        "'wow'                           :         'int8',\n",
        "'sad'                           :         'int8',\n",
        "'likes'                         :         'int16',\n",
        "'disagree'                      :         'int16',\n",
        "'sexual_explicit'               :         'float16',\n",
        "'identity_annotator_count'      :         'int16',\n",
        "'toxicity_annotator_count'      :         'int16'\n",
        "}"
      ],
      "execution_count": 0,
      "outputs": []
    },
    {
      "cell_type": "code",
      "metadata": {
        "_cell_guid": "79c7e3d0-c299-4dcb-8224-4455121ee9b0",
        "_uuid": "d629ff2d2480ee46fbb7e2d37f6b5fab8052498a",
        "id": "mlhnU_DOuHeo",
        "colab_type": "code",
        "colab": {}
      },
      "source": [
        "link1 = 'https://drive.google.com/open?id=1JYgyZh1WxXglHQ--rXWtrIZImLxpkNGo'\n",
        "link3 = 'https://drive.google.com/open?id=1FB8nq7o0zn6lEcqfT_CDetYfvbmxq30a'\n",
        "\n",
        "fluff1, id1 = link1.split('=')\n",
        "fluff3, id3 = link3.split('=')\n",
        "\n",
        "downloaded = drive.CreateFile({'id':id1}) \n",
        "downloaded.GetContentFile('test.csv')  \n",
        "test_data = pd.read_csv('test.csv')\n",
        "\n",
        "downloaded = drive.CreateFile({'id':id3}) \n",
        "downloaded.GetContentFile('train.csv')  \n",
        "train_data = pd.read_csv('train.csv',dtype=dtypesDict_tr,parse_dates=['created_date'], nrows=500000 )\n",
        "\n",
        "del link1, fluff1, id1, fluff3, id3, dtypesDict_tr "
      ],
      "execution_count": 0,
      "outputs": []
    },
    {
      "cell_type": "code",
      "metadata": {
        "id": "hUCSNE78K0p0",
        "colab_type": "code",
        "colab": {
          "base_uri": "https://localhost:8080/",
          "height": 36
        },
        "outputId": "6c9550bc-e0f4-4451-d774-6d9ff1b79938"
      },
      "source": [
        "# kill all other columns except comment text\n",
        "cols_to_keep = ['comment_text','target']\n",
        "train_data.drop(train_data.columns.difference(cols_to_keep), axis=1)\n",
        "gc.collect()"
      ],
      "execution_count": 8,
      "outputs": [
        {
          "output_type": "execute_result",
          "data": {
            "text/plain": [
              "817"
            ]
          },
          "metadata": {
            "tags": []
          },
          "execution_count": 8
        }
      ]
    },
    {
      "cell_type": "markdown",
      "metadata": {
        "id": "Y4wBNnqmuHmG",
        "colab_type": "text"
      },
      "source": [
        "\n",
        "## Text preprocessing"
      ]
    },
    {
      "cell_type": "markdown",
      "metadata": {
        "id": "kCykVT_wuHmJ",
        "colab_type": "text"
      },
      "source": [
        "### Methods"
      ]
    },
    {
      "cell_type": "code",
      "metadata": {
        "id": "8Z3qWLBNuHm1",
        "colab_type": "code",
        "outputId": "737d3fc2-26b7-4b27-c8c6-a0fb9f06579d",
        "colab": {
          "base_uri": "https://localhost:8080/",
          "height": 92
        }
      },
      "source": [
        "import nltk\n",
        "from nltk.tokenize import word_tokenize\n",
        "nltk.download('punkt')\n",
        "nltk.download('wordnet')\n",
        "\n",
        "''' Extract all unique characters from the dataset ''' \n",
        "\n",
        "def extract_used_characters(df):\n",
        "    import string\n",
        "    used_characters = set()\n",
        "    for i, row in enumerate(df):\n",
        "        characters = list(row)\n",
        "        for x in characters:\n",
        "            used_characters.add(x)\n",
        "    used_characters = [c for c in used_characters if c not in list(string.ascii_lowercase)]\n",
        "    return used_characters"
      ],
      "execution_count": 9,
      "outputs": [
        {
          "output_type": "stream",
          "text": [
            "[nltk_data] Downloading package punkt to /root/nltk_data...\n",
            "[nltk_data]   Package punkt is already up-to-date!\n",
            "[nltk_data] Downloading package wordnet to /root/nltk_data...\n",
            "[nltk_data]   Package wordnet is already up-to-date!\n"
          ],
          "name": "stdout"
        }
      ]
    },
    {
      "cell_type": "code",
      "metadata": {
        "id": "4evtlG-DYSWA",
        "colab_type": "code",
        "colab": {}
      },
      "source": [
        "#Remove all remaining symbols\n",
        "# Some preprocesssing that will be common to all the text classification methods you will see. \n",
        "#https://mlwhiz.com/blog/2019/01/17/deeplearning_nlp_preprocess/\n",
        "\n",
        "\n",
        "\"\"\"\n",
        "The next function eliminates all signs that have been included in the previous \n",
        "defined list \"puncts\". The sign is simply replaced by a whitespace.\n",
        "\"\"\"\n",
        "\n",
        "def clean_text(text):\n",
        "    for x in text:\n",
        "        if x in puncts:\n",
        "            text = text.replace(x, ' ')\n",
        "    return text"
      ],
      "execution_count": 0,
      "outputs": []
    },
    {
      "cell_type": "code",
      "metadata": {
        "id": "WXVdeeaRQHvn",
        "colab_type": "code",
        "colab": {}
      },
      "source": [
        "'''Extract all unique contradictions from the dataset \n",
        "including \"-\" or \"'\" inside a word''' \n",
        "\n",
        "def extract_contractions(df):\n",
        "    contractions = set()\n",
        "    for i, row in enumerate(df):\n",
        "        words = word_tokenize(row)\n",
        "        for w in words:\n",
        "          #used_words.add(w)\n",
        "          if re.match(r\"\\b\\w*[-']\\w*\\b\", w):\n",
        "            contractions.add(w)\n",
        "                \n",
        "    return contractions"
      ],
      "execution_count": 0,
      "outputs": []
    },
    {
      "cell_type": "code",
      "metadata": {
        "id": "b9QQy6ifQwGP",
        "colab_type": "code",
        "colab": {}
      },
      "source": [
        "\"\"\"\n",
        "This functions check's whether a word contains a contraction or not. \n",
        "In case a contraction is found, the corrected value from the dictionary is \n",
        "returned\n",
        "\"\"\"\n",
        "\n",
        "def replace_contractions(text):\n",
        "    for x in text.split():\n",
        "        if x in contraction_dict.keys():\n",
        "            text = text.replace(x, contraction_dict.get(x))\n",
        "    return text"
      ],
      "execution_count": 0,
      "outputs": []
    },
    {
      "cell_type": "code",
      "metadata": {
        "id": "uLmSSdL-gqFe",
        "colab_type": "code",
        "colab": {}
      },
      "source": [
        "\"\"\"\n",
        "This function uses the google translator to detect comments that aren't\n",
        "english. If a comment is found it tries to detect the language and then\n",
        "translates it to english.\n",
        "\"\"\"\n",
        "\n",
        "from googletrans import Translator\n",
        "\n",
        "def translator(text, tlator):\n",
        "  try:\n",
        "      language = tlator.detect(text).lang\n",
        "      if language != 'en':\n",
        "          text = tlator.translate(text, dest='en')\n",
        "  except:\n",
        "      None\n",
        "  return text"
      ],
      "execution_count": 0,
      "outputs": []
    },
    {
      "cell_type": "code",
      "metadata": {
        "id": "-kZ8os5LYrbj",
        "colab_type": "code",
        "colab": {}
      },
      "source": [
        "#https://mlwhiz.com/blog/2019/01/17/deeplearning_nlp_preprocess/\n",
        "\"\"\"\n",
        "The following function is used to format the numbers.\n",
        "\"\"\"\n",
        "\n",
        "def clean_numbers(x):\n",
        "    if bool(re.search(r'\\d+', x)):\n",
        "        x = re.sub('[0-9]{5,}', '#####', x)\n",
        "        x = re.sub('[0-9]{4}', '####', x)\n",
        "        x = re.sub('[0-9]{3}', '###', x)\n",
        "        x = re.sub('[0-9]{2}', '##', x)\n",
        "    return x"
      ],
      "execution_count": 0,
      "outputs": []
    },
    {
      "cell_type": "code",
      "metadata": {
        "id": "gKqiK4xuZFdB",
        "colab_type": "code",
        "colab": {
          "base_uri": "https://localhost:8080/",
          "height": 92
        },
        "outputId": "3d5225cf-fdd7-4285-eb08-763afde0187d"
      },
      "source": [
        "import nltk\n",
        "from nltk.corpus import stopwords\n",
        "nltk.download('stopwords')\n",
        "nltk.download('punkt')\n",
        "stopwords = set(stopwords.words('english'))\n",
        "\n",
        "\n",
        "''' Remove stopwords and multiple whitespaces around words'''\n",
        "\n",
        "def remove_stopwords(text):\n",
        "  stopword_re = re.compile(r'\\s*\\b(' + r'|'.join(stopwords) + r')\\b\\s*')\n",
        "  text = stopword_re.sub(' ', text)\n",
        "  text = re.sub(r\"\\s+\",\" \", text, flags = re.I)\n",
        "  text = re.sub(r\"^\\s+\", \"\", text)\n",
        "  text = re.sub(r\"\\s+$\", \"\", text)\n",
        "  return text"
      ],
      "execution_count": 14,
      "outputs": [
        {
          "output_type": "stream",
          "text": [
            "[nltk_data] Downloading package stopwords to /root/nltk_data...\n",
            "[nltk_data]   Unzipping corpora/stopwords.zip.\n",
            "[nltk_data] Downloading package punkt to /root/nltk_data...\n",
            "[nltk_data]   Package punkt is already up-to-date!\n"
          ],
          "name": "stdout"
        }
      ]
    },
    {
      "cell_type": "markdown",
      "metadata": {
        "id": "T-RH82K_ZtAY",
        "colab_type": "text"
      },
      "source": [
        "##### Spellchecker"
      ]
    },
    {
      "cell_type": "code",
      "metadata": {
        "id": "U8kfng2nZy_-",
        "colab_type": "code",
        "colab": {}
      },
      "source": [
        "def build_vocab(df):\n",
        "  \n",
        "  '''Build a dictionary of words and its number of occurences from the data frame including all words which are not known to nlp vocabluary.\n",
        "  This filters out typical names of persons, locations etc. which are not known to common language dictionaries'''\n",
        "  \n",
        "  vocab = {}\n",
        "  for i, row in enumerate(df):\n",
        "      words = word_tokenize(row)\n",
        "      #words = [word for word in row.split(' ')] pot. faster\n",
        "      for w in words:\n",
        "        if nlp.vocab.has_vector(w):\n",
        "          pass\n",
        "        else:\n",
        "          try:\n",
        "              vocab[w] += 1\n",
        "          except KeyError:\n",
        "              vocab[w] = 1\n",
        "  return vocab"
      ],
      "execution_count": 0,
      "outputs": []
    },
    {
      "cell_type": "code",
      "metadata": {
        "id": "7fYeRscrZ2wB",
        "colab_type": "code",
        "colab": {
          "base_uri": "https://localhost:8080/",
          "height": 54
        },
        "outputId": "e6233d3d-a605-4e08-8201-ab7f859211ea"
      },
      "source": [
        "# This comes from CPMP script in the Quora questions similarity challenge. \n",
        "from collections import Counter\n",
        "import heapq\n",
        "nltk.download('punkt')\n",
        "from operator import itemgetter\n",
        "from multiprocessing import Pool\n",
        "\n",
        "\n",
        "def words(text): return re.findall(r'\\w+', text.lower())\n",
        "\n",
        "def P(word): \n",
        "    \"Probability of `word`.\"\n",
        "    # use inverse of rank as proxy\n",
        "    # returns 0 if the word isn't in the dictionary\n",
        "    return - WORDS.get(word, 0)\n",
        "\n",
        "def correction(word): \n",
        "    \"Most probable spelling correction for word.\"\n",
        "    return max(candidates(word), key=P)\n",
        "\n",
        "def candidates(word): \n",
        "    \"Generate possible spelling corrections for word.\"\n",
        "    return (known([word]) or known(edits1(word)) or known(edits2(word)) or [word])\n",
        "\n",
        "def known(words): \n",
        "    \"The subset of `words` that appear in the dictionary of WORDS.\"\n",
        "    return set(w for w in words if w in WORDS)\n",
        "\n",
        "def edits1(word):\n",
        "    \"All edits that are one edit away from `word`.\"\n",
        "    letters    = 'abcdefghijklmnopqrstuvwxyz'\n",
        "    splits     = [(word[:i], word[i:])    for i in range(len(word) + 1)]\n",
        "    deletes    = [L + R[1:]               for L, R in splits if R]\n",
        "    transposes = [L + R[1] + R[0] + R[2:] for L, R in splits if len(R)>1]\n",
        "    replaces   = [L + c + R[1:]           for L, R in splits if R for c in letters]\n",
        "    inserts    = [L + c + R               for L, R in splits for c in letters]\n",
        "    return set(deletes + transposes + replaces + inserts)\n",
        "\n",
        "def edits2(word): \n",
        "    \"All edits that are two edits away from `word`.\"\n",
        "    return (e2 for e1 in edits1(word) for e2 in edits1(e1))"
      ],
      "execution_count": 17,
      "outputs": [
        {
          "output_type": "stream",
          "text": [
            "[nltk_data] Downloading package punkt to /root/nltk_data...\n",
            "[nltk_data]   Package punkt is already up-to-date!\n"
          ],
          "name": "stdout"
        }
      ]
    },
    {
      "cell_type": "code",
      "metadata": {
        "id": "DLq8nOajasgu",
        "colab_type": "code",
        "colab": {}
      },
      "source": [
        "''' This method can be used to replace misspelled words using regex'''\n",
        "#Sample dict:\n",
        "#mispell_dict = {'colour': 'color', 'centre': 'center', 'favourite': 'favorite', 'travelling': 'traveling', 'counselling': 'counseling', 'theatre': 'theater', 'cancelled': 'canceled', 'labour': 'labor', 'organisation': 'organization', 'wwii': 'world war 2', 'citicise': 'criticize', 'youtu ': 'youtube ', 'Qoura': 'Quora', 'sallary': 'salary', 'Whta': 'What', 'narcisist': 'narcissist', 'howdo': 'how do', 'whatare': 'what are', 'howcan': 'how can', 'howmuch': 'how much', 'howmany': 'how many', 'whydo': 'why do', 'doI': 'do I', 'theBest': 'the best', 'howdoes': 'how does', 'mastrubation': 'masturbation', 'mastrubate': 'masturbate', \"mastrubating\": 'masturbating', 'pennis': 'penis', 'Etherium': 'Ethereum', 'narcissit': 'narcissist', 'bigdata': 'big data', '2k17': '2017', '2k18': '2018', 'qouta': 'quota', 'exboyfriend': 'ex boyfriend', 'airhostess': 'air hostess', \"whst\": 'what', 'watsapp': 'whatsapp', 'demonitisation': 'demonetization', 'demonitization': 'demonetization', 'demonetisation': 'demonetization'}\n",
        "\n",
        "def _get_mispell(mispell_dict):\n",
        "  \n",
        "  ''' Compile all mispellings (keys of the dictionary) to one regex search \n",
        "  function and return the dictionary and the related regex function'''\n",
        "  \n",
        "  mispell_re = re.compile('(%s)' % '|'.join(mispell_dict.keys()))\n",
        "  return mispell_dict, mispell_re\n",
        "\n",
        "\n",
        "def replace_typical_mispell(text, mispell_dict):\n",
        "  ''' Replace all mispellings in a text from the mispelling dictionary '''\n",
        "  mispellings, mispellings_re = _get_mispell(mispell_dict)\n",
        "  def replace(match):\n",
        "      return mispellings[match.group(0)]\n",
        "  return mispellings_re.sub(replace, text)"
      ],
      "execution_count": 0,
      "outputs": []
    },
    {
      "cell_type": "markdown",
      "metadata": {
        "id": "-ZBnfQk3YdK_",
        "colab_type": "text"
      },
      "source": [
        "### Analysis"
      ]
    },
    {
      "cell_type": "code",
      "metadata": {
        "scrolled": true,
        "id": "hFqtPHXPuHnB",
        "colab_type": "code",
        "outputId": "560f627a-fae0-44f8-fcc4-cd4a7c8266c4",
        "colab": {
          "base_uri": "https://localhost:8080/",
          "height": 74
        }
      },
      "source": [
        "# UExtract all unique characters from the comment text as a basis for translation and/or replacement\n",
        "characters = extract_used_characters(train_data['comment_text'])\n",
        "print(characters)\n",
        "del characters\n",
        "gc.collect()"
      ],
      "execution_count": 21,
      "outputs": [
        {
          "output_type": "stream",
          "text": [
            "['”', '️', '⁉', '🐮', '♭', '♍', '‑', '🎲', 'ğ', '会', '😵', 'é', 'ᴍ', '\\x08', 'آ', '😃', '🎄', '세', '💃', 'ʊ', '–', 'ם', 'î', 'E', '🐇', '´', '7', '✔', 'ᴀ', 'غ', '😔', 'ᾶ', 'ﬁ', '👤', '्', '💨', '戦', '하', '是', '🌯', '₃', '❗', '𝓿', '\\\\', '`', 'ŏ', '✬', 'Ì', 'ġ', '\\t', '÷', '«', 'п', 'ș', 'ع', 'ツ', 'ἴ', 'ū', 'ن', 'つ', 'S', 'A', '土', '人', 'ó', 'َ', '\\xad', '😠', 'τ', 'ل', 'ɪ', '⏏', 'ɡ', 'ᴠ', '∙', 'ὶ', '━', '🗑', '😂', '′', '🇼', '\\u200b', 'Ï', 'כ', 'α', '😲', '文', '🐾', '😰', 'σ', '🌎', '🔤', '🍺', 'R', '༼', 'ć', '🏿', '你', 'ệ', 'ᴊ', '‐', '圆', '不', '†', '👅', '½', '▄', 'έ', '🏡', '𝘳', 'ʌ', '\\u2008', '🍔', ':', '\\u200a', '́', '🏻', '‼', '💞', '坏', '😛', '💜', 'ン', 'ü', 'P', '𝘴', '\\x7f', '☭', '\\x95', '♡', '🍕', 'ῃ', 'K', '▒', 'ύ', '✒', 'Z', '😈', '\\u2004', '♪', '\\u2002', 'â', ';', '—', '$', '◐', 'Ｓ', '▱', '℅', '☔', '💚', '🤐', '8', 'μ', '有', '’', '😢', 'ю', 'Ж', '\\x96', 'т', '🙏', '̶', 'D', 'ة', '𝘮', '🤡', '⁄', '😊', '👄', '英', 'с', 'ɒ', '🚌', 'ë', '🎵', '…', '☆', '%', '¡', '┗', 'Ｐ', 'É', 'ʃ', 'γ', '¢', 'è', '\"', '۞', '🏈', 'ὁ', '😣', '😬', '(', '💵', '🙀', 'ś', '・', '👶', '所', '″', '\\ue613', 'ρ', 'ĸ', 'φ', '拿', '\\u200e', 'ή', 'œ', '🎓', 'I', '群', '™', '🎆', 'ж', '😤', '👿', 'Ἰ', '¿', '👐', '华', 'Y', '钱', 'ク', 'ʀ', '∞', 'ت', 'Ñ', '😆', '＼', 'Р', 'ê', '▀', '➥', 'б', '║', 'ל', '🌮', 'в', 'ף', '⅓', '🍾', '国', '≠', '░', '🤢', '̅', '🎅', '💕', 'ĭ', '▓', '障', '🐕', 'љ', '🍇', '⤵', 'д', 'ο', '）', '−', 'ă', 'µ', 'ц', '☺', '§', '⬅', 'Á', '☹', '◕', '\\u202a', '£', 'ח', 'ù', 'ش', '😕', '🙂', 'η', 'ˌ', '🙊', '𝘧', 'ʼ', 'û', '●', '💋', 'ö', '⌠', 'а', '\\n', '\\uf04a', 'ə', 'À', '🌹', 'ᴋ', '▆', 'س', '🙁', '😧', 'Ｒ', '‘', 'č', 'ʲ', '♥', 'э', '🎶', 'Ｈ', '失', '𝘣', 'ᵉ', 'B', 'क', '😒', '\\x9f', '殊', '═', '✭', '🌟', 'о', '̲', '地', '👉', 'ř', '𝘵', '2', 'ḷ', '👻', 'ᵒ', 'ò', '۩', '\\u202d', 'ᴛ', '͝', '特', '🤣', 'Ō', '\\u200f', 'ᴏ', 'ē', '𝓵', '⛽', 'β', '👲', 'ǐ', '🤔', '▔', '▇', '|', 'í', '💥', '✓', 'ح', 'G', '🌸', 'ω', '🌏', '♫', '：', 'י', '💎', '子', '🙆', '^', '加', 'ط', 'ب', 'ὐ', '¶', '的', '💖', 'ς', 'щ', '💯', 'ʙ', '╪', 'ו', '┫', '😋', '6', '\\uf04c', 'र', '下', '\\u2003', 'Ｕ', '🔗', '₂', 'ш', 'ì', '》', '🤦', '❣', '🚓', 'サ', '温', '안', 'و', 'π', '!', '👍', '😟', '🎃', '都', 'ʟ', '😳', 'T', 'X', '🎯', '▰', '歌', 'λ', 'ṣ', '\\uf0e0', '关', 'ư', 'á', 'ç', '🙌', 'ὸ', '豆', '↙', '舞', 'м', 'מ', '😀', '😄', '💔', '🐟', 'N', '🤗', '🍑', '𝓒', 'O', 'ف', 'ä', '༽', '😭', '♂', 'н', '🖐', 'æ', '❧', \"'\", '\\x9d', 'ἔ', '3', '\\uf818', '🍽', 'Đ', 'ł', 'δ', 'ч', 'ғ', '😪', '獄', 'Н', 'エ', 'צ', '🍻', '▶', 'V', '✋', '┣', '\\u3000', 'Ó', 'ό', 'ɔ', 'ˈ', '蔡', ',', 'ὲ', '⛺', 'ģ', 'р', '😺', 'ā', '💤', 'ه', 'Е', '🙃', '🚬', 'Ö', '요', '🚽', '\\x13', 'ء', '5', '+', 'خ', '伎', 'С', '█', 'š', '\\u2009', 'ί', 'у', 'ô', '明', 'О', '͟', '“', '税', 'ᴜ', 'ᴘ', 'ʳ', 'Я', '¬', 'Ｔ', '💰', 'Ç', 'Ｅ', '◇', 'ɢ', 'ː', 'Ｉ', '🔛', '🏼', '❔', '😇', '😌', '🏆', '¾', '🐶', 'ɴ', 'ι', 'ᴵ', ']', '👥', '🔔', 'ק', '/', 'ك', '\\u202f', '谷', '😖', '🇺', '💪', 'ī', '\\ue602', '𝘤', 'ĥ', 'ﬂ', '_', '⛲', '🚄', 'Ｏ', 'Ž', 'и', 'К', '🌠', 'Ｃ', '🤧', '̈', 'ת', '▅', 'ø', '🙈', 'L', '📚', '🚲', 'ʏ', 'ز', '\\r', 'к', 'ę', '💩', 'κ', '😐', '\\ufeff', '{', '😍', 'ἀ', 'ã', '🌞', '@', '😩', 'ᴷ', 'ơ', 'ѕ', '卖', 'ע', '\\x81', '\\uf0b7', 'Ü', '😜', '降', '🙄', 'А', 'З', '克', '☻', 'ε', '𝘪', '°', '\\xa0', '😅', 'е', '&', '🔥', '🎉', '›', 'İ', '别', 'º', 'ᵘ', 'И', '😝', '·', '❥', '系', '油', '😑', '⁴', '[', '◞', '˙', '🙅', '🤴', '🍁', '🌍', 'ἐ', '˚', 'م', '😉', '€', '𝘦', 'Î', '\\x9c', 'ر', '👏', 'ˢ', 'г', '😨', 'ń', 'з', 'ス', 'ь', '🐰', 'W', 'Q', '😥', '🍰', 'М', '𝘰', 'х', ')', '4', '😯', '👠', 'ύ', '„', '.', 'ي', 'أ', '💀', 'Д', '\\u200d', 'ב', '👊', '9', '👌', ' ', '💛', '-', 'ᴄ', 'Ф', 'ق', '🤑', '🌺', '•', '→', '😱', '\\u2028', '外', '😁', 'ِ', '\\x80', 'ʜ', 'M', '▬', '．', '％', 'א', '?', 'ñ', '👎', 'ɛ', '✨', 'й', '😓', '؟', 'ジ', '😎', 'ᴇ', '小', '成', 'Ｍ', '⏺', '😏', 'ʸ', 'ė', '~', '🐵', 'ʻ', 'म', '0', '💗', 'ʿ', '议', '🐝', 'F', 'C', '💙', 'ʰ', '𝘢', 'U', '🏀', '🚀', '👮', '1', '👀', '▂', '\\x85', '₄', '😡', '➡', '🐱', 'ћ', '🆕', 'נ', '◄', '😞', '◾', '作', '𝘺', 'ɑ', '\\ue014', '故', 'ℐ', 'ξ', 'ى', '\\u2005', '🤥', 'ஜ', '▃', 'ʷ', '‛', '🙉', 'ō', '¯', '>', 'ᴺ', '𝘊', '̄', 'ה', '🍆', 'Í', '😘', '➤', '\\u202c', 'ך', '®', '―', 'П', 'ा', '去', 'レ', 'ص', 'ᴅ', 'ט', '！', '영', 'È', '¹', 'J', 'ï', '►', '͞', '»', '❓', 'ы', 'ר', '📣', '骗', '₁', '🤓', '\\x10', '©', '园', '☠', '=', 'H', '💫', '¥', 'ש', '😴', '±', 'Ř', '<', 'Ä', 'ά', '²', 'إ', 'υ', 'ד', 'د', 'ᵗ', 'Ā', '❤', '☕', 'ν', '≈', '大', 'à', 'л', '\\x92', '🖑', '🇸', 'В', '⋅', '⭐', '¼', '▷', 'я', '𝓲', 'ا', '⇒', '￼', '👆', 'ú', '😮', 'ß', '🇹', '*', '★', '}', '哥', 'ᴡ', '✏', '🏾', 'ᴼ', '✘', '🔄', '#', '🏽', '。']\n"
          ],
          "name": "stdout"
        },
        {
          "output_type": "execute_result",
          "data": {
            "text/plain": [
              "576"
            ]
          },
          "metadata": {
            "tags": []
          },
          "execution_count": 21
        }
      ]
    },
    {
      "cell_type": "markdown",
      "metadata": {
        "id": "avunqB2WdV-F",
        "colab_type": "text"
      },
      "source": [
        "The extraction of all characters shows that a wide list of symbols, foreign and emojies are being used. As a major part of them representing a certain meaning.\n",
        "The following steps will step by step translate the symbols into meaningful words."
      ]
    },
    {
      "cell_type": "markdown",
      "metadata": {
        "id": "EC9nR5XKe4ty",
        "colab_type": "text"
      },
      "source": [
        "Firstly, emojies are translated into words using an out of the box library."
      ]
    },
    {
      "cell_type": "code",
      "metadata": {
        "id": "j5kDcW-kuHoC",
        "colab_type": "code",
        "colab": {}
      },
      "source": [
        "# Import the emoji library for translation\n",
        "import emoji\n",
        "# Translate the emojies into common words\n",
        "train_data.comment_text = train_data.comment_text.apply(lambda x: emoji.demojize(x))\n",
        "del emoji"
      ],
      "execution_count": 0,
      "outputs": []
    },
    {
      "cell_type": "markdown",
      "metadata": {
        "id": "VCBeeekrffMs",
        "colab_type": "text"
      },
      "source": [
        "Based on the EDA we saw that most of the comments are in English. However, the closer inspection of the symbols shows that the dataset contains Chinese or Arabic letters. We will thus translate the comments."
      ]
    },
    {
      "cell_type": "code",
      "metadata": {
        "id": "AvQy_K_dgdpr",
        "colab_type": "code",
        "colab": {}
      },
      "source": [
        "# Initiate the translator\n",
        "transl = Translator()\n",
        "# Translate the comments which are not in english\n",
        "train_data.comment_text = train_data.comment_text.apply(lambda x: translator(x, transl))"
      ],
      "execution_count": 0,
      "outputs": []
    },
    {
      "cell_type": "code",
      "metadata": {
        "id": "-LcPb9OAuHoJ",
        "colab_type": "code",
        "outputId": "b9902f25-b9cf-4bd4-ca7f-52060f0582ed",
        "colab": {
          "base_uri": "https://localhost:8080/",
          "height": 74
        }
      },
      "source": [
        "# UExtract all unique characters from the comment text as a basis for translation and/or replacement\n",
        "other_characters = extract_used_characters(train_data['comment_text'])\n",
        "other_characters.remove(' ')\n",
        "print(other_characters)"
      ],
      "execution_count": 0,
      "outputs": [
        {
          "output_type": "stream",
          "text": [
            "] ¹ τ ^ = T ὁ ɪ ᴘ 𝘤 ᾶ 的 § ▀ 안 ◄ & خ ᴷ э ᵘ ù λ ͟ ✓ ク 𝓵 у # ד ▱ \u0013 ¶ ♭ ¬ 豆 آ → ᴛ ʿ E й 油 ¥ ĥ υ ن ⁄ ɢ ̄ ὶ ί 人 ز A ✭ ش ˈ ɴ ḷ « + ▒ र ʊ 𝘪 ‘ C [ ≈ ― ᴼ م ש ῃ 英 д ् ″ 作 ʀ ۞ 5 נ S ו ó ĭ 明 ） ❥ ِ 克 ✘ ύ 外 κ   غ ~ 𝘴 č ̇ 下 } ë ص í ᴍ ء ％ η ∙ ஜ ｕ ¼ ‭ 𝘣 ᵉ > 𝘧 𝘢 š 大 ñ ▷ ç î ᴄ @ כ ( N ξ 卖 ʙ đ - ὸ ' ➥ ) ス ᴀ ☻ ח ˚ 영 р а ğ ï ジ 国 ø _ 所 ◇ ă ρ ː ʏ  𝓲 * ‛ ǐ 0 ｉ é ū 都 ė ÷ ¿ ה à ◐ 獄 ب 𝘊  ú 。 á ם ． т  ﬁ ⌠ \r ? : ɡ ° € 群 ר ʸ » ا 会 ؟ ᴺ ▄ 𝓒 г 1  ю 殊 ʲ ɑ \n",
            " è ᴅ π 𝘰 ｒ ل د 歌 ʳ ɛ 你 ☆ ♡ ы ﻿ ғ ​ 土 † α ἔ ק ! א ₃ о 华 7 温 ̅ 加 ѕ ☭ ć 是 к 故 ₂  ▓ ö מ 𝘮 K ł ᴠ ﬂ х ▰ œ ’ ß O ༼ л ε ¾  ي 戦 圆 ر ž έ ｍ 文 ｐ 园 하 ê ġ ἐ ‪ ▇ 6 س $ ō “ ‎ 特 ὐ ` 3 ; ʻ ❧ ṣ َ \t ́ в ń ˙ ì ｏ ༽ 子 ᴋ   ℅ ＼ 𝘵 ♫ ツ ο ř ｃ φ æ ʼ љ ى ۩ \" ʜ 坏 μ ！  ・ ­ أ 降 ك ” ✬ ▂  н ▆ ℐ ע ŏ ʌ レ % ▅ û ή 세 ′ म ͝ 🖑 ћ ב ´ , / ã \\ ᴏ  2 ¡ δ ¢ U . ̲ サ β я ₄ 钱   \b ┣   ⁴ ➤ п 系   ★ – 》 ｓ ： 4  ► ʷ ² ⋅ ♪ 失 и ̶ 𝓿 议 ɒ 不   ᴜ י ‐ ╪ ˌ ᵒ ▔ ∞ … • ī −  ͞ ᴇ 骗 ɔ 요 ä ░ ½ ▃ º 有 ʰ ν ά ═ ʃ █ ≠ µ   ệ ό 舞 ｔ ת ¯  ᴵ 地 е › ت W   ￼ 关 谷   γ ς ق 成 8 ｈ 𝘺 ὲ ך ه ò ף  小 ט з 别 ē 去 ± ◞ ₁ ━ ל ▬ ô ة ü ə | ‏ 蔡 V ط ◕ ι ц { ⅓ ф ┫ — ᴊ ш 　 ч   ˢ с ع 伎 ę ح ģ · ʟ ж щ 𝘦 ư ś б ｅ 哥  क ● ║ ĸ 𝘳 м ‑ エ „ ơ £ ᴡ ω و ‬ ᵗ 拿 ь â ἴ ン ̈ ā 9 σ   つ ἀ  ἰ ा ș 税  ف ┗ ύ 障 \u0010 إ < צ ⇒ "
          ],
          "name": "stdout"
        }
      ]
    },
    {
      "cell_type": "code",
      "metadata": {
        "id": "SR5sYB8YL4V_",
        "colab_type": "code",
        "colab": {}
      },
      "source": [
        "# Extract contradictions from the dataset\n",
        "contradictions = extract_contractions(train_data['comment_text'])\n",
        "del contradictions\n",
        "gc.collect()"
      ],
      "execution_count": 0,
      "outputs": []
    },
    {
      "cell_type": "markdown",
      "metadata": {
        "id": "U_Ql1WxAj5ri",
        "colab_type": "text"
      },
      "source": [
        "##### Spellchecking with Spacy and GoogleNews"
      ]
    },
    {
      "cell_type": "code",
      "metadata": {
        "id": "wW4uesYTtXmd",
        "colab_type": "code",
        "outputId": "8302ba32-2f0e-4c54-8477-0d21815730f9",
        "colab": {
          "base_uri": "https://localhost:8080/",
          "height": 36
        }
      },
      "source": [
        "# pip install spacy\n",
        "import spacy\n",
        "!python -m spacy download en_core_web_lg\n",
        "# Load English tokenizer, tagger, parser, NER and word vectors\n",
        "nlp = spacy.load(\"en_core_web_lg\")\n",
        "\n",
        "# Build the vocabluary and delete the big datasets afterwards\n",
        "vocab = build_vocab(train_data['comment_text'])\n",
        "del nlp, spacy\n",
        "gc.collect()"
      ],
      "execution_count": 0,
      "outputs": [
        {
          "output_type": "execute_result",
          "data": {
            "text/plain": [
              "328"
            ]
          },
          "metadata": {
            "tags": []
          },
          "execution_count": 54
        }
      ]
    },
    {
      "cell_type": "code",
      "metadata": {
        "id": "RNkssj7Tz0bW",
        "colab_type": "code",
        "colab": {}
      },
      "source": [
        "# Load GoogleNews vocabluary to the disk\n",
        "!wget -P /root/input/ -c \"https://s3.amazonaws.com/dl4j-distribution/GoogleNews-vectors-negative300.bin.gz\""
      ],
      "execution_count": 0,
      "outputs": []
    },
    {
      "cell_type": "code",
      "metadata": {
        "id": "XcDD1y3KuHrk",
        "colab_type": "code",
        "colab": {}
      },
      "source": [
        "\n",
        "# Assign the embedding Word2Vec from Google News and load the model\n",
        "EMBEDDING_FILE = '/root/input/GoogleNews-vectors-negative300.bin.gz' # from above\n",
        "model = gensim.models.KeyedVectors.load_word2vec_format(EMBEDDING_FILE, \n",
        "                                                        binary=True)\n",
        "del EMBEDDING_FILE\n",
        "\n",
        "# Extract the words from the model\n",
        "words = model.index2word\n",
        "\n",
        "# Rank the words of the vocabluary\n",
        "w_rank = {}\n",
        "for i,word in enumerate(words):\n",
        "    w_rank[word] = i\n",
        "\n",
        "WORDS = w_rank"
      ],
      "execution_count": 0,
      "outputs": []
    },
    {
      "cell_type": "code",
      "metadata": {
        "id": "1IiV-RcsuHsG",
        "colab_type": "code",
        "colab": {}
      },
      "source": [
        "# Select the top occuring words from unknown dataset\n",
        "top_words = dict(heapq.nlargest(1000, vocab.items(), key=itemgetter(1)))\n",
        "print(top_words)\n",
        "del vocab"
      ],
      "execution_count": 0,
      "outputs": []
    },
    {
      "cell_type": "code",
      "metadata": {
        "id": "uj7YmCy_uHsX",
        "colab_type": "code",
        "colab": {}
      },
      "source": [
        "# Map the word correction to the top mispelled words\n",
        "pool = Pool(4)\n",
        "corrected_words = pool.map(correction,list(top_words.keys()))"
      ],
      "execution_count": 0,
      "outputs": []
    },
    {
      "cell_type": "code",
      "metadata": {
        "id": "UASPyBDfuHsj",
        "colab_type": "code",
        "colab": {}
      },
      "source": [
        "# generate the missell dict\n",
        "mispell_dict = {}\n",
        "for word,corrected_word in zip(top_words,corrected_words):\n",
        "    if word!=corrected_word:\n",
        "        mispell_dict[word] = corrected_word"
      ],
      "execution_count": 0,
      "outputs": []
    },
    {
      "cell_type": "code",
      "metadata": {
        "id": "DXpVNDaCVYH6",
        "colab_type": "code",
        "outputId": "f2c52bc3-a259-4a23-f454-74b1f32e7355",
        "colab": {
          "base_uri": "https://localhost:8080/",
          "height": 12796
        }
      },
      "source": [
        "# Show the library\n",
        "mispell_dict"
      ],
      "execution_count": 0,
      "outputs": [
        {
          "output_type": "execute_result",
          "data": {
            "text/plain": [
              "{'abedin': 'begin',\n",
              " 'acfh': 'ach',\n",
              " 'acree': 'agree',\n",
              " 'adec': 'dec',\n",
              " 'adfg': 'affg',\n",
              " 'adot': 'adopt',\n",
              " 'adventism': 'advertise',\n",
              " 'agdc': 'adc',\n",
              " 'agirl': 'girl',\n",
              " 'agrium': 'atrium',\n",
              " 'ahfc': 'afc',\n",
              " 'ahomepage': 'homepage',\n",
              " 'ahtna': 'ahna',\n",
              " 'aidea': 'idea',\n",
              " 'aislin': 'airline',\n",
              " 'akana': 'asana',\n",
              " 'akgen': 'agen',\n",
              " 'akjen': 'aken',\n",
              " 'akleg': 'alleg',\n",
              " 'aklng': 'akong',\n",
              " 'akmk': 'amk',\n",
              " 'akrr': 'arr',\n",
              " 'alayhis': 'anlaysis',\n",
              " 'albertan': 'alberta',\n",
              " 'albertans': 'alberta',\n",
              " 'alceste': 'lacoste',\n",
              " 'alethia': 'alstria',\n",
              " 'aleutians': 'alsatians',\n",
              " 'allepo': 'allege',\n",
              " 'almandinger': 'almandine',\n",
              " 'amarcas': 'maracas',\n",
              " 'ambba': 'abba',\n",
              " 'amhs': 'amps',\n",
              " 'ammosexual': 'homosexual',\n",
              " 'ammosexuals': 'homosexuals',\n",
              " 'amoris': 'adores',\n",
              " 'amylou': 'amyloid',\n",
              " 'anbang': 'abang',\n",
              " 'anch': 'inch',\n",
              " 'ancsa': 'angst',\n",
              " 'angda': 'anda',\n",
              " 'anilca': 'vanilla',\n",
              " 'anmc': 'anc',\n",
              " 'annieo': 'annie',\n",
              " 'anonaj': 'anon',\n",
              " 'anosh': 'nosh',\n",
              " 'ansca': 'ans',\n",
              " 'anthc': 'antic',\n",
              " 'aoga': 'yoga',\n",
              " 'aogcc': 'logic',\n",
              " 'apfc': 'afc',\n",
              " 'aplc': 'plc',\n",
              " 'apostolicae': 'apostolic',\n",
              " 'aptn': 'apt',\n",
              " 'arriola': 'arrival',\n",
              " 'asaa': 'asap',\n",
              " 'asrc': 'arc',\n",
              " 'atka': 'aka',\n",
              " 'atoday': 'today',\n",
              " 'aulani': 'alumni',\n",
              " 'aupuni': 'kupuna',\n",
              " 'autzen': 'nutzen',\n",
              " 'auwe': 'awe',\n",
              " 'avakian': 'avian',\n",
              " 'avvo': 'arvo',\n",
              " 'awwu': 'aww',\n",
              " 'baranof': 'barato',\n",
              " 'bbnb': 'bbb',\n",
              " 'bcers': 'beers',\n",
              " 'beegor': 'beer',\n",
              " 'beeley': 'berley',\n",
              " 'begich': 'begin',\n",
              " 'bellotti': 'bellota',\n",
              " 'beltrami': 'beltran',\n",
              " 'bengazi': 'bengali',\n",
              " 'berkie': 'bernie',\n",
              " 'berky': 'berry',\n",
              " 'beyonc': 'beyond',\n",
              " 'bigly': 'billy',\n",
              " 'bigoil': 'boil',\n",
              " 'bluecrest': 'bluesfest',\n",
              " 'boec': 'boe',\n",
              " 'boyst': 'boys',\n",
              " 'bradner': 'brainer',\n",
              " 'bragaw': 'brag',\n",
              " 'brailey': 'bailey',\n",
              " 'brazille': 'braille',\n",
              " 'brexit': 'credit',\n",
              " 'brison': 'prison',\n",
              " 'buchannon': 'buchanan',\n",
              " 'budsie': 'budgie',\n",
              " 'buist': 'built',\n",
              " 'bumpas': 'bumps',\n",
              " 'bundys': 'bunds',\n",
              " 'bussell': 'russell',\n",
              " 'bxvi': 'xvi',\n",
              " 'caelus': 'callus',\n",
              " 'caiside': 'aside',\n",
              " 'caldwells': 'caldwell',\n",
              " 'camh': 'came',\n",
              " 'carberry': 'barberry',\n",
              " 'carbonism': 'carbons',\n",
              " 'cassens': 'cases',\n",
              " 'catou': 'cato',\n",
              " 'cbsnews': 'cashews',\n",
              " 'cdbg': 'dog',\n",
              " 'cean': 'can',\n",
              " 'centene': 'center',\n",
              " 'chaffetz': 'chametz',\n",
              " 'chaput': 'caput',\n",
              " 'charamsa': 'charisma',\n",
              " 'chenault': 'renault',\n",
              " 'chouest': 'honest',\n",
              " 'chrisinak': 'christina',\n",
              " 'chrystia': 'christian',\n",
              " 'chugiak': 'chugga',\n",
              " 'chuitna': 'china',\n",
              " 'chukchi': 'church',\n",
              " 'cizmar': 'cigar',\n",
              " 'clallam': 'challan',\n",
              " 'clickbait': 'linkbait',\n",
              " 'cliven': 'liven',\n",
              " 'cnsnews': 'cashews',\n",
              " 'coer': 'cover',\n",
              " 'coghill': 'chill',\n",
              " 'colkoch': 'cooch',\n",
              " 'colver': 'cover',\n",
              " 'conald': 'donald',\n",
              " 'congar': 'cougar',\n",
              " 'conrow': 'cornrow',\n",
              " 'consortio': 'consortia',\n",
              " 'corbeil': 'corbel',\n",
              " 'corbell': 'cowbell',\n",
              " 'cossman': 'bossman',\n",
              " 'courtview': 'courtier',\n",
              " 'cowdery': 'powdery',\n",
              " 'craigers': 'trainers',\n",
              " 'crimeans': 'crimes',\n",
              " 'cubin': 'cabin',\n",
              " 'cupich': 'rupiah',\n",
              " 'curiel': 'curies',\n",
              " 'cvrf': 'car',\n",
              " 'cydney': 'sydney',\n",
              " 'cylvia': 'sylvia',\n",
              " 'daesh': 'dash',\n",
              " 'danebo': 'gazebo',\n",
              " 'dapl': 'dal',\n",
              " 'dayem': 'dayer',\n",
              " 'debarr': 'debar',\n",
              " 'dedman': 'deadman',\n",
              " 'defazio': 'defacto',\n",
              " 'dejain': 'detain',\n",
              " 'demer': 'deer',\n",
              " 'demoski': 'demos',\n",
              " 'dennism': 'dennis',\n",
              " 'deplorables': 'deplorable',\n",
              " 'devolpers': 'developers',\n",
              " 'dhhl': 'dhol',\n",
              " 'dignitatis': 'dignitaries',\n",
              " 'dillary': 'hillary',\n",
              " 'djou': 'jou',\n",
              " 'dlnr': 'dlr',\n",
              " 'dolezal': 'doleful',\n",
              " 'donkel': 'donkey',\n",
              " 'donley': 'donkey',\n",
              " 'donlin': 'dunlin',\n",
              " 'doyon': 'doyen',\n",
              " 'dpuf': 'put',\n",
              " 'drumpf': 'dump',\n",
              " 'dtes': 'does',\n",
              " 'duii': 'dui',\n",
              " 'dumbya': 'dubya',\n",
              " 'duterte': 'detente',\n",
              " 'dylann': 'dylan',\n",
              " 'dzoz': 'doz',\n",
              " 'eble': 'able',\n",
              " 'edgmon': 'demon',\n",
              " 'eielson': 'nelson',\n",
              " 'ellmyer': 'eller',\n",
              " 'elvi': 'eli',\n",
              " 'elwha': 'alpha',\n",
              " 'emailgate': 'tailgate',\n",
              " 'emailid': 'emailed',\n",
              " 'encana': 'enchant',\n",
              " 'enstar': 'estar',\n",
              " 'epler': 'eller',\n",
              " 'epolls': 'polls',\n",
              " 'etfw': 'etf',\n",
              " 'eugenean': 'eugene',\n",
              " 'eugenians': 'eugenics',\n",
              " 'eugreen': 'green',\n",
              " 'eweb': 'web',\n",
              " 'exedus': 'exodus',\n",
              " 'fakenews': 'fakeness',\n",
              " 'fbks': 'fbs',\n",
              " 'ffrf': 'fff',\n",
              " 'fidelium': 'fidelity',\n",
              " 'fillon': 'billon',\n",
              " 'findlaw': 'inlaw',\n",
              " 'finicum': 'minimum',\n",
              " 'flexpipe': 'flextime',\n",
              " 'flotus': 'lotus',\n",
              " 'flq': 'fly',\n",
              " 'fluidyne': 'fluridone',\n",
              " 'flyguy': 'flyout',\n",
              " 'fnsb': 'fsb',\n",
              " 'fptp': 'ftp',\n",
              " 'freeheels': 'freewheel',\n",
              " 'fref': 'free',\n",
              " 'fstory': 'story',\n",
              " 'fuhs': 'fuss',\n",
              " 'furguson': 'ferguson',\n",
              " 'gabbard': 'aboard',\n",
              " 'gambell': 'gamble',\n",
              " 'gaslines': 'gasline',\n",
              " 'gattis': 'gatti',\n",
              " 'gegonos': 'gigolos',\n",
              " 'geissel': 'vessel',\n",
              " 'gennifer': 'jennifer',\n",
              " 'georgana': 'georgia',\n",
              " 'gfnc': 'gone',\n",
              " 'ghgs': 'gigs',\n",
              " 'ghomeshi': 'gomesi',\n",
              " 'giessel': 'vessel',\n",
              " 'gillam': 'pillar',\n",
              " 'globers': 'globes',\n",
              " 'golovin': 'lovin',\n",
              " 'goodale': 'goodbye',\n",
              " 'gopers': 'goers',\n",
              " 'gorrow': 'borrow',\n",
              " 'governmint': 'government',\n",
              " 'graykeeper': 'goalkeeper',\n",
              " 'greatwood': 'greenwood',\n",
              " 'greent': 'green',\n",
              " 'gripens': 'gripes',\n",
              " 'gruening': 'grueling',\n",
              " 'gubmut': 'submit',\n",
              " 'gulen': 'glen',\n",
              " 'gunton': 'union',\n",
              " 'hageland': 'homeland',\n",
              " 'halawa': 'halwa',\n",
              " 'halcro': 'macro',\n",
              " 'hanabusa': 'hanafuda',\n",
              " 'haunani': 'unani',\n",
              " 'hauula': 'haul',\n",
              " 'hawaiis': 'hawaii',\n",
              " 'haycox': 'paybox',\n",
              " 'heco': 'hero',\n",
              " 'heii': 'heir',\n",
              " 'heinzl': 'heil',\n",
              " 'hgea': 'hea',\n",
              " 'hhsc': 'hsc',\n",
              " 'hickel': 'nickel',\n",
              " 'higmans': 'humans',\n",
              " 'hillory': 'pillory',\n",
              " 'hilyard': 'halyard',\n",
              " 'hirono': 'hiring',\n",
              " 'hitlery': 'hitler',\n",
              " 'hodad': 'had',\n",
              " 'homeroid': 'homered',\n",
              " 'hoonah': 'hookah',\n",
              " 'hoopili': 'hoopla',\n",
              " 'hpid': 'hid',\n",
              " 'hsph': 'sph',\n",
              " 'hsta': 'hosta',\n",
              " 'huena': 'hyena',\n",
              " 'hussen': 'hussein',\n",
              " 'hvdc': 'hvac',\n",
              " 'icbms': 'items',\n",
              " 'icel': 'ice',\n",
              " 'iearned': 'earned',\n",
              " 'ieso': 'peso',\n",
              " 'ignatian': 'ignition',\n",
              " 'ikaika': 'kaka',\n",
              " 'iliamna': 'liana',\n",
              " 'imbelli': 'belli',\n",
              " 'imhof': 'imho',\n",
              " 'imig': 'img',\n",
              " 'imua': 'ima',\n",
              " 'incart': 'intact',\n",
              " 'ingra': 'intra',\n",
              " 'inshaa': 'insula',\n",
              " 'inslee': 'inside',\n",
              " 'iolani': 'solani',\n",
              " 'irgun': 'airgun',\n",
              " 'isil': 'sil',\n",
              " 'itsme': 'itse',\n",
              " 'iwasa': 'wasa',\n",
              " 'iwase': 'iwas',\n",
              " 'ixzz': 'izz',\n",
              " 'jaquiss': 'maquis',\n",
              " 'jber': 'uber',\n",
              " 'jetrx': 'jet',\n",
              " 'jimmee': 'gimmee',\n",
              " 'jinping': 'jinking',\n",
              " 'jjp': 'hjp',\n",
              " 'jobss': 'jobs',\n",
              " 'jpd': 'bpd',\n",
              " 'jpii': 'join',\n",
              " 'jpz': 'jpg',\n",
              " 'junia': 'junta',\n",
              " 'justia': 'justin',\n",
              " 'jwn': 'own',\n",
              " 'kaanui': 'kanji',\n",
              " 'kabata': 'kabaka',\n",
              " 'kabib': 'kabob',\n",
              " 'kaimuki': 'kabuki',\n",
              " 'kakaako': 'kakapo',\n",
              " 'kaladi': 'kavadi',\n",
              " 'kalakaua': 'katakana',\n",
              " 'kalihi': 'alibi',\n",
              " 'kamana': 'katana',\n",
              " 'karluk': 'taluk',\n",
              " 'keala': 'koala',\n",
              " 'keali': 'kali',\n",
              " 'kealoha': 'aloha',\n",
              " 'kearon': 'karon',\n",
              " 'kelii': 'kelli',\n",
              " 'kellsie': 'sellside',\n",
              " 'kenoi': 'keno',\n",
              " 'kezi': 'kei',\n",
              " 'khalas': 'koalas',\n",
              " 'khizr': 'whiz',\n",
              " 'kilcher': 'pitcher',\n",
              " 'kilchers': 'pitchers',\n",
              " 'killary': 'hillary',\n",
              " 'killery': 'killer',\n",
              " 'kinew': 'knew',\n",
              " 'kirky': 'kinky',\n",
              " 'kitv': 'kit',\n",
              " 'kivalina': 'rivaling',\n",
              " 'klinton': 'clinton',\n",
              " 'knik': 'knit',\n",
              " 'kochs': 'lochs',\n",
              " 'kohring': 'soaring',\n",
              " 'komrad': 'comrade',\n",
              " 'koncerned': 'concerned',\n",
              " 'kotek': 'kopek',\n",
              " 'kpb': 'kph',\n",
              " 'kropar': 'proper',\n",
              " 'ktoo': 'too',\n",
              " 'ktuu': 'tug',\n",
              " 'ktva': 'kava',\n",
              " 'kulluk': 'pullup',\n",
              " 'kval': 'oval',\n",
              " 'kwax': 'wax',\n",
              " 'lahui': 'rahui',\n",
              " 'landfield': 'landfill',\n",
              " 'landow': 'lando',\n",
              " 'laudato': 'laudatory',\n",
              " 'laureli': 'laurels',\n",
              " 'lavoy': 'savoy',\n",
              " 'lbgt': 'lgbt',\n",
              " 'lcbc': 'libc',\n",
              " 'lcfm': 'cfm',\n",
              " 'leiken': 'liken',\n",
              " 'lepine': 'lupine',\n",
              " 'lesil': 'less',\n",
              " 'lieberal': 'liberal',\n",
              " 'lieberals': 'liberals',\n",
              " 'limpbaugh': 'limbaugh',\n",
              " 'lindauer': 'lindane',\n",
              " 'lindbeck': 'lineback',\n",
              " 'lios': 'lies',\n",
              " 'llyxw': 'lly',\n",
              " 'lorane': 'loran',\n",
              " 'lotl': 'lot',\n",
              " 'lrapa': 'lapa',\n",
              " 'lubick': 'quick',\n",
              " 'lukens': 'likens',\n",
              " 'lwv': 'luv',\n",
              " 'lyft': 'left',\n",
              " 'mahawker': 'hawker',\n",
              " 'mallot': 'ballot',\n",
              " 'mallott': 'ballot',\n",
              " 'malosi': 'malos',\n",
              " 'mansbridge': 'landbridge',\n",
              " 'maoli': 'mali',\n",
              " 'mariota': 'marina',\n",
              " 'masalaam': 'masala',\n",
              " 'mccleary': 'cleary',\n",
              " 'mcdowall': 'mcdonald',\n",
              " 'mcelwee': 'melee',\n",
              " 'mcmullin': 'cullin',\n",
              " 'medred': 'metred',\n",
              " 'megantic': 'gigantic',\n",
              " 'meggsy': 'eggs',\n",
              " 'melanistically': 'mechanistically',\n",
              " 'miccichi': 'pichichi',\n",
              " 'millsie': 'millsite',\n",
              " 'minnery': 'ginnery',\n",
              " 'minshall': 'install',\n",
              " 'mlse': 'else',\n",
              " 'mnuchin': 'munching',\n",
              " 'mocanic': 'mechanic',\n",
              " 'mokantx': 'movant',\n",
              " 'molinar': 'bolivar',\n",
              " 'moloka': 'polka',\n",
              " 'monegan': 'longan',\n",
              " 'moneybay': 'moneybag',\n",
              " 'monsef': 'money',\n",
              " 'montr': 'month',\n",
              " 'motele': 'motel',\n",
              " 'mufi': 'mufti',\n",
              " 'mulcair': 'mulcher',\n",
              " 'munth': 'month',\n",
              " 'mupte': 'mute',\n",
              " 'muzzo': 'mezzo',\n",
              " 'mydemocracy': 'democracy',\n",
              " 'mystrom': 'strom',\n",
              " 'naddaway': 'fadeaway',\n",
              " 'nageak': 'nagar',\n",
              " 'naknek': 'naked',\n",
              " 'nationalpost': 'nationalist',\n",
              " 'nbcnews': 'nwanews',\n",
              " 'ncregister': 'register',\n",
              " 'nenana': 'zenana',\n",
              " 'nenshi': 'sensei',\n",
              " 'newsminer': 'newsmaker',\n",
              " 'nextera': 'extra',\n",
              " 'nikiski': 'rikishi',\n",
              " 'nixle': 'nile',\n",
              " 'nmfs': 'ntfs',\n",
              " 'noelani': 'nolan',\n",
              " 'notely': 'nately',\n",
              " 'notley': 'motley',\n",
              " 'nslope': 'slope',\n",
              " 'nugt': 'nut',\n",
              " 'nuland': 'ngland',\n",
              " 'nulato': 'mulato',\n",
              " 'nurnie': 'nurse',\n",
              " 'nusra': 'nurse',\n",
              " 'nylander': 'cylinder',\n",
              " 'oahe': 'othe',\n",
              " 'oakway': 'away',\n",
              " 'obobba': 'bobby',\n",
              " 'obomba': 'bomba',\n",
              " 'obooba': 'boobs',\n",
              " 'obuma': 'obama',\n",
              " 'occc': 'ccc',\n",
              " 'ocid': 'acid',\n",
              " 'odfw': 'odf',\n",
              " 'oilco': 'oilcos',\n",
              " 'oilies': 'lilies',\n",
              " 'okimoto': 'kimono',\n",
              " 'olcc': 'occ',\n",
              " 'oleary': 'bleary',\n",
              " 'olrun': 'run',\n",
              " 'omidyar': 'midyear',\n",
              " 'ontarian': 'contrarian',\n",
              " 'ontarians': 'contrarians',\n",
              " 'ontarios': 'ontario',\n",
              " 'ontariowe': 'ontario',\n",
              " 'opono': 'pono',\n",
              " 'ordinatio': 'ordination',\n",
              " 'oregonians': 'gorgonians',\n",
              " 'otness': 'hotness',\n",
              " 'paktech': 'patch',\n",
              " 'pallister': 'pollster',\n",
              " 'payme': 'payee',\n",
              " 'pbot': 'plot',\n",
              " 'pcan': 'can',\n",
              " 'penair': 'openair',\n",
              " 'pentin': 'pectin',\n",
              " 'peotus': 'potus',\n",
              " 'perlow': 'period',\n",
              " 'persily': 'perkily',\n",
              " 'petrine': 'peering',\n",
              " 'pgtype': 'type',\n",
              " 'pikka': 'pika',\n",
              " 'pitner': 'pinner',\n",
              " 'planktown': 'plankton',\n",
              " 'pldc': 'plc',\n",
              " 'pmnm': 'pmpm',\n",
              " 'pofd': 'pond',\n",
              " 'polisubs': 'polishes',\n",
              " 'poloz': 'polo',\n",
              " 'pomv': 'pomp',\n",
              " 'portlanders': 'outlanders',\n",
              " 'premera': 'primera',\n",
              " 'prevo': 'prev',\n",
              " 'priebus': 'priests',\n",
              " 'prukop': 'prop',\n",
              " 'puana': 'prana',\n",
              " 'publis': 'public',\n",
              " 'pueo': 'puro',\n",
              " 'punahou': 'punchout',\n",
              " 'purg': 'pure',\n",
              " 'putins': 'puting',\n",
              " 'qky': 'sky',\n",
              " 'quyana': 'quant',\n",
              " 'rahner': 'rather',\n",
              " 'rampell': 'ramped',\n",
              " 'raqqa': 'aqua',\n",
              " 'rauscher': 'rancher',\n",
              " 'ravn': 'ran',\n",
              " 'rayonier': 'rainier',\n",
              " 'rcaf': 'caf',\n",
              " 'reedsport': 'reexport',\n",
              " 'reince': 'rence',\n",
              " 'rempel': 'repel',\n",
              " 'republicant': 'republican',\n",
              " 'repugnican': 'republican',\n",
              " 'repugnicans': 'republicans',\n",
              " 'rhyner': 'rhymer',\n",
              " 'riek': 'risk',\n",
              " 'ritte': 'rite',\n",
              " 'rmiller': 'miller',\n",
              " 'rodell': 'model',\n",
              " 'rogoff': 'logoff',\n",
              " 'rohlfing': 'rolfing',\n",
              " 'rorate': 'rotate',\n",
              " 'roskell': 'resell',\n",
              " 'ruderman': 'alderman',\n",
              " 'rumph': 'rump',\n",
              " 'rwnj': 'run',\n",
              " 'ryanc': 'ryan',\n",
              " 'rygaard': 'regard',\n",
              " 'sacerdotalis': 'sacerdotal',\n",
              " 'sarasi': 'sarai',\n",
              " 'satkins': 'satins',\n",
              " 'saullie': 'sullied',\n",
              " 'schlafly': 'scholarly',\n",
              " 'schor': 'chor',\n",
              " 'schurtz': 'schultz',\n",
              " 'scoc': 'soc',\n",
              " 'sdas': 'seas',\n",
              " 'sealaska': 'alaska',\n",
              " 'secdef': 'secret',\n",
              " 'secstate': 'estate',\n",
              " 'sehs': 'sets',\n",
              " 'selko': 'sell',\n",
              " 'seneff': 'sniff',\n",
              " 'servative': 'derivative',\n",
              " 'sharlow': 'shallow',\n",
              " 'shfri': 'shri',\n",
              " 'shibai': 'shiba',\n",
              " 'shillary': 'hillary',\n",
              " 'shopo': 'shop',\n",
              " 'shurtz': 'short',\n",
              " 'siluria': 'filaria',\n",
              " 'silverhorn': 'silverwork',\n",
              " 'simsub': 'sims',\n",
              " 'sjws': 'saws',\n",
              " 'skankles': 'ankles',\n",
              " 'skinnerak': 'skinner',\n",
              " 'skov': 'kov',\n",
              " 'slom': 'slow',\n",
              " 'slovic': 'slavic',\n",
              " 'socialst': 'socialist',\n",
              " 'sodano': 'sedan',\n",
              " 'souki': 'souk',\n",
              " 'spadaro': 'sadar',\n",
              " 'spenak': 'speak',\n",
              " 'spenard': 'spend',\n",
              " 'splc': 'plc',\n",
              " 'splcenter': 'epicenter',\n",
              " 'sponberg': 'spongers',\n",
              " 'spraker': 'speaker',\n",
              " 'squareone': 'squalene',\n",
              " 'srsr': 'srs',\n",
              " 'statscan': 'statesman',\n",
              " 'steyer': 'steer',\n",
              " 'sthash': 'stash',\n",
              " 'stiggin': 'stinging',\n",
              " 'stoltze': 'stole',\n",
              " 'stutes': 'states',\n",
              " 'suncor': 'succor',\n",
              " 'supct': 'supt',\n",
              " 'susitna': 'sestina',\n",
              " 'syrett': 'street',\n",
              " 'taketa': 'taketh',\n",
              " 'tetpon': 'weapon',\n",
              " 'tfsa': 'tsa',\n",
              " 'tfws': 'tows',\n",
              " 'thestar': 'thestart',\n",
              " 'thielen': 'thieves',\n",
              " 'thirdrock': 'hardrock',\n",
              " 'thrope': 'throne',\n",
              " 'tilikum': 'cilium',\n",
              " 'tillerson': 'tillers',\n",
              " 'tillion': 'million',\n",
              " 'tnrm': 'term',\n",
              " 'togiak': 'toga',\n",
              " 'toksook': 'forsook',\n",
              " 'tokuda': 'okada',\n",
              " 'tompaine': 'topline',\n",
              " 'tongass': 'tongas',\n",
              " 'tosc': 'toss',\n",
              " 'tracktown': 'crackdown',\n",
              " 'trudope': 'troupe',\n",
              " 'trum': 'true',\n",
              " 'trumpcare': 'trumpcard',\n",
              " 'trumpers': 'trumpets',\n",
              " 'trumpette': 'trumpet',\n",
              " 'trumpettes': 'trumpeted',\n",
              " 'trumpf': 'trump',\n",
              " 'trumpian': 'trumping',\n",
              " 'trumpians': 'trumping',\n",
              " 'trumpies': 'trumpet',\n",
              " 'trumpish': 'trumps',\n",
              " 'trumpism': 'trumps',\n",
              " 'trumpists': 'trumpets',\n",
              " 'trumpites': 'trumpeted',\n",
              " 'trumpity': 'trumpet',\n",
              " 'trumpkin': 'pumpkin',\n",
              " 'trumpkins': 'pumpkins',\n",
              " 'trumpland': 'trumpcard',\n",
              " 'trumpo': 'trump',\n",
              " 'trumpski': 'trumps',\n",
              " 'trumpster': 'trumpeter',\n",
              " 'trumpsters': 'trumpeters',\n",
              " 'trumptards': 'trumpcard',\n",
              " 'trumpty': 'trumpet',\n",
              " 'trumpy': 'trump',\n",
              " 'ttip': 'trip',\n",
              " 'tubania': 'titania',\n",
              " 'tullos': 'tulles',\n",
              " 'turdeau': 'bureau',\n",
              " 'turdo': 'turbo',\n",
              " 'twimg': 'twig',\n",
              " 'twitler': 'twitter',\n",
              " 'twsrc': 'twirl',\n",
              " 'tyonek': 'tone',\n",
              " 'ucida': 'lucida',\n",
              " 'ugb': 'ugh',\n",
              " 'uhfamily': 'family',\n",
              " 'umed': 'used',\n",
              " 'umiat': 'unit',\n",
              " 'unalaska': 'alaska',\n",
              " 'unpresidented': 'unprecidented',\n",
              " 'unscom': 'discom',\n",
              " 'uof': 'sof',\n",
              " 'uofo': 'mofo',\n",
              " 'uoregon': 'oregon',\n",
              " 'uplander': 'planner',\n",
              " 'uscourts': 'courts',\n",
              " 'usfws': 'users',\n",
              " 'utilitas': 'utilites',\n",
              " 'utpb': 'tpb',\n",
              " 'vawa': 'awa',\n",
              " 'veco': 'veto',\n",
              " 'veritatis': 'veritas',\n",
              " 'vinis': 'vines',\n",
              " 'vogler': 'voter',\n",
              " 'vpso': 'vps',\n",
              " 'vpsos': 'ipsos',\n",
              " 'waihee': 'waited',\n",
              " 'wakea': 'wake',\n",
              " 'walloons': 'balloons',\n",
              " 'watana': 'katana',\n",
              " 'wavemaker': 'pacemaker',\n",
              " 'weddleton': 'middleton',\n",
              " 'wespac': 'webspace',\n",
              " 'whazzie': 'wharfie',\n",
              " 'whazzup': 'whassup',\n",
              " 'whetham': 'whether',\n",
              " 'whiteaker': 'hitmaker',\n",
              " 'whitekeys': 'whiskeys',\n",
              " 'whitelash': 'whitewash',\n",
              " 'wildish': 'widish',\n",
              " 'wltdo': 'outdo',\n",
              " 'woahink': 'wahine',\n",
              " 'wuerl': 'were',\n",
              " 'wuwt': 'wut',\n",
              " 'wweek': 'week',\n",
              " 'wynnes': 'winner',\n",
              " 'wynnie': 'winnie',\n",
              " 'yakutat': 'yakuza',\n",
              " 'yamal': 'kamal',\n",
              " 'yaqoob': 'yahoo',\n",
              " 'ycl': 'cl',\n",
              " 'yellen': 'yelled',\n",
              " 'ykhc': 'ypc',\n",
              " 'youtu': 'youth',\n",
              " 'yuge': 'huge',\n",
              " 'yupik': 'pupil',\n",
              " 'zagano': 'pagan',\n",
              " 'zeifman': 'heisman',\n",
              " 'zelenka': 'selena',\n",
              " 'zenger': 'zinger',\n",
              " 'zinke': 'zine',\n",
              " 'zirkle': 'circle',\n",
              " 'zuyus': 'guys'}"
            ]
          },
          "metadata": {
            "tags": []
          },
          "execution_count": 63
        }
      ]
    },
    {
      "cell_type": "code",
      "metadata": {
        "id": "_0AvLz2kMknz",
        "colab_type": "code",
        "colab": {}
      },
      "source": [
        "# Replace mispellings according to the dictionary\n",
        "train_data.comment_text = train_data.comment_text.apply(lambda x: replace_typical_misspell(x))\n"
      ],
      "execution_count": 0,
      "outputs": []
    },
    {
      "cell_type": "code",
      "metadata": {
        "id": "vhf6sxUorKo7",
        "colab_type": "code",
        "outputId": "88905f9c-6102-4e1d-bdc4-9b001af78ba2",
        "colab": {
          "base_uri": "https://localhost:8080/",
          "height": 36
        }
      },
      "source": [
        "# Delete nun-needed libraries\n",
        "del mispell_dict, WORDS, words, w_rank, model, pool,Pool, corrected_words, itemgetter\n",
        "\n",
        "gc.collect()"
      ],
      "execution_count": 0,
      "outputs": [
        {
          "output_type": "execute_result",
          "data": {
            "text/plain": [
              "0"
            ]
          },
          "metadata": {
            "tags": []
          },
          "execution_count": 66
        }
      ]
    },
    {
      "cell_type": "code",
      "metadata": {
        "id": "KZEk3T7sYbo5",
        "colab_type": "code",
        "colab": {}
      },
      "source": [
        "#%whos"
      ],
      "execution_count": 0,
      "outputs": []
    },
    {
      "cell_type": "markdown",
      "metadata": {
        "id": "UpVcXoxmmHyq",
        "colab_type": "text"
      },
      "source": [
        "### Visualize most common words"
      ]
    },
    {
      "cell_type": "markdown",
      "metadata": {
        "id": "CXu0iDBuuHp2",
        "colab_type": "text"
      },
      "source": [
        "from nltk.corpus import stopwords\n",
        "nltk.download('stopwords')\n",
        "import gensim\n",
        "from gensim.utils import simple_preprocess\n",
        "from gensim.parsing.preprocessing import STOPWORDS\n",
        "from nltk.stem import WordNetLemmatizer, SnowballStemmer\n",
        "from nltk.tokenize import word_tokenize\n",
        "\n",
        "\n",
        "stop_words = stopwords.words('english')\n"
      ]
    },
    {
      "cell_type": "markdown",
      "metadata": {
        "id": "RnfI079TuHp8",
        "colab_type": "text"
      },
      "source": [
        "-# Tokenize the comment text\n",
        "tok_comments = [word_tokenize(com) for com in train_data.comment_text]\n"
      ]
    },
    {
      "cell_type": "markdown",
      "metadata": {
        "id": "WFf-AW6buHqF",
        "colab_type": "text"
      },
      "source": [
        "-# Remove stopwords\n",
        "tokens = [[w for w in s if (w not in stop_words) & (len(w)>2)] for s in tok_comments]"
      ]
    },
    {
      "cell_type": "markdown",
      "metadata": {
        "id": "KUTiFWj-uHqM",
        "colab_type": "text"
      },
      "source": [
        "from nltk.probability import FreqDist"
      ]
    },
    {
      "cell_type": "markdown",
      "metadata": {
        "id": "blvD5npNuHqn",
        "colab_type": "text"
      },
      "source": [
        "-#plot the most frequent words\n",
        "tokens = np.array([np.array(s) for s in tokens])\n",
        "fdist = FreqDist(np.concatenate(tokens))\n",
        "fdist.plot(30,cumulative=False)\n",
        "plt.show()"
      ]
    },
    {
      "cell_type": "markdown",
      "metadata": {
        "id": "3Azz_at1uHqz",
        "colab_type": "text"
      },
      "source": [
        "-#plot the most frequent word pairs\n",
        "from nltk import bigrams, ngrams\n",
        "bigrams_tokens = bigrams(np.concatenate(tokens))\n",
        "fdist_bigrams = FreqDist(list(bigrams_tokens))\n",
        "fdist_bigrams.plot(30,cumulative=False)\n",
        "plt.show()"
      ]
    },
    {
      "cell_type": "markdown",
      "metadata": {
        "id": "HJBhQF02uHtI",
        "colab_type": "text"
      },
      "source": [
        "from collections import Counter"
      ]
    },
    {
      "cell_type": "markdown",
      "metadata": {
        "id": "xrYju3MguHtK",
        "colab_type": "text"
      },
      "source": [
        "from gensim.corpora.dictionary import Dictionary"
      ]
    },
    {
      "cell_type": "markdown",
      "metadata": {
        "id": "pnKwn5hhuHtM",
        "colab_type": "text"
      },
      "source": [
        "dictionary = Dictionary(tok_comments)"
      ]
    },
    {
      "cell_type": "markdown",
      "metadata": {
        "id": "9OcPgm-MuHtU",
        "colab_type": "text"
      },
      "source": [
        "dictionary.token2id"
      ]
    },
    {
      "cell_type": "markdown",
      "metadata": {
        "id": "_x6HUuE5uHta",
        "colab_type": "text"
      },
      "source": [
        "corpus = [dictionary.doc2bow(com) for com in tok_comments]"
      ]
    },
    {
      "cell_type": "markdown",
      "metadata": {
        "id": "z_57wPVTcXl2",
        "colab_type": "text"
      },
      "source": [
        "## Feature engineering"
      ]
    },
    {
      "cell_type": "code",
      "metadata": {
        "id": "YvM7hlPlaVR7",
        "colab_type": "code",
        "colab": {}
      },
      "source": [
        "from textblob import TextBlob\n",
        "\n",
        "# Make use of the build in Text Blob sensitivity features to add them towards a model\n",
        "train_data['polarity'] = train_data['comment_text'].apply(lambda com: TextBlob(com).sentiment.polarity)\n",
        "train_data['subjectivity'] = train_data['comment_text'].apply(lambda com: TextBlob(com).sentiment.subjectivity)\n",
        "del TextBlob"
      ],
      "execution_count": 0,
      "outputs": []
    },
    {
      "cell_type": "markdown",
      "metadata": {
        "id": "OBQbbyTdmhGJ",
        "colab_type": "text"
      },
      "source": [
        "## Count vectorizer"
      ]
    },
    {
      "cell_type": "markdown",
      "metadata": {
        "id": "zpxeU7jtmoWc",
        "colab_type": "text"
      },
      "source": [
        "#### Vectorize"
      ]
    },
    {
      "cell_type": "code",
      "metadata": {
        "id": "Dj9PCJi6uHue",
        "colab_type": "code",
        "colab": {}
      },
      "source": [
        "from sklearn.model_selection import train_test_split\n",
        "from sklearn.feature_extraction.text import CountVectorizer\n",
        "from sklearn.feature_extraction.text import TfidfVectorizer\n",
        "from sklearn.linear_model import LogisticRegression\n",
        "from sklearn import metrics\n"
      ],
      "execution_count": 0,
      "outputs": []
    },
    {
      "cell_type": "code",
      "metadata": {
        "id": "ygsUJpPTuHun",
        "colab_type": "code",
        "colab": {}
      },
      "source": [
        "# Separate the target variable into a binary output variable to fit to logistic regression and other clasification models\n",
        "y = np.where(train_data.target>0.5,1, 0 )"
      ],
      "execution_count": 0,
      "outputs": []
    },
    {
      "cell_type": "markdown",
      "metadata": {
        "id": "X0ws42nOuHuw",
        "colab_type": "text"
      },
      "source": [
        "Using count vectorizer"
      ]
    },
    {
      "cell_type": "code",
      "metadata": {
        "id": "tK5_rZTpuHuz",
        "colab_type": "code",
        "colab": {}
      },
      "source": [
        "# Initiate the count vectorizer\n",
        "count_vectorizer = CountVectorizer(stop_words='english') #, max_features=1000\n",
        "# Create a count_vectorizer for out dataset\n",
        "count_data = count_vectorizer.fit_transform(train_data.comment_text.values)\n"
      ],
      "execution_count": 0,
      "outputs": []
    },
    {
      "cell_type": "code",
      "metadata": {
        "id": "L_XVSgZ4I9-N",
        "colab_type": "code",
        "colab": {}
      },
      "source": [
        "#count_data_arr = count_data.toarray()"
      ],
      "execution_count": 0,
      "outputs": []
    },
    {
      "cell_type": "code",
      "metadata": {
        "id": "DbuaS7Tx-a6_",
        "colab_type": "code",
        "colab": {}
      },
      "source": [
        "#count_data_df = pd.DataFrame(count_data_arr)"
      ],
      "execution_count": 0,
      "outputs": []
    },
    {
      "cell_type": "code",
      "metadata": {
        "id": "RWyzxPp50Y3x",
        "colab_type": "code",
        "colab": {}
      },
      "source": [
        "#del count_vectorizer"
      ],
      "execution_count": 0,
      "outputs": []
    },
    {
      "cell_type": "code",
      "metadata": {
        "id": "05_bhOU4y4B4",
        "colab_type": "code",
        "colab": {}
      },
      "source": [
        "#add_features = ['polarity', 'subjectivity']\n",
        "#count_data = pd.concat([count_data_df,train_data.loc[:, add_features]], axis=1)"
      ],
      "execution_count": 0,
      "outputs": []
    },
    {
      "cell_type": "code",
      "metadata": {
        "id": "ipeHvoMRCzPz",
        "colab_type": "code",
        "colab": {}
      },
      "source": [
        "# Do we need scaling??\n",
        "\n",
        "# Feature Scaling\n",
        "#from sklearn.preprocessing import StandardScaler\n",
        "#sc = StandardScaler()\n",
        "#count_data = sc.fit_transform(count_data)"
      ],
      "execution_count": 0,
      "outputs": []
    },
    {
      "cell_type": "code",
      "metadata": {
        "id": "YaXfCT1NuHu-",
        "colab_type": "code",
        "colab": {}
      },
      "source": [
        "# Do a train-test-split on the counted data\n",
        "X_train_c, X_test_c, y_train_c, y_test_c = train_test_split(count_data, y, test_size=0.2, random_state=42)"
      ],
      "execution_count": 0,
      "outputs": []
    },
    {
      "cell_type": "markdown",
      "metadata": {
        "id": "H6nkqfDynPLc",
        "colab_type": "text"
      },
      "source": [
        "#### Logistic regression"
      ]
    },
    {
      "cell_type": "code",
      "metadata": {
        "id": "rhRccOdLuHwI",
        "colab_type": "code",
        "outputId": "56526c6b-86df-43bf-f7c7-f8e26ed01785",
        "colab": {
          "base_uri": "https://localhost:8080/",
          "height": 149
        }
      },
      "source": [
        "# Fit a first logictic regression model\n",
        "log = LogisticRegression()\n",
        "log.fit(X_train_c, y_train_c)\n"
      ],
      "execution_count": 0,
      "outputs": [
        {
          "output_type": "stream",
          "text": [
            "/usr/local/lib/python3.6/dist-packages/sklearn/linear_model/logistic.py:433: FutureWarning: Default solver will be changed to 'lbfgs' in 0.22. Specify a solver to silence this warning.\n",
            "  FutureWarning)\n"
          ],
          "name": "stderr"
        },
        {
          "output_type": "execute_result",
          "data": {
            "text/plain": [
              "LogisticRegression(C=1.0, class_weight=None, dual=False, fit_intercept=True,\n",
              "          intercept_scaling=1, max_iter=100, multi_class='warn',\n",
              "          n_jobs=None, penalty='l2', random_state=None, solver='warn',\n",
              "          tol=0.0001, verbose=0, warm_start=False)"
            ]
          },
          "metadata": {
            "tags": []
          },
          "execution_count": 84
        }
      ]
    },
    {
      "cell_type": "code",
      "metadata": {
        "id": "epvsFf8OuHwW",
        "colab_type": "code",
        "colab": {}
      },
      "source": [
        "# Predict on the text_set\n",
        "pred = log.predict(X_test_c)\n",
        "pred_prob = log.predict_proba(X_test_c)"
      ],
      "execution_count": 0,
      "outputs": []
    },
    {
      "cell_type": "code",
      "metadata": {
        "id": "NJdmU_4SuHwh",
        "colab_type": "code",
        "outputId": "e747615d-a9ca-46fe-85be-a5b379fc9045",
        "colab": {
          "base_uri": "https://localhost:8080/",
          "height": 36
        }
      },
      "source": [
        "#Get the accuracy\n",
        "metrics.accuracy_score(y_test_c, pred)"
      ],
      "execution_count": 0,
      "outputs": [
        {
          "output_type": "execute_result",
          "data": {
            "text/plain": [
              "0.95744"
            ]
          },
          "metadata": {
            "tags": []
          },
          "execution_count": 86
        }
      ]
    },
    {
      "cell_type": "code",
      "metadata": {
        "id": "8XeAWWsMuHw5",
        "colab_type": "code",
        "outputId": "5dde8799-a5c1-4347-d9c5-e5c1d19388a9",
        "colab": {
          "base_uri": "https://localhost:8080/",
          "height": 36
        }
      },
      "source": [
        "# Get the ROC AUC score\n",
        "metrics.roc_auc_score(y_test_c, pred)"
      ],
      "execution_count": 0,
      "outputs": [
        {
          "output_type": "execute_result",
          "data": {
            "text/plain": [
              "0.7337503728242796"
            ]
          },
          "metadata": {
            "tags": []
          },
          "execution_count": 87
        }
      ]
    },
    {
      "cell_type": "markdown",
      "metadata": {
        "id": "S7LlIB2pCWQI",
        "colab_type": "text"
      },
      "source": [
        "### Light GBM  - to be adapted to non binary Y variable, and loss function\n"
      ]
    },
    {
      "cell_type": "code",
      "metadata": {
        "id": "FxL4UG0LCbls",
        "colab_type": "code",
        "colab": {}
      },
      "source": [
        "#https://medium.com/@pushkarmandot/https-medium-com-pushkarmandot-what-is-lightgbm-how-to-implement-it-how-to-fine-tune-the-parameters-60347819b7fc\n",
        "import lightgbm as lgb\n",
        "\n",
        "d_train = lgb.Dataset(x_train, label=y_train)\n",
        "\n",
        "params = {}\n",
        "params['learning_rate'] = 0.003\n",
        "params['boosting_type'] = 'gbdt'\n",
        "params['objective'] = 'binary' # ADAPT\n",
        "params['metric'] = 'binary_logloss' # ADAPT\n",
        "params['sub_feature'] = 0.5\n",
        "params['num_leaves'] = 10\n",
        "params['min_data'] = 50\n",
        "params['max_depth'] = 10\n",
        "\n",
        "clf = lgb.train(params, d_train, 100)"
      ],
      "execution_count": 0,
      "outputs": []
    },
    {
      "cell_type": "code",
      "metadata": {
        "id": "QB2r5Ec0Clbu",
        "colab_type": "code",
        "colab": {}
      },
      "source": [
        "#Prediction\n",
        "y_pred=clf.predict(x_test)\n",
        "\n",
        "#convert into binary values\n",
        "\n",
        "for i in range(0,99):\n",
        "    if y_pred[i]>=.5:       # setting threshold to .5\n",
        "       y_pred[i]=1\n",
        "    else:  \n",
        "       y_pred[i]=0"
      ],
      "execution_count": 0,
      "outputs": []
    },
    {
      "cell_type": "code",
      "metadata": {
        "id": "l8Sum1rADf3S",
        "colab_type": "code",
        "colab": {}
      },
      "source": [
        "#Confusion matrix\n",
        "\n",
        "from sklearn.metrics import confusion_matrix\n",
        "cm = confusion_matrix(y_test, y_pred)\n",
        "\n",
        "#Accuracy\n",
        "\n",
        "from sklearn.metrics import accuracy_score\n",
        "accuracy=accuracy_score(y_pred,y_test)"
      ],
      "execution_count": 0,
      "outputs": []
    },
    {
      "cell_type": "markdown",
      "metadata": {
        "id": "0IUjT550DwSY",
        "colab_type": "text"
      },
      "source": [
        "Parameter Tuning:\n",
        "\n",
        "Data scientists always struggle in deciding when to use which parameter? and what should be the ideal value of that parameter?\n",
        "\n",
        "Following set of practices can be used to improve your model efficiency.\n",
        "\n",
        "    num_leaves: This is the main parameter to control the complexity of the tree model. Ideally, the value of num_leaves should be less than or equal to 2^(max_depth). Value more than this will result in overfitting.\n",
        "    min_data_in_leaf: Setting it to a large value can avoid growing too deep a tree, but may cause under-fitting. In practice, setting it to hundreds or thousands is enough for a large dataset.\n",
        "    max_depth: You also can use max_depth to limit the tree depth explicitly.\n",
        "\n",
        "For Faster Speed:\n",
        "\n",
        "    Use bagging by setting bagging_fraction and bagging_freq\n",
        "    Use feature sub-sampling by setting feature_fraction\n",
        "    Use small max_bin\n",
        "    Use save_binary to speed up data loading in future learning\n",
        "    Use parallel learning, refer to parallel learning guide.\n",
        "\n",
        "For better accuracy:\n",
        "\n",
        "    Use large max_bin (may be slower)\n",
        "    Use small learning_rate with large num_iterations\n",
        "    Use large num_leaves(may cause over-fitting)\n",
        "    Use bigger training data\n",
        "    Try dart\n",
        "    Try to use categorical feature directly\n",
        "\n",
        "To deal with over-fitting:\n",
        "\n",
        "    Use small max_bin\n",
        "    Use small num_leaves\n",
        "    Use min_data_in_leaf and min_sum_hessian_in_leaf\n",
        "    Use bagging by set bagging_fraction and bagging_freq\n",
        "    Use feature sub-sampling by set feature_fraction\n",
        "    Use bigger training data\n",
        "    Try lambda_l1, lambda_l2 and min_gain_to_split to regularization\n",
        "    Try max_depth to avoid growing deep tree\n",
        "\n",
        "Conclusion:\n",
        "\n",
        "I implemented LightGBM on multiple datasets and found that its accuracy challenged other boosting algorithms. From my experience, I will always recommend you to try this algorithm at least once.\n",
        "\n",
        "I hope you guys enjoyed this blog and it was useful to all. I would request you you to give suggestion which will help to improve this blog.\n",
        "\n",
        "Source: Microsoft LightGBM Documentation"
      ]
    },
    {
      "cell_type": "markdown",
      "metadata": {
        "id": "3Mg2mIr8mpnn",
        "colab_type": "text"
      },
      "source": [
        "## TFIDF vectorizer"
      ]
    },
    {
      "cell_type": "markdown",
      "metadata": {
        "id": "tNVzqAeOnn1n",
        "colab_type": "text"
      },
      "source": [
        "#### Vectorize"
      ]
    },
    {
      "cell_type": "code",
      "metadata": {
        "id": "y2FM9SMPuHxF",
        "colab_type": "code",
        "colab": {}
      },
      "source": [
        "tfidf_vectorizer = TfidfVectorizer(stop_words='english')\n",
        "tfidf_data = tfidf_vectorizer.fit_transform(train_data.comment_text.values)"
      ],
      "execution_count": 0,
      "outputs": []
    },
    {
      "cell_type": "code",
      "metadata": {
        "id": "eQe_dHKz3orK",
        "colab_type": "code",
        "outputId": "e4dcb2c7-2883-4e99-f677-dc334dae8d8b",
        "colab": {
          "base_uri": "https://localhost:8080/",
          "height": 54
        }
      },
      "source": [
        "tfidf_data"
      ],
      "execution_count": 0,
      "outputs": [
        {
          "output_type": "execute_result",
          "data": {
            "text/plain": [
              "<500000x129727 sparse matrix of type '<class 'numpy.float64'>'\n",
              "\twith 10555981 stored elements in Compressed Sparse Row format>"
            ]
          },
          "metadata": {
            "tags": []
          },
          "execution_count": 89
        }
      ]
    },
    {
      "cell_type": "code",
      "metadata": {
        "id": "ZiiA9vcIuHxQ",
        "colab_type": "code",
        "colab": {}
      },
      "source": [
        "X_train_t, X_test_t, y_train_t, y_test_t = train_test_split(tfidf_data, y, test_size=0.2, random_state=42)"
      ],
      "execution_count": 0,
      "outputs": []
    },
    {
      "cell_type": "markdown",
      "metadata": {
        "id": "e7MHMYUXntXZ",
        "colab_type": "text"
      },
      "source": [
        "#### Logistic regression"
      ]
    },
    {
      "cell_type": "code",
      "metadata": {
        "id": "-LnvWJkZuHxW",
        "colab_type": "code",
        "outputId": "34b6929a-021b-46b0-c292-46b6a769f257",
        "colab": {
          "base_uri": "https://localhost:8080/",
          "height": 149
        }
      },
      "source": [
        "log = LogisticRegression()\n",
        "log.fit(X_train_t, y_train_t)\n"
      ],
      "execution_count": 0,
      "outputs": [
        {
          "output_type": "stream",
          "text": [
            "/usr/local/lib/python3.6/dist-packages/sklearn/linear_model/logistic.py:433: FutureWarning: Default solver will be changed to 'lbfgs' in 0.22. Specify a solver to silence this warning.\n",
            "  FutureWarning)\n"
          ],
          "name": "stderr"
        },
        {
          "output_type": "execute_result",
          "data": {
            "text/plain": [
              "LogisticRegression(C=1.0, class_weight=None, dual=False, fit_intercept=True,\n",
              "          intercept_scaling=1, max_iter=100, multi_class='warn',\n",
              "          n_jobs=None, penalty='l2', random_state=None, solver='warn',\n",
              "          tol=0.0001, verbose=0, warm_start=False)"
            ]
          },
          "metadata": {
            "tags": []
          },
          "execution_count": 91
        }
      ]
    },
    {
      "cell_type": "code",
      "metadata": {
        "id": "UtK6n016uHyD",
        "colab_type": "code",
        "colab": {}
      },
      "source": [
        "pred = log.predict(X_test_t)"
      ],
      "execution_count": 0,
      "outputs": []
    },
    {
      "cell_type": "code",
      "metadata": {
        "id": "4D26jOu0uHyK",
        "colab_type": "code",
        "outputId": "3b8d3fea-29f6-488c-82d5-bb2058369902",
        "colab": {
          "base_uri": "https://localhost:8080/",
          "height": 36
        }
      },
      "source": [
        "metrics.accuracy_score(y_test_t, pred)"
      ],
      "execution_count": 0,
      "outputs": [
        {
          "output_type": "execute_result",
          "data": {
            "text/plain": [
              "0.95955"
            ]
          },
          "metadata": {
            "tags": []
          },
          "execution_count": 93
        }
      ]
    },
    {
      "cell_type": "code",
      "metadata": {
        "id": "h4oLI8ZduHyW",
        "colab_type": "code",
        "outputId": "ed473835-ca6b-4e04-fdf3-2b0a378c5bb1",
        "colab": {
          "base_uri": "https://localhost:8080/",
          "height": 36
        }
      },
      "source": [
        "metrics.roc_auc_score(y_test_t, pred)"
      ],
      "execution_count": 0,
      "outputs": [
        {
          "output_type": "execute_result",
          "data": {
            "text/plain": [
              "0.7040973935998638"
            ]
          },
          "metadata": {
            "tags": []
          },
          "execution_count": 94
        }
      ]
    },
    {
      "cell_type": "markdown",
      "metadata": {
        "id": "8ef_XewouHtG",
        "colab_type": "text"
      },
      "source": [
        "#### !! Use spacy to maybe correct only non-names"
      ]
    },
    {
      "cell_type": "markdown",
      "metadata": {
        "id": "FvUlKwVkuHtc",
        "colab_type": "text"
      },
      "source": [
        "## Word2Vec"
      ]
    },
    {
      "cell_type": "code",
      "metadata": {
        "id": "TTBwnbEnWzvX",
        "colab_type": "code",
        "colab": {}
      },
      "source": [
        "from gensim.models import Word2Vec"
      ],
      "execution_count": 0,
      "outputs": []
    },
    {
      "cell_type": "code",
      "metadata": {
        "id": "u0q9nJCCs-sE",
        "colab_type": "code",
        "outputId": "fc4a25c2-ec3e-439e-a7d4-191a3fb77177",
        "colab": {
          "base_uri": "https://localhost:8080/",
          "height": 559
        }
      },
      "source": [
        "\n",
        "# Tokenize the train data based on spaces\n",
        "tokenized_corpus = [[w for w in document.split(' ')] for document in train_data['comment_text']]\n"
      ],
      "execution_count": 0,
      "outputs": [
        {
          "output_type": "execute_result",
          "data": {
            "text/plain": [
              "[['cool',\n",
              "  'like',\n",
              "  'would',\n",
              "  'want',\n",
              "  'mother',\n",
              "  'read',\n",
              "  'really',\n",
              "  'great',\n",
              "  'idea',\n",
              "  'well',\n",
              "  'done',\n",
              "  ''],\n",
              " ['thank',\n",
              "  'would',\n",
              "  'make',\n",
              "  'life',\n",
              "  'lot',\n",
              "  'le',\n",
              "  'anxiety',\n",
              "  'inducing',\n",
              "  'keep',\n",
              "  'let',\n",
              "  'anyone',\n",
              "  'get',\n",
              "  'way',\n",
              "  ''],\n",
              " ['urgent', 'design', 'problem', 'kudos', 'taking', 'impressive', ''],\n",
              " ['something', 'able', 'install', 'site', 'releasing', ''],\n",
              " ['haha', 'guy', 'bunch', 'loser', '']]"
            ]
          },
          "metadata": {
            "tags": []
          },
          "execution_count": 96
        }
      ]
    },
    {
      "cell_type": "code",
      "metadata": {
        "id": "1j7S5WCTtFXr",
        "colab_type": "code",
        "colab": {}
      },
      "source": [
        "# Set values for various parameters\n",
        "feature_size = 100    # Word vector dimensionality  \n",
        "window_context = 5          # Context window size                                                                                    \n",
        "min_word_count = 1   # Minimum word count                        \n",
        "sample = 1e-3   # Downsample setting for frequent words\n",
        "\n",
        "#Create a word2vec model\n",
        "w2v_model = Word2Vec(tokenized_corpus, size=feature_size, \n",
        "                              window=window_context, min_count = min_word_count,\n",
        "                              sample=sample, iter=100)"
      ],
      "execution_count": 0,
      "outputs": []
    },
    {
      "cell_type": "markdown",
      "metadata": {
        "id": "FmuMR27XtITz",
        "colab_type": "text"
      },
      "source": [
        "####### visualize embeddings\n",
        "from sklearn.manifold import TSNE\n",
        "\n",
        "words = w2v_model.wv.index2word\n",
        "wvs = w2v_model.wv[words]\n",
        "tsne = TSNE(n_components=2, random_state=0, n_iter=250, perplexity=2)\n",
        "np.set_printoptions(suppress=True)\n",
        "T = tsne.fit_transform(wvs)\n",
        "labels = words\n",
        "\n",
        "plt.figure(figsize=(12, 6))\n",
        "plt.scatter(T[:, 0], T[:, 1], c='orange', edgecolors='r')\n",
        "for label, x, y in zip(labels, T[:, 0], T[:, 1]):\n",
        "  plt.annotate(label, xy=(x+1, y+1), xytext=(0, 0), textcoords='offset points')"
      ]
    },
    {
      "cell_type": "code",
      "metadata": {
        "id": "vHDu3UOAuJ7h",
        "colab_type": "code",
        "outputId": "a5451078-14a0-4c0c-c5a9-1d0f7412cafa",
        "colab": {
          "base_uri": "https://localhost:8080/",
          "height": 74
        }
      },
      "source": [
        "''' Average the word vectors to get a vector per document '''\n",
        "\n",
        "def average_word_vectors(words, model, vocabulary, num_features):\n",
        "    \n",
        "    feature_vector = np.zeros((num_features,),dtype=\"float64\")\n",
        "    nwords = 0.\n",
        "    \n",
        "    for word in words:\n",
        "        if word in vocabulary: \n",
        "            nwords = nwords + 1.\n",
        "            feature_vector = np.add(feature_vector, model[word])\n",
        "    \n",
        "    if nwords:\n",
        "        feature_vector = np.divide(feature_vector, nwords)\n",
        "        \n",
        "    return feature_vector\n",
        "    \n",
        "   \n",
        "def averaged_word_vectorizer(corpus, model, num_features):\n",
        "    vocabulary = set(model.wv.index2word)\n",
        "    features = [average_word_vectors(tokenized_sentence, model, vocabulary, num_features)\n",
        "                    for tokenized_sentence in corpus]\n",
        "    return np.array(features)\n",
        "\n",
        "\n",
        "# get document level embeddings\n",
        "w2v_feature_array = averaged_word_vectorizer(corpus=tokenized_corpus, model=w2v_model,\n",
        "                                             num_features=feature_size)\n",
        "#pd.DataFrame(w2v_feature_array)"
      ],
      "execution_count": 0,
      "outputs": [
        {
          "output_type": "stream",
          "text": [
            "/usr/local/lib/python3.6/dist-packages/ipykernel_launcher.py:9: DeprecationWarning: Call to deprecated `__getitem__` (Method will be removed in 4.0.0, use self.wv.__getitem__() instead).\n",
            "  if __name__ == '__main__':\n"
          ],
          "name": "stderr"
        }
      ]
    },
    {
      "cell_type": "code",
      "metadata": {
        "colab_type": "code",
        "id": "XJZvDtnxZ1Oz",
        "colab": {}
      },
      "source": [
        "X_train_v, X_test_v, y_train_v, y_test_v = train_test_split(w2v_feature_array, y, test_size=0.2, random_state=42)"
      ],
      "execution_count": 0,
      "outputs": []
    },
    {
      "cell_type": "markdown",
      "metadata": {
        "colab_type": "text",
        "id": "17yzsHfvZ1QX"
      },
      "source": [
        "#### Logistic regression"
      ]
    },
    {
      "cell_type": "code",
      "metadata": {
        "colab_type": "code",
        "id": "Wzyq0fiYZ1Qm",
        "outputId": "9bc59fe2-d20f-456f-9ac9-a13623bcff66",
        "colab": {
          "base_uri": "https://localhost:8080/",
          "height": 149
        }
      },
      "source": [
        "log = LogisticRegression()\n",
        "log.fit(X_train_t, y_train_t)\n"
      ],
      "execution_count": 0,
      "outputs": [
        {
          "output_type": "stream",
          "text": [
            "/usr/local/lib/python3.6/dist-packages/sklearn/linear_model/logistic.py:433: FutureWarning: Default solver will be changed to 'lbfgs' in 0.22. Specify a solver to silence this warning.\n",
            "  FutureWarning)\n"
          ],
          "name": "stderr"
        },
        {
          "output_type": "execute_result",
          "data": {
            "text/plain": [
              "LogisticRegression(C=1.0, class_weight=None, dual=False, fit_intercept=True,\n",
              "          intercept_scaling=1, max_iter=100, multi_class='warn',\n",
              "          n_jobs=None, penalty='l2', random_state=None, solver='warn',\n",
              "          tol=0.0001, verbose=0, warm_start=False)"
            ]
          },
          "metadata": {
            "tags": []
          },
          "execution_count": 100
        }
      ]
    },
    {
      "cell_type": "code",
      "metadata": {
        "colab_type": "code",
        "id": "yshDsHlEZ1R5",
        "colab": {}
      },
      "source": [
        "pred = log.predict(X_test_t)"
      ],
      "execution_count": 0,
      "outputs": []
    },
    {
      "cell_type": "code",
      "metadata": {
        "colab_type": "code",
        "id": "6lnn2Ep8Z1Sc",
        "outputId": "ac8a0b35-013b-4c09-9edf-53bc72607410",
        "colab": {
          "base_uri": "https://localhost:8080/",
          "height": 36
        }
      },
      "source": [
        "metrics.accuracy_score(y_test_t, pred)"
      ],
      "execution_count": 0,
      "outputs": [
        {
          "output_type": "execute_result",
          "data": {
            "text/plain": [
              "0.95955"
            ]
          },
          "metadata": {
            "tags": []
          },
          "execution_count": 102
        }
      ]
    },
    {
      "cell_type": "code",
      "metadata": {
        "colab_type": "code",
        "id": "PbIEVEGDZ1TT",
        "outputId": "0196da3f-b920-486c-f7b8-95c479c7b63a",
        "colab": {
          "base_uri": "https://localhost:8080/",
          "height": 36
        }
      },
      "source": [
        "metrics.roc_auc_score(y_test_t, pred)"
      ],
      "execution_count": 0,
      "outputs": [
        {
          "output_type": "execute_result",
          "data": {
            "text/plain": [
              "0.7040973935998638"
            ]
          },
          "metadata": {
            "tags": []
          },
          "execution_count": 103
        }
      ]
    },
    {
      "cell_type": "markdown",
      "metadata": {
        "id": "yULbLAkruHyd",
        "colab_type": "text"
      },
      "source": [
        "##### So far model quality very bad comparing to the proportion"
      ]
    },
    {
      "cell_type": "markdown",
      "metadata": {
        "id": "YeBMoeptuHyh",
        "colab_type": "text"
      },
      "source": [
        "https://machinelearningmastery.com/use-word-embedding-layers-deep-learning-keras/\n",
        "    \n",
        "    Build a neural network with embeddings, using Glove, \n",
        "    in the last dense leyer we should use sigmoid function!!"
      ]
    },
    {
      "cell_type": "markdown",
      "metadata": {
        "id": "AiEnRVEOuHyj",
        "colab_type": "text"
      },
      "source": [
        "Try also LightGBM, Naive Bayes, CNN, RNN"
      ]
    },
    {
      "cell_type": "code",
      "metadata": {
        "id": "0i8oMyKlw-vp",
        "colab_type": "code",
        "colab": {}
      },
      "source": [
        ""
      ],
      "execution_count": 0,
      "outputs": []
    }
  ]
}