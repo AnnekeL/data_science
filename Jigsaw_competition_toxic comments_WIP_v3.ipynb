{
 "cells": [
  {
   "cell_type": "markdown",
   "metadata": {},
   "source": [
    "## Jigsaw Kaggle Competition - WIP \n",
    "\n",
    "### Proper commenting and explanation still missing"
   ]
  },
  {
   "cell_type": "markdown",
   "metadata": {},
   "source": [
    "#!python -m pip install --user gensim\n",
    "!python -m pip install --user wordcloud\n",
    "!python -m pip install --user fasttext"
   ]
  },
  {
   "cell_type": "code",
   "execution_count": 72,
   "metadata": {},
   "outputs": [],
   "source": [
    "import gensim\n",
    "#from wordcloud import WordCloud, STOPWORDS, ImageColorGenerator\n",
    "#from spellchecker import SpellChecker\n",
    "#import pyspellchecker\n"
   ]
  },
  {
   "cell_type": "code",
   "execution_count": 73,
   "metadata": {},
   "outputs": [],
   "source": [
    "from keras.preprocessing.sequence import pad_sequences\n"
   ]
  },
  {
   "cell_type": "markdown",
   "metadata": {},
   "source": [
    "#### Intro:\n",
    "What is the problem?\n",
    "What is the target?\n",
    "Who is the team?\n",
    "\n",
    "\n",
    "#### Outline:\n",
    "EDA: \n",
    "- check submission file\n",
    "- check test file\n",
    "- deep dive into the training set\n",
    " - visualize additional parameters\n",
    " - give some examples\n",
    " \n",
    "\n",
    "#### Preprocessing: \n",
    "- Tokenize into list of lists\n",
    "- put data into a dictionnary with an id for every word\n",
    "- create a corpus using matrices\n",
    "    -count (frequency)\n",
    "    -tfidf (frequency)\n",
    "    -co-occurence (frequency)\n",
    "    -naive bayes (propabalistic)\n",
    "- create a corpus with predictive matrices with neural networks?\n",
    "\n",
    "- How do we work with contexts\n",
    "\n",
    "- try out how regression , trees etc. work\n",
    "\n",
    "- is the language only english?\n",
    "    "
   ]
  },
  {
   "cell_type": "markdown",
   "metadata": {},
   "source": [
    "Feature engineering ideas:\n",
    "- lentgh of comment\n",
    "- number of missspeling per amount of words\n",
    "- number of exclamation marks\n",
    "- translate smilies\n",
    "- check if there are parents or publications which have higher toxicity and transform that into a constant feature\n"
   ]
  },
  {
   "cell_type": "markdown",
   "metadata": {},
   "source": [
    "## Data provided by Kaggle"
   ]
  },
  {
   "cell_type": "markdown",
   "metadata": {},
   "source": [
    "Can you help detect toxic comments ― and minimize unintended model bias? That's your challenge in this competition.\n",
    "\n",
    "The Conversation AI team, a research initiative founded by Jigsaw and Google (both part of Alphabet), builds technology to protect voices in conversation. A main area of focus is machine learning models that can identify toxicity in online conversations, where toxicity is defined as anything rude, disrespectful or otherwise likely to make someone leave a discussion.\n",
    "\n",
    "Last year, in the Toxic Comment Classification Challenge, you built multi-headed models to recognize toxicity and several subtypes of toxicity. This year's competition is a related challenge: building toxicity models that operate fairly across a diverse range of conversations.\n",
    "\n",
    "Here’s the background: When the Conversation AI team first built toxicity models, they found that the models incorrectly learned to associate the names of frequently attacked identities with toxicity. Models predicted a high likelihood of toxicity for comments containing those identities (e.g. \"gay\"), even when those comments were not actually toxic (such as \"I am a gay woman\"). This happens because training data was pulled from available sources where unfortunately, certain identities are overwhelmingly referred to in offensive ways. Training a model from data with these imbalances risks simply mirroring those biases back to users.\n",
    "\n",
    "In this competition, you're challenged to build a model that recognizes toxicity and minimizes this type of unintended bias with respect to mentions of identities. You'll be using a dataset labeled for identity mentions and optimizing a metric designed to measure unintended bias. Develop strategies to reduce unintended bias in machine learning models, and you'll help the Conversation AI team, and the entire industry, build models that work well for a wide range of conversations.\n",
    "\n",
    "Disclaimer: The dataset for this competition contains text that may be considered profane, vulgar, or offensive.\n",
    "Acknowledgments\n",
    "\n",
    "The Conversation AI team would like to thank Civil Comments for making this dataset available publicly and the Online Hate Index Research Project at D-Lab, University of California, Berkeley, whose labeling survey/instrument informed the dataset labeling. We'd also like to thank everyone who has contributed to Conversation AI's research, especially those who took part in our last competition, the success of which led to the creation of this challenge. "
   ]
  },
  {
   "cell_type": "markdown",
   "metadata": {},
   "source": [
    "Background\n",
    "\n",
    "At the end of 2017 the Civil Comments platform shut down and chose make their ~2m public comments from their platform available in a lasting open archive so that researchers could understand and improve civility in online conversations for years to come. Jigsaw sponsored this effort and extended annotation of this data by human raters for various toxic conversational attributes.\n",
    "\n",
    "In the data supplied for this competition, the text of the individual comment is found in the comment_text column. Each comment in Train has a toxicity label (target), and models should predict the target toxicity for the Test data. This attribute (and all others) are fractional values which represent the fraction of human raters who believed the attribute applied to the given comment. For evaluation, test set examples with target >= 0.5 will be considered to be in the positive class (toxic).\n",
    "\n"
   ]
  },
  {
   "cell_type": "markdown",
   "metadata": {},
   "source": [
    "# Import relevant packages"
   ]
  },
  {
   "cell_type": "code",
   "execution_count": 74,
   "metadata": {
    "_cell_guid": "b1076dfc-b9ad-4769-8c92-a6c4dae69d19",
    "_uuid": "8f2839f25d086af736a60e9eeb907d3b93b6e0e5"
   },
   "outputs": [],
   "source": [
    "# This Python 3 environment comes with many helpful analytics libraries installed\n",
    "# It is defined by the kaggle/python docker image: https://github.com/kaggle/docker-python\n",
    "# For example, here's several helpful packages to load in \n",
    "\n",
    "import numpy as np # linear algebra\n",
    "import pandas as pd # data processing, CSV file I/O (e.g. pd.read_csv)\n",
    "import matplotlib.pyplot as plt \n",
    "import seaborn as sns\n",
    "sns.set()\n",
    "\n",
    "# Input data files are available in the \"../input/\" directory.\n",
    "# For example, running this (by clicking run or pressing Shift+Enter) will list the files in the input directory\n",
    "\n",
    "#import os\n",
    "#print(os.listdir(\"../input\"))\n",
    "\n",
    "# Any results you write to the current directory are saved as output.\n",
    "\n",
    "# To release RAM import gc collector\n",
    "import gc\n",
    "gc.disable()"
   ]
  },
  {
   "cell_type": "markdown",
   "metadata": {},
   "source": [
    "# Methods"
   ]
  },
  {
   "cell_type": "code",
   "execution_count": 75,
   "metadata": {},
   "outputs": [],
   "source": [
    "# Reduce memory function was taken from the kaggle following kernel:\n",
    "# https://www.kaggle.com/ashishpatel26/lightgbm-gbdt-dart-baysian-ridge-reg-lb-3-61\n",
    "def reduce_mem_usage(df, verbose=True):\n",
    "    numerics = ['int16', 'int32', 'int64', 'float16', 'float32', 'float64']\n",
    "    start_mem = df.memory_usage().sum() / 1024**2    \n",
    "    for col in df.columns:\n",
    "        col_type = df[col].dtypes\n",
    "        if col_type in numerics:\n",
    "            c_min = df[col].min()\n",
    "            c_max = df[col].max()\n",
    "            if str(col_type)[:3] == 'int':\n",
    "                if c_min > np.iinfo(np.int8).min and c_max < np.iinfo(np.int8).max:\n",
    "                    df[col] = df[col].astype(np.int8)\n",
    "                elif c_min > np.iinfo(np.int16).min and c_max < np.iinfo(np.int16).max:\n",
    "                    df[col] = df[col].astype(np.int16)\n",
    "                elif c_min > np.iinfo(np.int32).min and c_max < np.iinfo(np.int32).max:\n",
    "                    df[col] = df[col].astype(np.int32)\n",
    "                elif c_min > np.iinfo(np.int64).min and c_max < np.iinfo(np.int64).max:\n",
    "                    df[col] = df[col].astype(np.int64)  \n",
    "            else:\n",
    "                if c_min > np.finfo(np.float16).min and c_max < np.finfo(np.float16).max:\n",
    "                    df[col] = df[col].astype(np.float16)\n",
    "                elif c_min > np.finfo(np.float32).min and c_max < np.finfo(np.float32).max:\n",
    "                    df[col] = df[col].astype(np.float32)\n",
    "                else:\n",
    "                    df[col] = df[col].astype(np.float64)    \n",
    "    end_mem = df.memory_usage().sum() / 1024**2\n",
    "    if verbose: print('Mem. usage decreased to {:5.2f} Mb ({:.1f}% reduction)'.format(end_mem, 100 * (start_mem - end_mem) / start_mem))\n",
    "    return df"
   ]
  },
  {
   "cell_type": "code",
   "execution_count": 76,
   "metadata": {},
   "outputs": [],
   "source": [
    "# search for missing data by column, reduce actual methos to save RAM\n",
    "def missing_values_table(df):\n",
    "        # Total missing values\n",
    "        # mis_val = df.isnull().sum()\n",
    "        \n",
    "        # Percentage of missing values\n",
    "        mis_val_percent = 100 * df.isnull().sum() / len(df)\n",
    "        \n",
    "        # Make a table with the results\n",
    "        #mis_val_table = pd.concat([mis_val, mis_val_percent], axis=1)\n",
    "        \n",
    "        # Rename the columns\n",
    "        #mis_val_table_ren_columns = mis_val_table.rename(\n",
    "        #columns = {0 : 'Missing Values', 1 : '% of Total Values'})\n",
    "        \n",
    "        # Sort the table by percentage of missing descending\n",
    "        mis_val_percent = mis_val_percent[mis_val_percent != 0].sort_values(ascending=False).round(1)\n",
    "        \n",
    "        # Return the dataframe with missing information\n",
    "        return mis_val_percent\n",
    "    # search for missing data by column    "
   ]
  },
  {
   "cell_type": "markdown",
   "metadata": {},
   "source": [
    "# First inspection of the datasets"
   ]
  },
  {
   "cell_type": "code",
   "execution_count": 77,
   "metadata": {},
   "outputs": [
    {
     "name": "stdout",
     "output_type": "stream",
     "text": [
      "        id  \\\n",
      "0  7000000   \n",
      "1  7000001   \n",
      "2  7000002   \n",
      "3  7000003   \n",
      "4  7000004   \n",
      "\n",
      "                                                                                                                                                                                                                                                                                                  comment_text  \n",
      "0                                                                                                                                                  Jeff Sessions is another one of Trump's Orwellian choices. He believes and has believed his entire career the exact opposite of what the position requires.  \n",
      "1  I actually inspected the infrastructure on Grand Chief Stewart Philip's home Penticton First Nation in both 2010 and 2013.  Exactly Zero projects that had been identified in previous inspection reports had been funded by the federal government, and the entire band was housed in ATCO trailers.  C...  \n",
      "2                      No it won't . That's just wishful thinking on democrats fault .   For the 100 th time , Walker cited the cost of drug users treatment as being lost with Obamacare .  I laugh every time I hear a liberal claim republicans want to hurt people , and that's why they dumped Obamacare.  \n",
      "3  Instead of wringing our hands and nibbling the periphery of the issue, how about we face the actual issue head on? I would support a city ordinance against loitering, and applaud city councilors who champion a real and permanent solution.\\n\\nThe details could be determined, but would include a l...  \n",
      "4                                                                                             how many of you commenters have garbage piled high in your yard, bald tires, dead batteries, rotten pallets, car parts, blah blah blah. this town is a pigpen. drive around and look for yourself, its pathetic.  \n",
      "        id  prediction\n",
      "0  7000000         0.0\n",
      "1  7000001         0.0\n",
      "2  7000002         0.0\n",
      "3  7000003         0.0\n",
      "4  7000004         0.0\n",
      "5  7000005         0.0\n",
      "6  7000006         0.0\n",
      "7  7000007         0.0\n",
      "8  7000008         0.0\n",
      "9  7000009         0.0\n"
     ]
    }
   ],
   "source": [
    "test_data = pd.read_csv('../s_lohmann18/00_Jigsaw Competition/input/test.csv')\n",
    "sample_submission = pd.read_csv('../s_lohmann18/00_Jigsaw Competition/input/sample_submission.csv')\n",
    "\n",
    "print(test_data.head())\n",
    "print(sample_submission.head(10))"
   ]
  },
  {
   "cell_type": "code",
   "execution_count": 78,
   "metadata": {},
   "outputs": [
    {
     "data": {
      "text/plain": [
       "<function gc.collect>"
      ]
     },
     "execution_count": 78,
     "metadata": {},
     "output_type": "execute_result"
    }
   ],
   "source": [
    "# delete test data and the submission file for now\n",
    "del test_data\n",
    "del sample_submission\n",
    "gc.collect"
   ]
  },
  {
   "cell_type": "markdown",
   "metadata": {},
   "source": [
    "## Inspection of the train dataset"
   ]
  },
  {
   "cell_type": "code",
   "execution_count": 79,
   "metadata": {},
   "outputs": [],
   "source": [
    "dtypesDict_tr = {\n",
    "'id'                            :         'int32',\n",
    "'target'                        :         'float16',\n",
    "'severe_toxicity'               :         'float16',\n",
    "'obscene'                       :         'float16',\n",
    "'identity_attack'               :         'float16',\n",
    "'insult'                        :         'float16',\n",
    "'threat'                        :         'float16',\n",
    "'asian'                         :         'float16',\n",
    "'atheist'                       :         'float16',\n",
    "'bisexual'                      :         'float16',\n",
    "'black'                         :         'float16',\n",
    "'buddhist'                      :         'float16',\n",
    "'christian'                     :         'float16',\n",
    "'female'                        :         'float16',\n",
    "'heterosexual'                  :         'float16',\n",
    "'hindu'                         :         'float16',\n",
    "'homosexual_gay_or_lesbian'     :         'float16',\n",
    "'intellectual_or_learning_disability':    'float16',\n",
    "'jewish'                        :         'float16',\n",
    "'latino'                        :         'float16',\n",
    "'male'                          :         'float16',\n",
    "'muslim'                        :         'float16',\n",
    "'other_disability'              :         'float16',\n",
    "'other_gender'                  :         'float16',\n",
    "'other_race_or_ethnicity'       :         'float16',\n",
    "'other_religion'                :         'float16',\n",
    "'other_sexual_orientation'      :         'float16',\n",
    "'physical_disability'           :         'float16',\n",
    "'psychiatric_or_mental_illness' :         'float16',\n",
    "'transgender'                   :         'float16',\n",
    "'white'                         :         'float16',\n",
    "'publication_id'                :         'int8',\n",
    "'parent_id'                     :         'float32',\n",
    "'article_id'                    :         'int32',\n",
    "'funny'                         :         'int8',\n",
    "'wow'                           :         'int8',\n",
    "'sad'                           :         'int8',\n",
    "'likes'                         :         'int16',\n",
    "'disagree'                      :         'int16',\n",
    "'sexual_explicit'               :         'float16',\n",
    "'identity_annotator_count'      :         'int16',\n",
    "'toxicity_annotator_count'      :         'int16'\n",
    "}"
   ]
  },
  {
   "cell_type": "code",
   "execution_count": 80,
   "metadata": {
    "_cell_guid": "79c7e3d0-c299-4dcb-8224-4455121ee9b0",
    "_uuid": "d629ff2d2480ee46fbb7e2d37f6b5fab8052498a"
   },
   "outputs": [],
   "source": [
    "# Load the datasets\n",
    "train_data = pd.read_csv('../s_lohmann18/00_Jigsaw Competition/input/train.csv',dtype=dtypesDict_tr,parse_dates=['created_date'], nrows=700000  )\n",
    "#train_data.info()"
   ]
  },
  {
   "cell_type": "code",
   "execution_count": 81,
   "metadata": {},
   "outputs": [],
   "source": [
    "# Use the methos to well import the data\n",
    "#reduce_mem_usage(train_data)\n",
    "#train_data.info()"
   ]
  },
  {
   "cell_type": "code",
   "execution_count": 82,
   "metadata": {},
   "outputs": [
    {
     "data": {
      "text/html": [
       "<div>\n",
       "<style scoped>\n",
       "    .dataframe tbody tr th:only-of-type {\n",
       "        vertical-align: middle;\n",
       "    }\n",
       "\n",
       "    .dataframe tbody tr th {\n",
       "        vertical-align: top;\n",
       "    }\n",
       "\n",
       "    .dataframe thead th {\n",
       "        text-align: right;\n",
       "    }\n",
       "</style>\n",
       "<table border=\"1\" class=\"dataframe\">\n",
       "  <thead>\n",
       "    <tr style=\"text-align: right;\">\n",
       "      <th></th>\n",
       "      <th>id</th>\n",
       "      <th>target</th>\n",
       "      <th>comment_text</th>\n",
       "      <th>severe_toxicity</th>\n",
       "      <th>obscene</th>\n",
       "      <th>identity_attack</th>\n",
       "      <th>insult</th>\n",
       "      <th>threat</th>\n",
       "      <th>asian</th>\n",
       "      <th>atheist</th>\n",
       "      <th>...</th>\n",
       "      <th>article_id</th>\n",
       "      <th>rating</th>\n",
       "      <th>funny</th>\n",
       "      <th>wow</th>\n",
       "      <th>sad</th>\n",
       "      <th>likes</th>\n",
       "      <th>disagree</th>\n",
       "      <th>sexual_explicit</th>\n",
       "      <th>identity_annotator_count</th>\n",
       "      <th>toxicity_annotator_count</th>\n",
       "    </tr>\n",
       "  </thead>\n",
       "  <tbody>\n",
       "    <tr>\n",
       "      <th>0</th>\n",
       "      <td>59848</td>\n",
       "      <td>0.000000</td>\n",
       "      <td>This is so cool. It's like, 'would you want your mother to read this??' Really great idea, well done!</td>\n",
       "      <td>0.000000</td>\n",
       "      <td>0.0</td>\n",
       "      <td>0.000000</td>\n",
       "      <td>0.000000</td>\n",
       "      <td>0.0</td>\n",
       "      <td>NaN</td>\n",
       "      <td>NaN</td>\n",
       "      <td>...</td>\n",
       "      <td>2006</td>\n",
       "      <td>rejected</td>\n",
       "      <td>0</td>\n",
       "      <td>0</td>\n",
       "      <td>0</td>\n",
       "      <td>0</td>\n",
       "      <td>0</td>\n",
       "      <td>0.0</td>\n",
       "      <td>0</td>\n",
       "      <td>4</td>\n",
       "    </tr>\n",
       "    <tr>\n",
       "      <th>1</th>\n",
       "      <td>59849</td>\n",
       "      <td>0.000000</td>\n",
       "      <td>Thank you!! This would make my life a lot less anxiety-inducing. Keep it up, and don't let anyone get in your way!</td>\n",
       "      <td>0.000000</td>\n",
       "      <td>0.0</td>\n",
       "      <td>0.000000</td>\n",
       "      <td>0.000000</td>\n",
       "      <td>0.0</td>\n",
       "      <td>NaN</td>\n",
       "      <td>NaN</td>\n",
       "      <td>...</td>\n",
       "      <td>2006</td>\n",
       "      <td>rejected</td>\n",
       "      <td>0</td>\n",
       "      <td>0</td>\n",
       "      <td>0</td>\n",
       "      <td>0</td>\n",
       "      <td>0</td>\n",
       "      <td>0.0</td>\n",
       "      <td>0</td>\n",
       "      <td>4</td>\n",
       "    </tr>\n",
       "    <tr>\n",
       "      <th>2</th>\n",
       "      <td>59852</td>\n",
       "      <td>0.000000</td>\n",
       "      <td>This is such an urgent design problem; kudos to you for taking it on. Very impressive!</td>\n",
       "      <td>0.000000</td>\n",
       "      <td>0.0</td>\n",
       "      <td>0.000000</td>\n",
       "      <td>0.000000</td>\n",
       "      <td>0.0</td>\n",
       "      <td>NaN</td>\n",
       "      <td>NaN</td>\n",
       "      <td>...</td>\n",
       "      <td>2006</td>\n",
       "      <td>rejected</td>\n",
       "      <td>0</td>\n",
       "      <td>0</td>\n",
       "      <td>0</td>\n",
       "      <td>0</td>\n",
       "      <td>0</td>\n",
       "      <td>0.0</td>\n",
       "      <td>0</td>\n",
       "      <td>4</td>\n",
       "    </tr>\n",
       "    <tr>\n",
       "      <th>3</th>\n",
       "      <td>59855</td>\n",
       "      <td>0.000000</td>\n",
       "      <td>Is this something I'll be able to install on my site? When will you be releasing it?</td>\n",
       "      <td>0.000000</td>\n",
       "      <td>0.0</td>\n",
       "      <td>0.000000</td>\n",
       "      <td>0.000000</td>\n",
       "      <td>0.0</td>\n",
       "      <td>NaN</td>\n",
       "      <td>NaN</td>\n",
       "      <td>...</td>\n",
       "      <td>2006</td>\n",
       "      <td>rejected</td>\n",
       "      <td>0</td>\n",
       "      <td>0</td>\n",
       "      <td>0</td>\n",
       "      <td>0</td>\n",
       "      <td>0</td>\n",
       "      <td>0.0</td>\n",
       "      <td>0</td>\n",
       "      <td>4</td>\n",
       "    </tr>\n",
       "    <tr>\n",
       "      <th>4</th>\n",
       "      <td>59856</td>\n",
       "      <td>0.893555</td>\n",
       "      <td>haha you guys are a bunch of losers.</td>\n",
       "      <td>0.021271</td>\n",
       "      <td>0.0</td>\n",
       "      <td>0.021271</td>\n",
       "      <td>0.872559</td>\n",
       "      <td>0.0</td>\n",
       "      <td>0.0</td>\n",
       "      <td>0.0</td>\n",
       "      <td>...</td>\n",
       "      <td>2006</td>\n",
       "      <td>rejected</td>\n",
       "      <td>0</td>\n",
       "      <td>0</td>\n",
       "      <td>0</td>\n",
       "      <td>1</td>\n",
       "      <td>0</td>\n",
       "      <td>0.0</td>\n",
       "      <td>4</td>\n",
       "      <td>47</td>\n",
       "    </tr>\n",
       "  </tbody>\n",
       "</table>\n",
       "<p>5 rows × 45 columns</p>\n",
       "</div>"
      ],
      "text/plain": [
       "      id    target  \\\n",
       "0  59848  0.000000   \n",
       "1  59849  0.000000   \n",
       "2  59852  0.000000   \n",
       "3  59855  0.000000   \n",
       "4  59856  0.893555   \n",
       "\n",
       "                                                                                                         comment_text  \\\n",
       "0               This is so cool. It's like, 'would you want your mother to read this??' Really great idea, well done!   \n",
       "1  Thank you!! This would make my life a lot less anxiety-inducing. Keep it up, and don't let anyone get in your way!   \n",
       "2                              This is such an urgent design problem; kudos to you for taking it on. Very impressive!   \n",
       "3                                Is this something I'll be able to install on my site? When will you be releasing it?   \n",
       "4                                                                                haha you guys are a bunch of losers.   \n",
       "\n",
       "   severe_toxicity  obscene  identity_attack    insult  threat  asian  \\\n",
       "0         0.000000      0.0         0.000000  0.000000     0.0    NaN   \n",
       "1         0.000000      0.0         0.000000  0.000000     0.0    NaN   \n",
       "2         0.000000      0.0         0.000000  0.000000     0.0    NaN   \n",
       "3         0.000000      0.0         0.000000  0.000000     0.0    NaN   \n",
       "4         0.021271      0.0         0.021271  0.872559     0.0    0.0   \n",
       "\n",
       "   atheist  ...  article_id    rating  funny  wow  sad  likes  disagree  \\\n",
       "0      NaN  ...        2006  rejected      0    0    0      0         0   \n",
       "1      NaN  ...        2006  rejected      0    0    0      0         0   \n",
       "2      NaN  ...        2006  rejected      0    0    0      0         0   \n",
       "3      NaN  ...        2006  rejected      0    0    0      0         0   \n",
       "4      0.0  ...        2006  rejected      0    0    0      1         0   \n",
       "\n",
       "   sexual_explicit  identity_annotator_count  toxicity_annotator_count  \n",
       "0              0.0                         0                         4  \n",
       "1              0.0                         0                         4  \n",
       "2              0.0                         0                         4  \n",
       "3              0.0                         0                         4  \n",
       "4              0.0                         4                        47  \n",
       "\n",
       "[5 rows x 45 columns]"
      ]
     },
     "execution_count": 82,
     "metadata": {},
     "output_type": "execute_result"
    }
   ],
   "source": [
    "# Look at the top of the dataset\n",
    "train_data.head()"
   ]
  },
  {
   "cell_type": "code",
   "execution_count": 83,
   "metadata": {},
   "outputs": [
    {
     "data": {
      "text/html": [
       "<div>\n",
       "<style scoped>\n",
       "    .dataframe tbody tr th:only-of-type {\n",
       "        vertical-align: middle;\n",
       "    }\n",
       "\n",
       "    .dataframe tbody tr th {\n",
       "        vertical-align: top;\n",
       "    }\n",
       "\n",
       "    .dataframe thead th {\n",
       "        text-align: right;\n",
       "    }\n",
       "</style>\n",
       "<table border=\"1\" class=\"dataframe\">\n",
       "  <thead>\n",
       "    <tr style=\"text-align: right;\">\n",
       "      <th></th>\n",
       "      <th>id</th>\n",
       "      <th>target</th>\n",
       "      <th>severe_toxicity</th>\n",
       "      <th>obscene</th>\n",
       "      <th>identity_attack</th>\n",
       "      <th>insult</th>\n",
       "      <th>threat</th>\n",
       "      <th>asian</th>\n",
       "      <th>atheist</th>\n",
       "      <th>bisexual</th>\n",
       "      <th>...</th>\n",
       "      <th>parent_id</th>\n",
       "      <th>article_id</th>\n",
       "      <th>funny</th>\n",
       "      <th>wow</th>\n",
       "      <th>sad</th>\n",
       "      <th>likes</th>\n",
       "      <th>disagree</th>\n",
       "      <th>sexual_explicit</th>\n",
       "      <th>identity_annotator_count</th>\n",
       "      <th>toxicity_annotator_count</th>\n",
       "    </tr>\n",
       "  </thead>\n",
       "  <tbody>\n",
       "    <tr>\n",
       "      <th>count</th>\n",
       "      <td>7.000000e+05</td>\n",
       "      <td>700000.000000</td>\n",
       "      <td>700000.000000</td>\n",
       "      <td>700000.0</td>\n",
       "      <td>700000.0</td>\n",
       "      <td>700000.000000</td>\n",
       "      <td>700000.0</td>\n",
       "      <td>158201.0</td>\n",
       "      <td>158201.0</td>\n",
       "      <td>158201.0</td>\n",
       "      <td>...</td>\n",
       "      <td>4.008800e+05</td>\n",
       "      <td>700000.000000</td>\n",
       "      <td>700000.000000</td>\n",
       "      <td>700000.000000</td>\n",
       "      <td>700000.000000</td>\n",
       "      <td>700000.000000</td>\n",
       "      <td>700000.000000</td>\n",
       "      <td>700000.0</td>\n",
       "      <td>700000.000000</td>\n",
       "      <td>700000.000000</td>\n",
       "    </tr>\n",
       "    <tr>\n",
       "      <th>mean</th>\n",
       "      <td>7.188532e+05</td>\n",
       "      <td>NaN</td>\n",
       "      <td>0.000000</td>\n",
       "      <td>0.0</td>\n",
       "      <td>0.0</td>\n",
       "      <td>0.000000</td>\n",
       "      <td>0.0</td>\n",
       "      <td>0.0</td>\n",
       "      <td>0.0</td>\n",
       "      <td>0.0</td>\n",
       "      <td>...</td>\n",
       "      <td>7.161444e+05</td>\n",
       "      <td>160098.309394</td>\n",
       "      <td>0.204021</td>\n",
       "      <td>0.033876</td>\n",
       "      <td>0.081080</td>\n",
       "      <td>2.758094</td>\n",
       "      <td>0.485871</td>\n",
       "      <td>0.0</td>\n",
       "      <td>1.452729</td>\n",
       "      <td>8.690617</td>\n",
       "    </tr>\n",
       "    <tr>\n",
       "      <th>std</th>\n",
       "      <td>5.282821e+05</td>\n",
       "      <td>0.000000</td>\n",
       "      <td>0.000000</td>\n",
       "      <td>0.0</td>\n",
       "      <td>0.0</td>\n",
       "      <td>0.000000</td>\n",
       "      <td>0.0</td>\n",
       "      <td>0.0</td>\n",
       "      <td>0.0</td>\n",
       "      <td>0.0</td>\n",
       "      <td>...</td>\n",
       "      <td>4.997098e+05</td>\n",
       "      <td>53057.108013</td>\n",
       "      <td>0.965995</td>\n",
       "      <td>0.221074</td>\n",
       "      <td>0.412678</td>\n",
       "      <td>5.082994</td>\n",
       "      <td>1.881018</td>\n",
       "      <td>0.0</td>\n",
       "      <td>17.869838</td>\n",
       "      <td>41.193389</td>\n",
       "    </tr>\n",
       "    <tr>\n",
       "      <th>min</th>\n",
       "      <td>5.984800e+04</td>\n",
       "      <td>0.000000</td>\n",
       "      <td>0.000000</td>\n",
       "      <td>0.0</td>\n",
       "      <td>0.0</td>\n",
       "      <td>0.000000</td>\n",
       "      <td>0.0</td>\n",
       "      <td>0.0</td>\n",
       "      <td>0.0</td>\n",
       "      <td>0.0</td>\n",
       "      <td>...</td>\n",
       "      <td>6.100600e+04</td>\n",
       "      <td>2006.000000</td>\n",
       "      <td>0.000000</td>\n",
       "      <td>0.000000</td>\n",
       "      <td>0.000000</td>\n",
       "      <td>0.000000</td>\n",
       "      <td>0.000000</td>\n",
       "      <td>0.0</td>\n",
       "      <td>0.000000</td>\n",
       "      <td>3.000000</td>\n",
       "    </tr>\n",
       "    <tr>\n",
       "      <th>25%</th>\n",
       "      <td>4.558328e+05</td>\n",
       "      <td>0.000000</td>\n",
       "      <td>0.000000</td>\n",
       "      <td>0.0</td>\n",
       "      <td>0.0</td>\n",
       "      <td>0.000000</td>\n",
       "      <td>0.0</td>\n",
       "      <td>0.0</td>\n",
       "      <td>0.0</td>\n",
       "      <td>0.0</td>\n",
       "      <td>...</td>\n",
       "      <td>4.637658e+05</td>\n",
       "      <td>144897.000000</td>\n",
       "      <td>0.000000</td>\n",
       "      <td>0.000000</td>\n",
       "      <td>0.000000</td>\n",
       "      <td>0.000000</td>\n",
       "      <td>0.000000</td>\n",
       "      <td>0.0</td>\n",
       "      <td>0.000000</td>\n",
       "      <td>4.000000</td>\n",
       "    </tr>\n",
       "    <tr>\n",
       "      <th>50%</th>\n",
       "      <td>6.714810e+05</td>\n",
       "      <td>0.000000</td>\n",
       "      <td>0.000000</td>\n",
       "      <td>0.0</td>\n",
       "      <td>0.0</td>\n",
       "      <td>0.000000</td>\n",
       "      <td>0.0</td>\n",
       "      <td>0.0</td>\n",
       "      <td>0.0</td>\n",
       "      <td>0.0</td>\n",
       "      <td>...</td>\n",
       "      <td>6.759515e+05</td>\n",
       "      <td>154782.000000</td>\n",
       "      <td>0.000000</td>\n",
       "      <td>0.000000</td>\n",
       "      <td>0.000000</td>\n",
       "      <td>1.000000</td>\n",
       "      <td>0.000000</td>\n",
       "      <td>0.0</td>\n",
       "      <td>0.000000</td>\n",
       "      <td>4.000000</td>\n",
       "    </tr>\n",
       "    <tr>\n",
       "      <th>75%</th>\n",
       "      <td>8.860335e+05</td>\n",
       "      <td>0.166626</td>\n",
       "      <td>0.000000</td>\n",
       "      <td>0.0</td>\n",
       "      <td>0.0</td>\n",
       "      <td>0.015625</td>\n",
       "      <td>0.0</td>\n",
       "      <td>0.0</td>\n",
       "      <td>0.0</td>\n",
       "      <td>0.0</td>\n",
       "      <td>...</td>\n",
       "      <td>8.845380e+05</td>\n",
       "      <td>163482.000000</td>\n",
       "      <td>0.000000</td>\n",
       "      <td>0.000000</td>\n",
       "      <td>0.000000</td>\n",
       "      <td>3.000000</td>\n",
       "      <td>0.000000</td>\n",
       "      <td>0.0</td>\n",
       "      <td>0.000000</td>\n",
       "      <td>6.000000</td>\n",
       "    </tr>\n",
       "    <tr>\n",
       "      <th>max</th>\n",
       "      <td>4.979038e+06</td>\n",
       "      <td>1.000000</td>\n",
       "      <td>0.534668</td>\n",
       "      <td>1.0</td>\n",
       "      <td>1.0</td>\n",
       "      <td>1.000000</td>\n",
       "      <td>1.0</td>\n",
       "      <td>1.0</td>\n",
       "      <td>1.0</td>\n",
       "      <td>1.0</td>\n",
       "      <td>...</td>\n",
       "      <td>4.978971e+06</td>\n",
       "      <td>317929.000000</td>\n",
       "      <td>102.000000</td>\n",
       "      <td>15.000000</td>\n",
       "      <td>31.000000</td>\n",
       "      <td>300.000000</td>\n",
       "      <td>187.000000</td>\n",
       "      <td>1.0</td>\n",
       "      <td>1860.000000</td>\n",
       "      <td>3509.000000</td>\n",
       "    </tr>\n",
       "  </tbody>\n",
       "</table>\n",
       "<p>8 rows × 42 columns</p>\n",
       "</div>"
      ],
      "text/plain": [
       "                 id         target  severe_toxicity   obscene  \\\n",
       "count  7.000000e+05  700000.000000    700000.000000  700000.0   \n",
       "mean   7.188532e+05            NaN         0.000000       0.0   \n",
       "std    5.282821e+05       0.000000         0.000000       0.0   \n",
       "min    5.984800e+04       0.000000         0.000000       0.0   \n",
       "25%    4.558328e+05       0.000000         0.000000       0.0   \n",
       "50%    6.714810e+05       0.000000         0.000000       0.0   \n",
       "75%    8.860335e+05       0.166626         0.000000       0.0   \n",
       "max    4.979038e+06       1.000000         0.534668       1.0   \n",
       "\n",
       "       identity_attack         insult    threat     asian   atheist  bisexual  \\\n",
       "count         700000.0  700000.000000  700000.0  158201.0  158201.0  158201.0   \n",
       "mean               0.0       0.000000       0.0       0.0       0.0       0.0   \n",
       "std                0.0       0.000000       0.0       0.0       0.0       0.0   \n",
       "min                0.0       0.000000       0.0       0.0       0.0       0.0   \n",
       "25%                0.0       0.000000       0.0       0.0       0.0       0.0   \n",
       "50%                0.0       0.000000       0.0       0.0       0.0       0.0   \n",
       "75%                0.0       0.015625       0.0       0.0       0.0       0.0   \n",
       "max                1.0       1.000000       1.0       1.0       1.0       1.0   \n",
       "\n",
       "       ...     parent_id     article_id          funny            wow  \\\n",
       "count  ...  4.008800e+05  700000.000000  700000.000000  700000.000000   \n",
       "mean   ...  7.161444e+05  160098.309394       0.204021       0.033876   \n",
       "std    ...  4.997098e+05   53057.108013       0.965995       0.221074   \n",
       "min    ...  6.100600e+04    2006.000000       0.000000       0.000000   \n",
       "25%    ...  4.637658e+05  144897.000000       0.000000       0.000000   \n",
       "50%    ...  6.759515e+05  154782.000000       0.000000       0.000000   \n",
       "75%    ...  8.845380e+05  163482.000000       0.000000       0.000000   \n",
       "max    ...  4.978971e+06  317929.000000     102.000000      15.000000   \n",
       "\n",
       "                 sad          likes       disagree  sexual_explicit  \\\n",
       "count  700000.000000  700000.000000  700000.000000         700000.0   \n",
       "mean        0.081080       2.758094       0.485871              0.0   \n",
       "std         0.412678       5.082994       1.881018              0.0   \n",
       "min         0.000000       0.000000       0.000000              0.0   \n",
       "25%         0.000000       0.000000       0.000000              0.0   \n",
       "50%         0.000000       1.000000       0.000000              0.0   \n",
       "75%         0.000000       3.000000       0.000000              0.0   \n",
       "max        31.000000     300.000000     187.000000              1.0   \n",
       "\n",
       "       identity_annotator_count  toxicity_annotator_count  \n",
       "count             700000.000000             700000.000000  \n",
       "mean                   1.452729                  8.690617  \n",
       "std                   17.869838                 41.193389  \n",
       "min                    0.000000                  3.000000  \n",
       "25%                    0.000000                  4.000000  \n",
       "50%                    0.000000                  4.000000  \n",
       "75%                    0.000000                  6.000000  \n",
       "max                 1860.000000               3509.000000  \n",
       "\n",
       "[8 rows x 42 columns]"
      ]
     },
     "execution_count": 83,
     "metadata": {},
     "output_type": "execute_result"
    }
   ],
   "source": [
    "# Inspect the statistical summary of the dataset\n",
    "train_data.describe()"
   ]
  },
  {
   "cell_type": "markdown",
   "metadata": {},
   "source": [
    " ### Information about the additional columns"
   ]
  },
  {
   "cell_type": "markdown",
   "metadata": {},
   "source": [
    "The data also has several additional toxicity subtype attributes. Models do not need to predict these attributes for the competition, they are included as an additional avenue for research. Subtype attributes are:\n",
    "\n",
    "    severe_toxicity\n",
    "    obscene\n",
    "    threat\n",
    "    insult\n",
    "    identity_attack\n",
    "    sexual_explicit"
   ]
  },
  {
   "cell_type": "code",
   "execution_count": 84,
   "metadata": {},
   "outputs": [],
   "source": [
    "tox_col = ['severe_toxicity', 'obscene', 'threat','insult','identity_attack','sexual_explicit']"
   ]
  },
  {
   "cell_type": "markdown",
   "metadata": {},
   "source": [
    "Additionally, a subset of comments have been labelled with a variety of identity attributes, representing the identities that are mentioned in the comment. The columns corresponding to identity attributes are listed below. Only identities with more than 500 examples in the test set (combined public and private) will be included in the evaluation calculation. These identities are shown in bold.\n",
    "\n",
    "    male\n",
    "    female\n",
    "    transgender\n",
    "    other_gender\n",
    "    heterosexual\n",
    "    homosexual_gay_or_lesbian\n",
    "    bisexual\n",
    "    other_sexual_orientation\n",
    "    christian\n",
    "    jewish\n",
    "    muslim\n",
    "    hindu\n",
    "    buddhist\n",
    "    atheist\n",
    "    other_religion\n",
    "    black\n",
    "    white\n",
    "    asian\n",
    "    latino\n",
    "    other_race_or_ethnicity\n",
    "    physical_disability\n",
    "    intellectual_or_learning_disability\n",
    "    psychiatric_or_mental_illness\n",
    "    other_disability"
   ]
  },
  {
   "cell_type": "markdown",
   "metadata": {},
   "source": [
    "To collect the identity labels, annotators were asked to indicate all identities that were mentioned in the comment. An example question that was asked as part of this annotation effort was: \"What genders are mentioned in the comment?\"\n",
    "\n",
    "    Male\n",
    "    Female\n",
    "    Transgender\n",
    "    Other gender\n",
    "    No gender mentioned"
   ]
  },
  {
   "cell_type": "code",
   "execution_count": 85,
   "metadata": {},
   "outputs": [],
   "source": [
    "id_attr = ['male','female','transgender','other_gender','heterosexual','homosexual_gay_or_lesbian','bisexual', 'other_sexual_orientation', 'christian','jewish','muslim','hindu','buddhist',\n",
    "    'atheist','other_religion','black','white', 'asian','latino','other_race_or_ethnicity','physical_disability','intellectual_or_learning_disability','psychiatric_or_mental_illness','other_disability']"
   ]
  },
  {
   "cell_type": "markdown",
   "metadata": {},
   "source": [
    "In addition to the labels described above, the dataset also provides metadata from Jigsaw's annotation: toxicity_annotator_count and identity_annotator_count\n",
    "\n",
    "and metadata from Civil Comments: \n",
    "created_date, publication_id, parent_id, article_id, rating, funny, wow, sad, likes, disagree. \n",
    "Civil Comments' label rating is the civility rating Civil Comments users gave the comment."
   ]
  },
  {
   "cell_type": "code",
   "execution_count": 86,
   "metadata": {},
   "outputs": [],
   "source": [
    "ids = ['article_id', 'parent_id', 'publication_id']\n",
    "feedback_attr = ['rating','wow', 'funny','sad', 'likes', 'disagree']\n",
    "other_attr = ['toxicity_annotator_count', 'identity_annotator_count']"
   ]
  },
  {
   "cell_type": "markdown",
   "metadata": {},
   "source": [
    "Analyse the training data\n",
    "\n",
    "Check out the y-variable target"
   ]
  },
  {
   "cell_type": "markdown",
   "metadata": {},
   "source": [
    "To obtain the toxicity labels, each comment was shown to up to 10 annotators*. Annotators were asked to: \"Rate the toxicity of this comment\"\n",
    "\n",
    "    Very Toxic (a very hateful, aggressive, or disrespectful comment that is very likely to make you leave a discussion or give up on sharing your perspective)\n",
    "    Toxic (a rude, disrespectful, or unreasonable comment that is somewhat likely to make you leave a discussion or give up on sharing your perspective)\n",
    "    Hard to Say\n",
    "    Not Toxic"
   ]
  },
  {
   "cell_type": "code",
   "execution_count": null,
   "metadata": {},
   "outputs": [],
   "source": []
  },
  {
   "cell_type": "markdown",
   "metadata": {},
   "source": [
    "## Examples of toxic and non-toxic comments\n"
   ]
  },
  {
   "cell_type": "code",
   "execution_count": 87,
   "metadata": {},
   "outputs": [
    {
     "name": "stdout",
     "output_type": "stream",
     "text": [
      "0 :  haha you guys are a bunch of losers.\n",
      "1 :  Yet call out all Muslims for the acts of a few will get you pilloried.   So why is it okay to smear an entire religion over these few idiots?  Or is this because it's okay to bash Christian sects?\n",
      "2 :  This bitch is nuts. Who would read a book by a woman.\n",
      "3 :  You're an idiot.\n",
      "4 :  Who cares!? Stark trek and Star Wars fans are all dorks who never get laid.\n",
      "5 :  Nincompoop, that's a nice one! I'm partial to silly goose.\n",
      "6 :  Sorry to have to do this, but just to see if profanity filtering is enabled: butterfly.\n",
      "7 :  testing purposes: \n",
      "\n",
      "you are an idiot and i can't stand ignorant donutholes.\n",
      "8 :  For the purposes of testing, here's my contribution:\n",
      "\n",
      "lol wut wat a bunch of bullshit\n",
      "\n",
      "the author is a delusional stupid jerk full of crap\n",
      "\n",
      "(I just can't bring myself to use stronger profanity and personal attacks.)\n",
      "9 :  Well shit, they drafted a guide.  We should all be good now, whew aht a relief...\n",
      "10 :  Where do you get the Sour Grapes to say this is a Bernie person?  Based on how Bernie does not allow this crap to go on where do you get off with the accusation?\n"
     ]
    }
   ],
   "source": [
    "pd.options.display.max_colwidth=300\n",
    "# Print the most severe comments to get a feeling for the data but also on the data structure\n",
    "for n, v in enumerate(train_data.loc[train_data.target>0.8, 'comment_text']):\n",
    "    print(n, ': ', v)\n",
    "    if n == 10:\n",
    "        break\n"
   ]
  },
  {
   "cell_type": "code",
   "execution_count": 88,
   "metadata": {
    "scrolled": false
   },
   "outputs": [
    {
     "name": "stdout",
     "output_type": "stream",
     "text": [
      "0 :  This is so cool. It's like, 'would you want your mother to read this??' Really great idea, well done!\n",
      "1 :  Thank you!! This would make my life a lot less anxiety-inducing. Keep it up, and don't let anyone get in your way!\n",
      "2 :  This is such an urgent design problem; kudos to you for taking it on. Very impressive!\n",
      "3 :  Is this something I'll be able to install on my site? When will you be releasing it?\n",
      "4 :  FFFFUUUUUUUUUUUUUUU\n",
      "5 :  The ranchers seem motivated by mostly by greed; no one should have the right to allow their animals destroy public land.\n",
      "6 :  It was a great show. Not a combo I'd of expected to be good together but it was.\n",
      "7 :  Wow, that sounds great.\n",
      "8 :  This seems like a step in the right direction.\n",
      "9 :  I agree; I don't want to grant them the legitimacy of protestors. They're greedy, small-minded people who somehow seem to share the mass delusion that this is not only a good idea for themselves as individuals, but is the right thing to do for ranchers at large. Basically: take something that currently belongs to everyone, and give it to a select group of people, so they can profit.\n",
      "10 :  Interesting. I'll be curious to see how this works out. I often refrain from commenting because I don't have the time or desire to engage with the couple of resident trolls who seem to jump on every active WW comment thread.\n"
     ]
    }
   ],
   "source": [
    "pd.options.display.max_colwidth=300\n",
    "# Print the most severe comments to get a feeling for the data but also on the data structure\n",
    "for n, v in enumerate(train_data.loc[train_data.target==0.0, 'comment_text']):\n",
    "    print(n, ': ', v)\n",
    "    if n == 10:\n",
    "        break"
   ]
  },
  {
   "cell_type": "markdown",
   "metadata": {},
   "source": [
    "## Distribution of the target variable"
   ]
  },
  {
   "cell_type": "code",
   "execution_count": 89,
   "metadata": {
    "scrolled": true
   },
   "outputs": [
    {
     "name": "stderr",
     "output_type": "stream",
     "text": [
      "/usr/local/lib/python3.6/dist-packages/scipy/stats/stats.py:1713: FutureWarning: Using a non-tuple sequence for multidimensional indexing is deprecated; use `arr[tuple(seq)]` instead of `arr[seq]`. In the future this will be interpreted as an array index, `arr[np.array(seq)]`, which will result either in an error or a different result.\n",
      "  return np.add.reduce(sorted[indexer] * weights, axis=axis) / sumval\n"
     ]
    },
    {
     "data": {
      "image/png": "[encoded data removed]",
      "text/plain": [
       "<Figure size 1152x360 with 2 Axes>"
      ]
     },
     "metadata": {},
     "output_type": "display_data"
    }
   ],
   "source": [
    "fig, (ax1, ax2) = plt.subplots(1, 2, figsize=(16, 5))\n",
    "ax1.hist(train_data.target, bins=2)\n",
    "ax1.set_title('Distribution of the target variable: _________')\n",
    "ax1.set_ylabel('count')\n",
    "\n",
    "sns.distplot(train_data.target, ax=ax2)\n",
    "#ax2.hist(train_data.target)\n",
    "ax2.set_title('Distribution of the target variable: _________')\n",
    "ax2.set_ylabel('count')\n",
    "\n",
    "plt.show()"
   ]
  },
  {
   "cell_type": "code",
   "execution_count": 90,
   "metadata": {},
   "outputs": [],
   "source": [
    "# Analyse the partition of toxicity classification against the full dataset\n",
    "# As the number of toxic vs non-toxic comments is not euqually balanced we need to consider when interpreting the accuary\n",
    "\n",
    "columns = ['target','severe_toxicity', 'obscene',\n",
    "       'identity_attack', 'insult', 'threat']\n",
    "toxic_crit = train_data.loc[:, columns]\n",
    "toxic_crit = toxic_crit>0.5\n",
    "toxic_crit = toxic_crit.sum()\n",
    "toxic_crit = toxic_crit.sort_values(ascending = False)"
   ]
  },
  {
   "cell_type": "markdown",
   "metadata": {},
   "source": [
    "## Distribution of additional columns"
   ]
  },
  {
   "cell_type": "code",
   "execution_count": 91,
   "metadata": {
    "scrolled": true
   },
   "outputs": [
    {
     "data": {
      "image/png": "[encoded data removed]",
      "text/plain": [
       "<Figure size 1008x432 with 1 Axes>"
      ]
     },
     "metadata": {},
     "output_type": "display_data"
    }
   ],
   "source": [
    "#cnt_srs = test_df['first_active_month'].dt.date.value_counts()\n",
    "#cnt_srs = cnt_srs.sort_index()\n",
    "plt.figure(figsize=(14,6))\n",
    "sns.barplot(toxic_crit.index, toxic_crit.values, alpha=0.8, color='green')\n",
    "plt.xticks(rotation='vertical')\n",
    "plt.xlabel('Criterias', fontsize=12)\n",
    "plt.ylabel('Number of occurences', fontsize=12)\n",
    "plt.title(\"Toxicity annotation greater 0.5\")\n",
    "plt.show()"
   ]
  },
  {
   "cell_type": "code",
   "execution_count": 92,
   "metadata": {},
   "outputs": [],
   "source": [
    "# Analyse the partition of toxicity classification against the full dataset\n",
    "# As the number of toxic vs non-toxic comments is not euqually balanced we need to consider when interpreting the accuary\n",
    "\n",
    "other_attr = train_data.loc[:, id_attr]\n",
    "other_attr = other_attr>0.5\n",
    "other_attr = other_attr.sum()\n",
    "other_attr = other_attr.sort_values(ascending = False)"
   ]
  },
  {
   "cell_type": "code",
   "execution_count": 93,
   "metadata": {
    "scrolled": true
   },
   "outputs": [
    {
     "data": {
      "image/png": "[encoded data removed]",
      "text/plain": [
       "<Figure size 1008x432 with 1 Axes>"
      ]
     },
     "metadata": {},
     "output_type": "display_data"
    }
   ],
   "source": [
    "#cnt_srs = test_df['first_active_month'].dt.date.value_counts()\n",
    "#cnt_srs = cnt_srs.sort_index()\n",
    "plt.figure(figsize=(14,6))\n",
    "sns.barplot(other_attr.index, other_attr.values, alpha=0.8, color='green')\n",
    "plt.xticks(rotation='vertical')\n",
    "plt.xlabel('Criterias', fontsize=12)\n",
    "plt.ylabel('Number of occurences', fontsize=12)\n",
    "plt.title(\"Other attribute annotation greater 0.5\")\n",
    "plt.show()"
   ]
  },
  {
   "cell_type": "code",
   "execution_count": 94,
   "metadata": {},
   "outputs": [
    {
     "data": {
      "image/png": "[encoded data removed]",
      "text/plain": [
       "<Figure size 1152x360 with 2 Axes>"
      ]
     },
     "metadata": {},
     "output_type": "display_data"
    }
   ],
   "source": [
    "fig, (ax1, ax2) = plt.subplots(1, 2, figsize=(16, 5))\n",
    "sns.boxplot(train_data.toxicity_annotator_count, ax=ax1)\n",
    "ax1.set_title('Distribution of the toxicity_annotator_count')\n",
    "ax1.set_ylabel('count')\n",
    "sns.boxplot(train_data.identity_annotator_count, ax=ax2)\n",
    "#ax2.hist(train_data.identity_annotator_count)\n",
    "ax2.set_title('Distribution of the identity_annotator_count')\n",
    "ax2.set_ylabel('count')\n",
    "\n",
    "plt.show()"
   ]
  },
  {
   "cell_type": "markdown",
   "metadata": {},
   "source": [
    "fig, (ax1, ax2) = plt.subplots(2, 1, figsize=(16, 12))\n",
    "ax1.plot(train_data.target[train_data.female.notnull()], train_data.toxicity_annotator_count[train_data.female.notnull()], ls='None', marker='.', markersize=10, alpha=0.5 )\n",
    "ax2.plot(train_data.target, train_data.identity_annotator_count, ls='None', marker='.', markersize=10, alpha=0.5 )"
   ]
  },
  {
   "cell_type": "markdown",
   "metadata": {},
   "source": [
    "\n",
    "## Text preprocessing"
   ]
  },
  {
   "cell_type": "markdown",
   "metadata": {},
   "source": [
    "Methods"
   ]
  },
  {
   "cell_type": "code",
   "execution_count": 95,
   "metadata": {},
   "outputs": [],
   "source": [
    "import re"
   ]
  },
  {
   "cell_type": "code",
   "execution_count": 96,
   "metadata": {},
   "outputs": [],
   "source": [
    "# Tranform text to lower case\n",
    "train_data.comment_text = train_data.comment_text.apply(lambda x: x.lower())"
   ]
  },
  {
   "cell_type": "code",
   "execution_count": 97,
   "metadata": {},
   "outputs": [],
   "source": [
    "# Extract all unique characters from the dataset\n",
    "def extract_used_characters(df):\n",
    "    used_characters = []\n",
    "    for i, row in enumerate(df):\n",
    "        characters = list(row)\n",
    "        for x in characters:\n",
    "            if x not in used_characters:\n",
    "                used_characters.append(x)\n",
    "                \n",
    "    return used_characters\n",
    "\n",
    "# extract all unique words from the dataset\n",
    "def extract_words(df):\n",
    "    used_words = []\n",
    "    for i, row in enumerate(df):\n",
    "        words = word_tokenize(row.lower())\n",
    "        for w in words:\n",
    "            if w not in used_words:\n",
    "                used_words.append(w)\n",
    "                \n",
    "    return used_words\n",
    "\n"
   ]
  },
  {
   "cell_type": "code",
   "execution_count": 98,
   "metadata": {
    "scrolled": true
   },
   "outputs": [
    {
     "name": "stdout",
     "output_type": "stream",
     "text": [
      "['t', 'h', 'i', 's', ' ', 'o', 'c', 'l', '.', \"'\", 'k', 'e', ',', 'w', 'u', 'd', 'y', 'a', 'n', 'r', 'm', '?', 'g', '!', 'f', 'x', '-', 'p', 'b', ';', 'v', '*', '\"', '…', 'j', ':', '\\n', '1', '5', '0', 'q', '—', '(', ')', 'z', '%', '2', '6', '3', '#', '$', '9', '7', '&', '_', '8', '/', '’', '@', '＼', '・', 'ω', '4', '+', '🍕', '=', '”', '“', '[', ']', '^', '–', '>', '\\r', '🐵', '\\\\', '°', '<', '😑', '~', '\\xa0', '\\ue014', '•', '≠', '‘', 'ï', 'é', '\\t', '™', '\\uf818', '\\uf04a', '\\xad', 'ˈ', 'ʊ', 'ɒ', '😢', '🐶', '∞', 'à', '§', '{', '}', '·', 'τ', 'α', '❤', '️', '☺', 'ü', 'ɡ', 'ə', 'ē', '\\uf0e0', '😜', 'ç', '😎', '👊', 'ō', '\\u200b', '\\u200e', 'è', '😁', '|', 'ع', 'د', 'و', 'ي', 'ه', 'ص', 'ق', 'أ', 'ن', 'ا', 'خ', 'ل', 'ى', 'ب', 'م', 'غ', 'ر', '😍', '💖', '¢', '→', '̶', '`', '💵', 'á', 'ú', 'í', '❥', '━', '┣', '┫', 'е', '┗', 'ｏ', '►', '★', '👎', '😀', '😂', '\\u202a', '\\u202c', '🔥', '😄', '©', '―', '🏻', '💥', 'ᴍ', 'ʏ', 'ʀ', 'ɪ', 'ᴇ', 'ɴ', 'ᴅ', 'ᴏ', 'ᴀ', 'ᴋ', 'ʜ', 'ᴜ', 'ʟ', 'ᴛ', 'ᴄ', 'ᴘ', 'ʙ', 'ғ', 'ᴊ', 'ᴡ', 'ɢ', '✔', '®', '\\x96', '\\x92', 'ñ', '●', 'ġ', '😋', '👏', 'ש', 'ל', 'ו', 'ם', 'ב', 'י', '😱', '‼', '£', 'ó', '\\x81', '♥', 'â', 'エ', 'ン', 'ジ', '故', '障', '➤', '´', 'ä', '\\u2009', '🚌', 'ᴵ', '͞', '🌟', 'æ', '😊', 'ë', '😳', '😧', '🙀', '😐', '😕', '\\u200f', '👍', '😮', '😃', '😘', '¹', '☕', '≈', '÷', 'א', 'ע', 'כ', 'ח', '♡', '◐', '║', '▬', '💩', 'ŏ', '′', 'ô', 'ɔ', 'ː', '💯', '⛽', '€', '🚄', '🏼', 'ஜ', '۩', '۞', '†', '😖', 'ᴠ', 'ê', '🚲', '‐', 'μ', '✒', '➥', '😟', '😈', '═', '☆', 'ˌ', '💪', '🙏', '🎯', 'ī', '◄', '🌹', '😇', '💔', '½', 'ʻ', '😡', '\\x7f', '👌', 'ἐ', 'π', 'ὶ', 'δ', 'η', 'λ', 'ή', 'σ', 'ε', 'ι', 'ὲ', 'κ', 'ἀ', 'ί', 'ῃ', 'ἴ', 'ρ', 'ξ', 'ν', 'ò', 'ʃ', '🙄', '✬', 'ｓ', 'ｕ', 'ｐ', 'ｅ', 'ｒ', 'ｈ', 'ｉ', 'ｔ', '😠', '\\ufeff', 'ö', 'ā', '☻', '±', '\\u2028', '😉', 'ã', '😤', 'ø', '⛺', '♍', '🙂', 'µ', '\\u3000', 'ت', 'ح', 'ك', 'س', 'ة', '👮', '💙', 'ف', 'ز', 'ط', '😏', 'º', '🍾', '🎉', '¾', '😞', '\\u2008', '🏾', '😅', '😭', '👻', '😥', '😔', '😓', '🏽', '🎆', '✓', '◾', '🍻', '🍽', 'ū', '🎶', '🌺', '🤔', '😪', '\\x08', '‑', '؟', '🐰', '🐇', '🐱', '🙆', '．', '😨', '⬅', '🙃', '💕', '𝘊', '𝘦', '𝘳', '𝘢', '𝘵', '𝘰', '𝘤', '𝘺', '𝘴', '𝘪', '𝘧', '𝘮', '𝘣', '💗', '💚', '地', '獄', '谷', '℅', '»', 'в', 'у', 'л', 'к', 'а', 'н', 'п', 'о', '🐾', '🐕', '❣', '😆', 'ה', '⋅', '🔗', '¿', '¬', '🚽', '歌', '舞', '伎', '🙈', '😴', '🏿', '🤗', '🇺', '🇸', '♫', 'м', 'ĸ', 'υ', 'т', 'ѕ', 'ｃ', 'ｍ', 'ł', '⤵', '🏆', '🎃', 'β', '😩', '█', '▓', '▒', '░', '\\u200a', '🌠', '🐟', '💫', '💰', '💎', '⇒', 'э', 'р', 'д', '\\x95', '🖐', '🙅', '⛲', '🍰', '⭐', '🤐', '👆', '›', '🙌', '\\u2002', '💛', '🙁', '👀', '🙊', '🙉', '¡', '₂', '₃', '\\u2004', '❧', '▰', 'ˢ', 'ᵒ', 'ʳ', 'ʸ', '▔', 'ᴼ', 'ᴷ', 'ᴺ', 'ʷ', 'ᵗ', 'ʰ', 'ᵉ', 'ᵘ', '◞', '▀', 'ʼ', '\\x13', '🚬', 'ğ', '▂', '▃', '▄', '▅', '▆', '▇', '↙', '🤓', '\\ue602', '😵', 'ɛ', 'ά', 'ο', 'ό', 'ς', 'έ', 'γ', 'ὸ', '̄', 'ת', 'מ', 'ד', 'ף', 'נ', 'ר', 'ך', 'צ', 'ט', '😒', '͝', '″', '☹', '➡', '«', '🆕', '👅', '👥', '👄', '🔄', '🔤', '👉', '👤', '👶', '👲', '🔛', '🎓', 'ś', 'š', 'φ', '\\uf0b7', '⅓', '„', '✋', 'ì', '：', '\\uf04c', 'ř', '\\x9f', '\\x10', '成', '都', '¥', '😣', '⏺', '̲', '̅', '😌', '🤑', '́', '🌏', '😯', 'ß', 'х', 'î', '😲', '∙', '‛', 'ἰ', 'ᾶ', 'ὁ', 'č', '💞', '🚓', '◇', '🔔', '📚', '✏', '🏀', '👐', '\\u202d', '💤', '🍇', '\\ue613', '小', '土', '豆', '🏡', '▷', '❔', '❓', '⁉', '❗', '\\u202f', 'ĭ', '👠', '¶', '》', 'क', 'र', '्', 'म', 'ा', '🇹', '🇼', '🌸', 'ù', '蔡', '英', '文', '🌞', '˚', '🎲', 'ń', 'レ', 'ク', 'サ', 'ス', '😛', '˙', '外', '国', '人', '关', '系', '）', 'с', 'и', 'б', '💋', '💀', '🎄', '💜', '🤢', 'ِ', 'َ', 'ʿ', 'ь', 'ы', 'г', 'я', 'ṣ', '✨', '不', '是', '。', 'ɑ', '\\x80', '\\x9c', '\\x9d', '🗑', '\\u2005', '̇', '💃', 'û', '📣', '👿', 'ș', '༼', 'つ', '◕', '༽', '😰', 'ḷ', 'з', '▱', 'ц', '￼', 'ć', 'ė', '🤣', '卖', '！', '温', '哥', '华', '议', '会', '下', '降', '％', '你', '失', '去', '所', '有', '的', '钱', '加', '拿', '大', '坏', '税', '骗', '子', '🐝', '¯', 'ツ', '🎅', '\\x85', '🍺', 'œ', 'آ', 'إ', 'ش', 'ء', '−', 'ﬂ', 'ﬁ', 'ĥ', '🎵', '̈', '🌎', '͟', 'ἔ', '油', '别', '克', '🤡', '🤥', '😬', '🤧', 'й', '\\u2003', '₁', '²', '🚀', '🤴', 'ʌ', 'ʲ', 'ш', '¼', '⁴', '⁄', '₄', '⌠', 'ч', 'ф', 'ю', '♭', 'ж', '✘', '😝', '🖑', 'ὐ', 'ύ', 'ύ', '特', '殊', '作', '戦', '群', '╪', 'щ', '💨', '圆', '明', '园', 'ק', '▶', 'ℐ', '☭', '✭', '🏈', '😺', '♪', '🌍', '⏏', 'đ', 'ệ', 'ư', 'ơ', 'ă', 'ģ', '🍔', '🐮', '🍁', '☔', '🍆', '🍑', '🌮', '🌯', '☠', '🤦', '\\u200d', '♂', '𝓒', '𝓲', '𝓿', '𝓵', 'ę', '안', '영', '하', '세', '요', 'ǐ', 'ž', 'љ', 'ћ', '🍀', '😫', '🤤', 'ῦ', '我', '出', '生', '在', '了', '可', '以', '说', '普', '通', '话', '汉', '语', '好', '极', '🎼', '🕺', '☃', '🍸', '🥂', '🗽', '🎇', '🎊', '🆘', '☎', '🤠', '👩', '✈', '🖒', '✌', '✰', '❆', '☙', '🚪', '天', '一', '家', '⚲', '\\u2006', '⚭', '⚆', '⬭', '⬯', '⏖', '○', '‣', '⚓', '新', '年', '∎', 'ℒ', '▪', 'ǎ', '▙', '☏', '⅛', '✀', '╌', '🇫', '🇷', '🇩', '🇪', '🇮', '🇬', '🇧', '😷', '🇨', '🇦', '🌐', '\\x1f', 'ĉ', '杀', '鸡', '给', '猴', '看', 'ʁ', '𝗪', '𝗵', '𝗲', '𝗻', '𝘆', '𝗼', '𝘂', '𝗿', '𝗮', '𝗹', '𝗶', '𝘇', '𝗯', '𝘁', '𝗰', '𝘀', '𝘅', '𝗽', '𝘄', '𝗱', '📺', 'ý', 'ϖ', '\\u2000', 'ү', 'ս', 'ａ', 'ᴦ', 'ꭵ', 'һ', 'ͺ', '\\u2007', 'հ', 'ǀ', '\\u2001', 'ɩ', '℮', 'ｙ', '൦', 'ｌ', 'ƽ', '¸', 'ｗ', '𝐓', '𝐡', '𝐞', '𝐫', '𝐮', '𝐝', '𝐚', '𝐃', '𝐜', '𝐩', '𝐭', '𝐢', '𝐨', '𝐧', 'ƅ', 'ᴨ', '‚', 'ן', 'ᑯ', '໐', 'ꮷ', 'ſ', '௦', 'і', 'ᴑ', '܁', '𝐬', '𝐰', '𝐲', '𝐛', '𝐦', '𝐯', '𝐑', '𝐙', '𝐣', '𝐇', '𝐂', '𝐘', '𝟎', 'ԝ', 'ᗞ', '౦', '〔', 'ꭻ', 'ı', '𝐳', '𝐔', '𝐱', '𝟔', '𝟓', '𝐅', '🐋', 'ẃ', 'ĝ', '∼', 'ﬃ', '💘', '💓', 'ё', '𝘥', '𝘯', '𝘶', '‖', '💐', '🌋', '🌄', '🌅', '𝙬', '𝙖', '𝙨', '𝙤', '𝙣', '𝙡', '𝙮', '𝙘', '𝙠', '𝙚', '𝙙', '𝙜', '𝙧', '𝙥', '𝙩', '𝙪', '𝙗', '𝙞', '𝙝', '𝙛', '👺', '🐷', 'ℋ', 'ℳ', '𝐀', '𝐥', '𝐪', '❄', '🚶', '←', '𝙢', 'ἱ', '🤘', 'ͦ', '💸', '☼', 'ج', '패', '티', '⋆', '𝙇', 'ʒ', 'ᵻ', '👂', '👃', 'ɜ', '🎫', '\\uf0a7', 'ǔ', '🚢']\n"
     ]
    }
   ],
   "source": [
    "# UExtract all unique characters from the comment text as a basis for translation and/or replacement\n",
    "characters = extract_used_characters(train_data['comment_text'])\n",
    "print(characters)"
   ]
  },
  {
   "cell_type": "code",
   "execution_count": 99,
   "metadata": {},
   "outputs": [],
   "source": [
    "# convert contradictions before removing symbols\n",
    "# Add more translations of symbols!!!\n",
    "contraction_dict = {\"#\":\"\",\"ain't\": \"is not\", \"aren't\": \"are not\",\"can't\": \"cannot\", \"'cause\": \"because\", \"could've\": \"could have\", \"couldn't\": \"could not\", \"didn't\": \"did not\",  \"doesn't\": \"does not\", \"don't\": \"do not\", \"hadn't\": \"had not\", \"hasn't\": \"has not\", \"haven't\": \"have not\", \"he'd\": \"he would\",\"he'll\": \"he will\", \"he's\": \"he is\", \"how'd\": \"how did\", \"how'd'y\": \"how do you\", \"how'll\": \"how will\", \"how's\": \"how is\",  \"I'd\": \"I would\", \"I'd've\": \"I would have\", \"I'll\": \"I will\", \"I'll've\": \"I will have\",\"I'm\": \"I am\", \"I've\": \"I have\", \"i'd\": \"i would\", \"i'd've\": \"i would have\", \"i'll\": \"i will\",  \"i'll've\": \"i will have\",\"i'm\": \"i am\", \"i've\": \"i have\", \"isn't\": \"is not\", \"it'd\": \"it would\", \"it'd've\": \"it would have\", \"it'll\": \"it will\", \"it'll've\": \"it will have\",\"it's\": \"it is\", \"let's\": \"let us\", \"ma'am\": \"madam\", \"mayn't\": \"may not\", \"might've\": \"might have\",\"mightn't\": \"might not\",\"mightn't've\": \"might not have\", \"must've\": \"must have\", \"mustn't\": \"must not\", \"mustn't've\": \"must not have\", \"needn't\": \"need not\", \"needn't've\": \"need not have\",\"o'clock\": \"of the clock\", \"oughtn't\": \"ought not\", \"oughtn't've\": \"ought not have\", \"shan't\": \"shall not\", \"sha'n't\": \"shall not\", \"shan't've\": \"shall not have\", \"she'd\": \"she would\", \"she'd've\": \"she would have\", \"she'll\": \"she will\", \"she'll've\": \"she will have\", \"she's\": \"she is\", \"should've\": \"should have\", \"shouldn't\": \"should not\", \"shouldn't've\": \"should not have\", \"so've\": \"so have\",\"so's\": \"so as\", \"this's\": \"this is\",\"that'd\": \"that would\", \"that'd've\": \"that would have\", \"that's\": \"that is\", \"there'd\": \"there would\", \"there'd've\": \"there would have\", \"there's\": \"there is\", \"here's\": \"here is\",\"they'd\": \"they would\", \"they'd've\": \"they would have\", \"they'll\": \"they will\", \"they'll've\": \"they will have\", \"they're\": \"they are\", \"they've\": \"they have\", \"to've\": \"to have\", \"wasn't\": \"was not\", \"we'd\": \"we would\", \"we'd've\": \"we would have\", \"we'll\": \"we will\", \"we'll've\": \"we will have\", \"we're\": \"we are\", \"we've\": \"we have\", \"weren't\": \"were not\", \"what'll\": \"what will\", \"what'll've\": \"what will have\", \"what're\": \"what are\",  \"what's\": \"what is\", \"what've\": \"what have\", \"when's\": \"when is\", \"when've\": \"when have\", \"where'd\": \"where did\", \"where's\": \"where is\", \"where've\": \"where have\", \"who'll\": \"who will\", \"who'll've\": \"who will have\", \"who's\": \"who is\", \"who've\": \"who have\", \"why's\": \"why is\", \"why've\": \"why have\", \"will've\": \"will have\", \"won't\": \"will not\", \"won't've\": \"will not have\", \"would've\": \"would have\", \"wouldn't\": \"would not\", \"wouldn't've\": \"would not have\", \"y'all\": \"you all\", \"y'all'd\": \"you all would\",\"y'all'd've\": \"you all would have\",\"y'all're\": \"you all are\",\"y'all've\": \"you all have\",\"you'd\": \"you would\", \"you'd've\": \"you would have\", \"you'll\": \"you will\", \"you'll've\": \"you will have\", \"you're\": \"you are\", \"you've\": \"you have\"}\n",
    "\n",
    "def _get_contractions(contraction_dict):\n",
    "    contraction_re = re.compile('(%s)' % '|'.join(contraction_dict.keys()))\n",
    "    return contraction_dict, contraction_re\n",
    "\n",
    "contractions, contractions_re = _get_contractions(contraction_dict)\n",
    "\n",
    "def replace_contractions(text):\n",
    "    def replace(match):\n",
    "        return contractions[match.group(0)]\n",
    "    return contractions_re.sub(replace, text)\n"
   ]
  },
  {
   "cell_type": "code",
   "execution_count": 100,
   "metadata": {},
   "outputs": [],
   "source": [
    "train_data.comment_text = train_data.comment_text.apply(lambda x: replace_contractions(x))"
   ]
  },
  {
   "cell_type": "code",
   "execution_count": 101,
   "metadata": {},
   "outputs": [],
   "source": [
    "#Remove all remaining symbols\n",
    "# Some preprocesssing that will be common to all the text classification methods you will see. \n",
    "#https://mlwhiz.com/blog/2019/01/17/deeplearning_nlp_preprocess/\n",
    "\n",
    "puncts = [\"'\",',', '.', '\"', ':', ')', '(', '-', '!', '?', '|', ';', '$', '&', '/', '[', ']', '>', '%', '=', '#', ' # ', '# ','*', '+', '\\\\', '•',  '~', '@', '£', \n",
    " '·', '_', '{', '}', '©', '^', '®', '`',  '<', '→', '°', '€', '™', '›',  '♥', '←', '×', '§', '″', '′', 'Â', '█', '½', 'à', '…', \n",
    " '“', '★', '”', '–', '●', 'â', '►', '−', '¢', '²', '¬', '░', '¶', '↑', '±', '¿', '▾', '═', '¦', '║', '―', '¥', '▓', '—', '‹', '─', \n",
    " '▒', '：', '¼', '⊕', '▼', '▪', '†', '■', '’', '▀', '¨', '▄', '♫', '☆', 'é', '¯', '♦', '¤', '▲', 'è', '¸', '¾', 'Ã', '⋅', '‘', '∞', \n",
    " '∙', '）', '↓', '、', '│', '（', '»', '，', '♪', '╩', '╚', '³', '・', '╦', '╣', '╔', '╗', '▬', '❤', 'ï', 'Ø', '¹', '≤', '‡', '√', ]\n",
    "\n",
    "def clean_text(x):\n",
    "    x = str(x)\n",
    "    for punct in puncts:\n",
    "        if punct in x:\n",
    "            x = x.replace(punct, '')\n",
    "    return x"
   ]
  },
  {
   "cell_type": "code",
   "execution_count": 102,
   "metadata": {},
   "outputs": [],
   "source": [
    "# Apply text cleaning on comment text\n",
    "train_data.comment_text = train_data.comment_text.apply(lambda x: clean_text(x))"
   ]
  },
  {
   "cell_type": "code",
   "execution_count": 103,
   "metadata": {},
   "outputs": [],
   "source": [
    "#https://mlwhiz.com/blog/2019/01/17/deeplearning_nlp_preprocess/\n",
    "import re\n",
    "def clean_numbers(x):\n",
    "    if bool(re.search(r'\\d', x)):\n",
    "        x = re.sub('[0-9]{5,}', '#####', x)\n",
    "        x = re.sub('[0-9]{4}', '####', x)\n",
    "        x = re.sub('[0-9]{3}', '###', x)\n",
    "        x = re.sub('[0-9]{2}', '##', x)\n",
    "    return x"
   ]
  },
  {
   "cell_type": "code",
   "execution_count": 104,
   "metadata": {},
   "outputs": [],
   "source": [
    "# Remove numbers from comment text\n",
    "train_data.comment_text = train_data.comment_text.apply(lambda x: clean_numbers(x))"
   ]
  },
  {
   "cell_type": "code",
   "execution_count": 105,
   "metadata": {},
   "outputs": [],
   "source": [
    "# Lemmatize text to its root words\n",
    "#https://www.datacamp.com/community/tutorials/stemming-lemmatization-python\n",
    "from nltk.tokenize import word_tokenize\n",
    "from nltk.stem import PorterStemmer\n",
    "from nltk.stem import LancasterStemmer\n",
    "from nltk.stem import WordNetLemmatizer\n",
    "\n",
    "lemma = WordNetLemmatizer()\n",
    "\n",
    "def lemSentence(sentence):\n",
    "    token_words=word_tokenize(sentence)\n",
    "    token_words\n",
    "    stem_sentence=[]\n",
    "    for word in token_words:\n",
    "        stem_sentence.append(lemma.lemmatize(word))\n",
    "        stem_sentence.append(\" \")\n",
    "    return \"\".join(stem_sentence)"
   ]
  },
  {
   "cell_type": "code",
   "execution_count": 106,
   "metadata": {},
   "outputs": [],
   "source": [
    "# Apply Lemmatization on comment text\n",
    "train_data.comment_text = train_data.comment_text.apply(lambda x: lemSentence(x))"
   ]
  },
  {
   "cell_type": "markdown",
   "metadata": {},
   "source": [
    "#https://pypi.org/project/pyspellchecker/\n",
    "import pyspellchecker\n",
    "from spellchecker import SpellChecker\n",
    "\n",
    "spell = SpellChecker()\n",
    "\n",
    "def sellCheck(text):\n",
    "    # find those words that may be misspelled\n",
    "    misspelled = spell.unknown(text)\n",
    "\n",
    "    for word in misspelled:\n",
    "        # Get the one `most likely` answer\n",
    "        word = spell.correction(word)"
   ]
  },
  {
   "cell_type": "code",
   "execution_count": 107,
   "metadata": {},
   "outputs": [
    {
     "name": "stdout",
     "output_type": "stream",
     "text": [
      "0 :  this is so cool it is like would you want your mother to read this really great idea well done \n",
      "1 :  thank you this would make my life a lot le anxietyinducing keep it up and do not let anyone get in your way \n",
      "2 :  this is such an urgent design problem kudos to you for taking it on very impressive \n",
      "3 :  is this something i will be able to install on my site when will you be releasing it \n",
      "4 :  ffffuuuuuuuuuuuuuuu \n",
      "5 :  the rancher seem motivated by mostly by greed no one should have the right to allow their animal destroy public land \n",
      "6 :  it wa a great show not a combo i would of expected to be good together but it wa \n",
      "7 :  wow that sound great \n",
      "8 :  this seems like a step in the right direction \n",
      "9 :  i agree i do not want to grant them the legitimacy of protestors they are greedy smallminded people who somehow seem to share the mass delusion that this is not only a good idea for themselves a individual but is the right thing to do for rancher at large basically take something that currently belongs to everyone and give it to a select group of people so they can profit \n",
      "10 :  interesting i will be curious to see how this work out i often refrain from commenting because i do not have the time or desire to engage with the couple of resident troll who seem to jump on every active ww comment thread \n",
      "11 :  awesome i love civil comment \n",
      "12 :  i am glad you are working on this and i look forward to seeing how it play out the comment section of online news story have the potential to be great tool for community interaction about current event a neo town hall of sort one of the reason i rely on reddit a a platform for news and local discussion is that there is a sense of community interaction that is often lacking in my real life hectic discussion but hopefully we will not be tempted to silence those who take unpopular stance \n",
      "13 :  nice to some attempt to try to make comment betterit feel like any innovation in commenting community ended with the launch of disqus nearly a decade ago \n",
      "14 :  one would hope that the purpose of introducing this system is to encourage more debate and discussion not le it seems there are several thing that limit the flow of discussion making comment that are personal attack or encouraging witch hunt true spam which ha been a real problem on wws comment section in my experience and chasing rabbit to draw discussion away from the primary subject at hand i for one do not want to see unpopular opinion silenced healthy debate is an important component of a civil society but when discussion degenerate into insult and distraction it actually limit the ability of people to talk with each other i am believing that this is the intention of your newspaper here and i hope it is a movement that result in more not le commentary on current event we need it \n",
      "15 :  comment will be randomly chosen and be reviewed by more than one person but i bet the civil people have an even better more thorough answer to this question \n",
      "16 :  she would be a major improvement for city council and she ha a long history of giving all citizen a voice she is a problem solver that is what portland need \n",
      "17 :  i agree comment have so much potential to be place for active discussion especially in publication that already serve an amazing community but then i am biasedi am a civil cofounder we have worked hard to make sure that the comment section will not become an echo chamber though by combining clever algorithm on the backend with the peer review that is also why there are two separate question is this a good comment and is this comment civil \n",
      "18 :  great question it is one we are asked a lot we have designed the system assuming that people will try to abuse it so in addition to the peer review there are algorithm on the backend doing a lot of metaanalysis i am sure the system is not # # # perfect yet but we know from month of beta testing that it is a really solid start and we will keep working to improve it \n",
      "19 :  thanks christa will you be adding any feature to allow overall upvotes of the article itself also notification setting for user \n",
      "20 :  our aim is actually the opposite we want spirited debate in which everyone feel free to participate without fear of harassment abuse or death threat right now a lot of voice are being silenced due to that fear we designed civil comment for civil respectful discussion and debatewe do not want it to become a positive comment only echo chamber there is a lot going on on the backend to prevent abuse of the system so everyone is free to speak their mind even if their opinion is unpopularso long a they treat each other with respect \n"
     ]
    }
   ],
   "source": [
    "for n, v in enumerate(train_data.loc[train_data.target==0.0, 'comment_text']):\n",
    "    print(n, ': ', v)\n",
    "    if n == 20:\n",
    "        break"
   ]
  },
  {
   "cell_type": "code",
   "execution_count": 108,
   "metadata": {},
   "outputs": [],
   "source": [
    "# Check on why the hastags stayed !!"
   ]
  },
  {
   "cell_type": "code",
   "execution_count": 109,
   "metadata": {},
   "outputs": [],
   "source": [
    "from nltk.corpus import stopwords\n",
    "import gensim\n",
    "from gensim.utils import simple_preprocess\n",
    "from gensim.parsing.preprocessing import STOPWORDS\n",
    "from nltk.stem import WordNetLemmatizer, SnowballStemmer\n",
    "from nltk.tokenize import word_tokenize\n",
    "from nltk.stem import PorterStemmer\n",
    "from nltk.stem import LancasterStemmer\n",
    "\n",
    "stop_words = stopwords.words('english')\n"
   ]
  },
  {
   "cell_type": "code",
   "execution_count": 110,
   "metadata": {},
   "outputs": [],
   "source": [
    "# Tokenize the comment text\n",
    "tok_comments = [word_tokenize(com) for com in train_data.comment_text]\n"
   ]
  },
  {
   "cell_type": "code",
   "execution_count": 111,
   "metadata": {},
   "outputs": [],
   "source": [
    "# Remove stopwords\n",
    "tokens = [[w for w in s if (w not in stop_words) & (len(w)>2)] for s in tok_comments]"
   ]
  },
  {
   "cell_type": "code",
   "execution_count": 112,
   "metadata": {},
   "outputs": [],
   "source": [
    "from nltk.probability import FreqDist"
   ]
  },
  {
   "cell_type": "code",
   "execution_count": 113,
   "metadata": {},
   "outputs": [
    {
     "data": {
      "image/png": "[encoded data removed]",
      "text/plain": [
       "<Figure size 432x288 with 1 Axes>"
      ]
     },
     "metadata": {},
     "output_type": "display_data"
    }
   ],
   "source": [
    "#plot the most frequent words\n",
    "tokens = np.array([np.array(s) for s in tokens])\n",
    "fdist = FreqDist(np.concatenate(tokens))\n",
    "fdist.plot(30,cumulative=False)\n",
    "plt.show()"
   ]
  },
  {
   "cell_type": "code",
   "execution_count": 114,
   "metadata": {},
   "outputs": [
    {
     "data": {
      "image/png": "[encoded data removed]",
      "text/plain": [
       "<Figure size 432x288 with 1 Axes>"
      ]
     },
     "metadata": {},
     "output_type": "display_data"
    }
   ],
   "source": [
    "#plot the most frequent word pairs\n",
    "from nltk import bigrams, ngrams\n",
    "bigrams_tokens = bigrams(np.concatenate(tokens))\n",
    "fdist_bigrams = FreqDist(list(bigrams_tokens))\n",
    "fdist_bigrams.plot(30,cumulative=False)\n",
    "plt.show()"
   ]
  },
  {
   "cell_type": "markdown",
   "metadata": {},
   "source": [
    "Correct Misspellings - WIP!"
   ]
  },
  {
   "cell_type": "code",
   "execution_count": 115,
   "metadata": {},
   "outputs": [],
   "source": [
    "# This comes from CPMP script in the Quora questions similarity challenge. \n",
    "import re\n",
    "from collections import Counter\n",
    "import gensim\n",
    "import heapq\n",
    "from operator import itemgetter\n",
    "from multiprocessing import Pool"
   ]
  },
  {
   "cell_type": "code",
   "execution_count": 116,
   "metadata": {},
   "outputs": [],
   "source": [
    "def words(text): return re.findall(r'\\w+', text.lower())\n",
    "\n",
    "def P(word): \n",
    "    \"Probability of `word`.\"\n",
    "    # use inverse of rank as proxy\n",
    "    # returns 0 if the word isn't in the dictionary\n",
    "    return - WORDS.get(word, 0)\n",
    "\n",
    "def correction(word): \n",
    "    \"Most probable spelling correction for word.\"\n",
    "    return max(candidates(word), key=P)\n",
    "\n",
    "def candidates(word): \n",
    "    \"Generate possible spelling corrections for word.\"\n",
    "    return (known([word]) or known(edits1(word)) or known(edits2(word)) or [word])\n",
    "\n",
    "def known(words): \n",
    "    \"The subset of `words` that appear in the dictionary of WORDS.\"\n",
    "    return set(w for w in words if w in WORDS)\n",
    "\n",
    "def edits1(word):\n",
    "    \"All edits that are one edit away from `word`.\"\n",
    "    letters    = 'abcdefghijklmnopqrstuvwxyz'\n",
    "    splits     = [(word[:i], word[i:])    for i in range(len(word) + 1)]\n",
    "    deletes    = [L + R[1:]               for L, R in splits if R]\n",
    "    transposes = [L + R[1] + R[0] + R[2:] for L, R in splits if len(R)>1]\n",
    "    replaces   = [L + c + R[1:]           for L, R in splits if R for c in letters]\n",
    "    inserts    = [L + c + R               for L, R in splits for c in letters]\n",
    "    return set(deletes + transposes + replaces + inserts)\n",
    "\n",
    "def edits2(word): \n",
    "    \"All edits that are two edits away from `word`.\"\n",
    "    return (e2 for e1 in edits1(word) for e2 in edits1(e1))\n",
    "\n",
    "def build_vocab(texts):\n",
    "    sentences = texts.apply(lambda x: x.split()).values\n",
    "    vocab = {}\n",
    "    for sentence in sentences:\n",
    "        for word in sentence:\n",
    "            try:\n",
    "                vocab[word] += 1\n",
    "            except KeyError:\n",
    "                vocab[word] = 1\n",
    "    return vocab\n"
   ]
  },
  {
   "cell_type": "code",
   "execution_count": 117,
   "metadata": {},
   "outputs": [],
   "source": [
    "model = gensim.models.KeyedVectors.load_word2vec_format('../s_lohmann18/GoogleNews-vectors-negative300.bin.gz', \n",
    "                                                        binary=True)\n",
    "words = model.index2word\n",
    "\n",
    "w_rank = {}\n",
    "for i,word in enumerate(words):\n",
    "    w_rank[word] = i\n",
    "\n",
    "WORDS = w_rank"
   ]
  },
  {
   "cell_type": "code",
   "execution_count": 118,
   "metadata": {},
   "outputs": [],
   "source": [
    "vocab = fdist"
   ]
  },
  {
   "cell_type": "code",
   "execution_count": 119,
   "metadata": {},
   "outputs": [],
   "source": [
    "top_10k_words = dict(heapq.nlargest(10000, vocab.items(), key=itemgetter(1)))"
   ]
  },
  {
   "cell_type": "code",
   "execution_count": 120,
   "metadata": {},
   "outputs": [],
   "source": [
    "pool = Pool(4)\n",
    "corrected_words = pool.map(correction,list(top_10k_words.keys()))"
   ]
  },
  {
   "cell_type": "code",
   "execution_count": 121,
   "metadata": {},
   "outputs": [],
   "source": [
    "misspell_dict = {}\n",
    "for word,corrected_word in zip(top_10k_words,corrected_words):\n",
    "    if word!=corrected_word:\n",
    "        misspell_dict[word] = corrected_word"
   ]
  },
  {
   "cell_type": "code",
   "execution_count": 122,
   "metadata": {},
   "outputs": [
    {
     "data": {
      "text/plain": [
       "{'alaskan': 'alaska',\n",
       " 'juneau': 'bureau',\n",
       " 'wynne': 'wynn',\n",
       " 'fairbanks': 'hairbands',\n",
       " 'oleary': 'bleary',\n",
       " 'judgement': 'judgment',\n",
       " 'bannon': 'cannon',\n",
       " 'favour': 'favor',\n",
       " 'nra': 'era',\n",
       " 'behaviour': 'behavior',\n",
       " 'uaa': 'aa',\n",
       " 'labour': 'labor',\n",
       " 'doesnt': 'doesn',\n",
       " 'didnt': 'didn',\n",
       " 'ncr': 'nor',\n",
       " 'hrc': 'arc',\n",
       " 'djou': 'jou',\n",
       " 'blm': 'bln',\n",
       " 'comey': 'come',\n",
       " 'centre': 'center',\n",
       " 'assad': 'assay',\n",
       " 'altright': 'alright',\n",
       " 'brexit': 'credit',\n",
       " 'aleppo': 'klepto',\n",
       " 'parnell': 'panel',\n",
       " 'oahu': 'bahu',\n",
       " 'benghazi': 'bengali',\n",
       " 'wwii': 'wii',\n",
       " 'isnt': 'int',\n",
       " 'flynn': 'flyin',\n",
       " 'defence': 'defense',\n",
       " 'leitch': 'letch',\n",
       " 'seward': 'reward',\n",
       " 'begich': 'begin',\n",
       " 'kenai': 'kenaf',\n",
       " 'wavemaker': 'pacemaker',\n",
       " 'oha': 'oh',\n",
       " 'neighbour': 'neighbor',\n",
       " 'adventist': 'advertise',\n",
       " 'antitrump': 'antitrust',\n",
       " 'devos': 'demos',\n",
       " 'oregonian': 'gorgonian',\n",
       " 'freeland': 'freehand',\n",
       " 'scotus': 'scouts',\n",
       " 'tpp': 'top',\n",
       " 'crimea': 'crime',\n",
       " 'deplorables': 'deplorable',\n",
       " 'eweb': 'web',\n",
       " 'wente': 'went',\n",
       " 'pfds': 'pads',\n",
       " 'hisher': 'higher',\n",
       " 'heshe': 'hehe',\n",
       " 'christy': 'christ',\n",
       " 'notley': 'motley',\n",
       " 'merkel': 'market',\n",
       " 'matsu': 'mats',\n",
       " 'colour': 'color',\n",
       " 'justins': 'justin',\n",
       " 'denali': 'deal',\n",
       " 'fptp': 'ftp',\n",
       " 'hominem': 'nominee',\n",
       " 'uaf': 'af',\n",
       " 'wasilla': 'pasilla',\n",
       " 'msw': 'mow',\n",
       " 'gci': 'gi',\n",
       " 'ptsd': 'pts',\n",
       " 'selfie': 'selkie',\n",
       " 'valdez': 'value',\n",
       " 'cancelled': 'canceled',\n",
       " 'chretien': 'cretin',\n",
       " 'gabbard': 'aboard',\n",
       " 'usccb': 'scab',\n",
       " 'coghill': 'chill',\n",
       " 'hpd': 'had',\n",
       " 'doj': 'do',\n",
       " 'chaput': 'caput',\n",
       " 'cheque': 'chaque',\n",
       " 'rcc': 'rec',\n",
       " 'albertans': 'alberta',\n",
       " 'selfies': 'series',\n",
       " 'shannyn': 'shannon',\n",
       " 'honour': 'honor',\n",
       " 'kansa': 'kansas',\n",
       " 'conoco': 'condo',\n",
       " 'rhyner': 'rhymer',\n",
       " 'tillerson': 'tillers',\n",
       " 'rrsp': 'rasp',\n",
       " 'grey': 'grew',\n",
       " 'trumpster': 'trumpeter',\n",
       " 'wapo': 'capo',\n",
       " 'dermot': 'dermo',\n",
       " 'neighbourhood': 'neighborhood',\n",
       " 'wasnt': 'want',\n",
       " 'spicer': 'spice',\n",
       " 'dolan': 'doan',\n",
       " 'alceste': 'lacoste',\n",
       " 'waikiki': 'akikiki',\n",
       " 'fdr': 'for',\n",
       " 'remington': 'lamington',\n",
       " 'boyden': 'border',\n",
       " 'offence': 'offense',\n",
       " 'monsef': 'money',\n",
       " 'yᴏᴜ': 'you',\n",
       " 'chenault': 'renault',\n",
       " 'kesey': 'kelsey',\n",
       " 'giessel': 'vessel',\n",
       " 'melania': 'melanin',\n",
       " 'piercy': 'pierce',\n",
       " 'morneau': 'cornea',\n",
       " 'kodiak': 'kodak',\n",
       " 'thatll': 'that',\n",
       " 'snowden': 'snowmen',\n",
       " 'jpii': 'join',\n",
       " 'tnr': 'tar',\n",
       " 'donalds': 'donald',\n",
       " 'jesuit': 'result',\n",
       " 'babcock': 'bannock',\n",
       " 'ivanka': 'banka',\n",
       " 'gardiner': 'gardener',\n",
       " 'lpc': 'plc',\n",
       " 'scalia': 'scala',\n",
       " 'krugman': 'frogman',\n",
       " 'favourite': 'favorite',\n",
       " 'ceta': 'beta',\n",
       " 'tfsa': 'tsa',\n",
       " 'theatre': 'theater',\n",
       " 'vinis': 'vines',\n",
       " 'drumpf': 'dump',\n",
       " 'emx': 'ex',\n",
       " 'fta': 'fat',\n",
       " 'mcguire': 'acquire',\n",
       " 'fidel': 'fide',\n",
       " 'pharisee': 'pharisees',\n",
       " 'mauna': 'fauna',\n",
       " 'whidbey': 'whiskey',\n",
       " 'spenard': 'spend',\n",
       " 'elli': 'alli',\n",
       " 'antimuslim': 'antimusic',\n",
       " 'prudhoe': 'prude',\n",
       " 'edwin': 'win',\n",
       " 'munoz': 'minor',\n",
       " 'lgbtq': 'lgbt',\n",
       " 'pmo': 'pm',\n",
       " 'seaton': 'season',\n",
       " 'ige': 'age',\n",
       " 'kellie': 'kelpie',\n",
       " 'podesta': 'modest',\n",
       " 'adfg': 'affg',\n",
       " 'ontarians': 'contrarians',\n",
       " 'amoris': 'adores',\n",
       " 'noaa': 'nova',\n",
       " 'anwr': 'awr',\n",
       " 'labelled': 'labeled',\n",
       " 'wynnes': 'winner',\n",
       " 'streep': 'street',\n",
       " 'kealoha': 'aloha',\n",
       " 'farright': 'freight',\n",
       " 'mosul': 'mogul',\n",
       " 'humour': 'humor',\n",
       " 'ctv': 'tv',\n",
       " 'pfeffer': 'prefer',\n",
       " 'kauai': 'kauri',\n",
       " 'orwell': 'well',\n",
       " 'ruiz': 'ruin',\n",
       " 'bigoil': 'boil',\n",
       " 'kaine': 'maine',\n",
       " 'raitt': 'raita',\n",
       " 'mulcair': 'mulcher',\n",
       " 'truman': 'human',\n",
       " 'elise': 'else',\n",
       " 'pruitt': 'print',\n",
       " 'fonda': 'fond',\n",
       " 'schill': 'chill',\n",
       " 'hodad': 'had',\n",
       " 'slott': 'slot',\n",
       " 'cdf': 'pdf',\n",
       " 'l2g': 'leg',\n",
       " 'axe': 'are',\n",
       " 'kasich': 'kasih',\n",
       " 'travelling': 'traveling',\n",
       " 'wyatt': 'watt',\n",
       " 'shurtz': 'short',\n",
       " 'clallam': 'challan',\n",
       " 'bigly': 'billy',\n",
       " 'gmos': 'mos',\n",
       " 'deady': 'ready',\n",
       " 'malheur': 'masseur',\n",
       " 'tfws': 'tows',\n",
       " 'trumpism': 'trumps',\n",
       " 'girdwood': 'hardwood',\n",
       " 'scotia': 'scoria',\n",
       " 'sitka': 'sika',\n",
       " 'chugiak': 'chugga',\n",
       " 'isil': 'sil',\n",
       " 'cupich': 'rupiah',\n",
       " 'aint': 'paint',\n",
       " 'bundys': 'bunds',\n",
       " 'writein': 'writen',\n",
       " 'shouldnt': 'shouldn',\n",
       " 'dubia': 'dubai',\n",
       " 'koncerned': 'concerned',\n",
       " 'keala': 'koala',\n",
       " 'kurgan': 'urban',\n",
       " 'crtc': 'croc',\n",
       " 'trumpy': 'trump',\n",
       " 'aquinas': 'equines',\n",
       " 'bernier': 'dernier',\n",
       " '8months': 'months',\n",
       " 'gorsuch': 'grouch',\n",
       " 'bernies': 'berries',\n",
       " 'himher': 'higher',\n",
       " 'byfar': 'year',\n",
       " 'outofstate': 'outstate',\n",
       " 'sjw': 'saw',\n",
       " 'knik': 'knit',\n",
       " 'hasnt': 'haunt',\n",
       " 'singlepayer': 'singleplayer',\n",
       " 'licence': 'license',\n",
       " 'neonazi': 'neonate',\n",
       " 'trumpsters': 'trumpeters',\n",
       " 'prevo': 'prev',\n",
       " 'litre': 'liter',\n",
       " 'gattis': 'gatti',\n",
       " 'meggsy': 'eggs',\n",
       " 'whiteaker': 'hitmaker',\n",
       " 'palins': 'pains',\n",
       " 'oilies': 'lilies',\n",
       " 'heco': 'hero',\n",
       " 'tobin': 'toxin',\n",
       " 'pius': 'plus',\n",
       " 'gerson': 'person',\n",
       " 'burnaby': 'bursary',\n",
       " 'chugach': 'church',\n",
       " 'flexpipe': 'flextime',\n",
       " 'finicum': 'minimum',\n",
       " 'haycox': 'paybox',\n",
       " 'atwood': 'stood',\n",
       " 'coer': 'cover',\n",
       " 'comeys': 'comes',\n",
       " 'afn': 'an',\n",
       " 'nageak': 'nagar',\n",
       " 'agw': 'ago',\n",
       " 'caplan': 'caplin',\n",
       " 'larson': 'arson',\n",
       " 'mencken': 'mensen',\n",
       " 'sjws': 'saws',\n",
       " 'olson': 'olsen',\n",
       " 'mahawker': 'hawker',\n",
       " 'hortons': 'portions',\n",
       " 'aogcc': 'logic',\n",
       " 'beltrami': 'beltran',\n",
       " 'poloz': 'polo',\n",
       " 'susitna': 'sestina',\n",
       " 'bannons': 'cannons',\n",
       " 'seneca': 'select',\n",
       " 'johann': 'john',\n",
       " 'lcc': 'cc',\n",
       " 'acknowledgement': 'acknowledgment',\n",
       " 'vlad': 'glad',\n",
       " 'qubec': 'quebec',\n",
       " 'hilliary': 'hillary',\n",
       " 'dlnr': 'dlr',\n",
       " 'airbnb': 'airing',\n",
       " 'justine': 'justice',\n",
       " 'gim': 'him',\n",
       " 'knowles': 'knows',\n",
       " 'latvia': 'lava',\n",
       " 'adolf': 'golf',\n",
       " 'minnery': 'ginnery',\n",
       " 'djous': 'dous',\n",
       " 'adns': 'adds',\n",
       " 'denby': 'deny',\n",
       " 'dvp': 'dip',\n",
       " 'obomba': 'bomba',\n",
       " 'kearon': 'karon',\n",
       " 'cayetano': 'capitano',\n",
       " 'jughead': 'jighead',\n",
       " 'langley': 'largley',\n",
       " 'trumpian': 'trumping',\n",
       " 'boc': 'boy',\n",
       " 'enb': 'end',\n",
       " 'swsaz': 'wsaz'}"
      ]
     },
     "execution_count": 122,
     "metadata": {},
     "output_type": "execute_result"
    }
   ],
   "source": [
    "misspell_dict"
   ]
  },
  {
   "cell_type": "code",
   "execution_count": 123,
   "metadata": {},
   "outputs": [
    {
     "data": {
      "text/plain": [
       "'What is demonstration'"
      ]
     },
     "execution_count": 123,
     "metadata": {},
     "output_type": "execute_result"
    }
   ],
   "source": [
    "#mispell_dict = {'colour': 'color', 'centre': 'center', 'favourite': 'favorite', 'travelling': 'traveling', 'counselling': 'counseling', 'theatre': 'theater', 'cancelled': 'canceled', 'labour': 'labor', 'organisation': 'organization', 'wwii': 'world war 2', 'citicise': 'criticize', 'youtu ': 'youtube ', 'Qoura': 'Quora', 'sallary': 'salary', 'Whta': 'What', 'narcisist': 'narcissist', 'howdo': 'how do', 'whatare': 'what are', 'howcan': 'how can', 'howmuch': 'how much', 'howmany': 'how many', 'whydo': 'why do', 'doI': 'do I', 'theBest': 'the best', 'howdoes': 'how does', 'mastrubation': 'masturbation', 'mastrubate': 'masturbate', \"mastrubating\": 'masturbating', 'pennis': 'penis', 'Etherium': 'Ethereum', 'narcissit': 'narcissist', 'bigdata': 'big data', '2k17': '2017', '2k18': '2018', 'qouta': 'quota', 'exboyfriend': 'ex boyfriend', 'airhostess': 'air hostess', \"whst\": 'what', 'watsapp': 'whatsapp', 'demonitisation': 'demonetization', 'demonitization': 'demonetization', 'demonetisation': 'demonetization'}\n",
    "\n",
    "def _get_mispell(mispell_dict):\n",
    "    mispell_re = re.compile('(%s)' % '|'.join(mispell_dict.keys()))\n",
    "    return mispell_dict, mispell_re\n",
    "\n",
    "mispellings, mispellings_re = _get_mispell(mispell_dict)#!!!!\n",
    "def replace_typical_misspell(text):\n",
    "    def replace(match):\n",
    "        return mispellings[match.group(0)]\n",
    "    return mispellings_re.sub(replace, text)\n",
    "\n",
    "# Usage\n",
    "\n",
    "replace_typical_misspell(\"Whta is demonstration\")"
   ]
  },
  {
   "cell_type": "markdown",
   "metadata": {},
   "source": [
    "from collections import Counter"
   ]
  },
  {
   "cell_type": "markdown",
   "metadata": {},
   "source": [
    "from gensim.corpora.dictionary import Dictionary"
   ]
  },
  {
   "cell_type": "markdown",
   "metadata": {},
   "source": [
    "dictionary = Dictionary(tok_comments)"
   ]
  },
  {
   "cell_type": "markdown",
   "metadata": {},
   "source": [
    "dictionary.token2id"
   ]
  },
  {
   "cell_type": "markdown",
   "metadata": {},
   "source": [
    "corpus = [dictionary.doc2bow(com) for com in tok_comments]"
   ]
  },
  {
   "cell_type": "markdown",
   "metadata": {},
   "source": [
    "### Play with word to vector"
   ]
  },
  {
   "cell_type": "code",
   "execution_count": 124,
   "metadata": {},
   "outputs": [],
   "source": [
    "from gensim.models import Word2Vec\n",
    "\n",
    "word2vec = Word2Vec(tok_comments, min_count=2)"
   ]
  },
  {
   "cell_type": "code",
   "execution_count": 125,
   "metadata": {},
   "outputs": [],
   "source": [
    "vocab = word2vec.build_vocab"
   ]
  },
  {
   "cell_type": "markdown",
   "metadata": {},
   "source": [
    "word2vec_pad = pad_sequences(word2vec)\n",
    "word2vec_pad"
   ]
  },
  {
   "cell_type": "code",
   "execution_count": 126,
   "metadata": {},
   "outputs": [
    {
     "name": "stderr",
     "output_type": "stream",
     "text": [
      "/usr/local/lib/python3.6/dist-packages/ipykernel_launcher.py:1: DeprecationWarning: Call to deprecated `most_similar` (Method will be removed in 4.0.0, use self.wv.most_similar() instead).\n",
      "  \"\"\"Entry point for launching an IPython kernel.\n"
     ]
    },
    {
     "data": {
      "text/plain": [
       "[('radioactive', 0.8062276840209961),\n",
       " ('poisonous', 0.7794575691223145),\n",
       " ('flammable', 0.7194930911064148),\n",
       " ('toxin', 0.7193020582199097),\n",
       " ('vapor', 0.7153187990188599),\n",
       " ('fertilizer', 0.7099685072898865),\n",
       " ('noxious', 0.7087972164154053),\n",
       " ('pollutant', 0.6926442384719849),\n",
       " ('contaminated', 0.6852533221244812),\n",
       " ('hazardous', 0.6759816408157349)]"
      ]
     },
     "execution_count": 126,
     "metadata": {},
     "output_type": "execute_result"
    }
   ],
   "source": [
    "word2vec.most_similar(['toxic'])"
   ]
  },
  {
   "cell_type": "markdown",
   "metadata": {},
   "source": [
    "## First Classification Model"
   ]
  },
  {
   "cell_type": "code",
   "execution_count": 127,
   "metadata": {},
   "outputs": [],
   "source": [
    "from sklearn.model_selection import train_test_split\n",
    "from sklearn.feature_extraction.text import CountVectorizer\n",
    "from sklearn.feature_extraction.text import TfidfVectorizer\n",
    "from sklearn.linear_model import LogisticRegression\n",
    "from sklearn.neighbors import KNeighborsClassifier \n",
    "from sklearn import metrics\n"
   ]
  },
  {
   "cell_type": "code",
   "execution_count": 128,
   "metadata": {},
   "outputs": [],
   "source": [
    "y = np.where(train_data.target>0.5,1, 0 )"
   ]
  },
  {
   "cell_type": "markdown",
   "metadata": {},
   "source": [
    "Using count vectorizer"
   ]
  },
  {
   "cell_type": "code",
   "execution_count": 129,
   "metadata": {},
   "outputs": [],
   "source": [
    "count_vectorizer = CountVectorizer(stop_words='english')\n",
    "count_data = count_vectorizer.fit_transform(train_data.comment_text.values)"
   ]
  },
  {
   "cell_type": "code",
   "execution_count": 130,
   "metadata": {},
   "outputs": [],
   "source": [
    "X_train_c, X_test_c, y_train_c, y_test_c = train_test_split(count_data, y, test_size=0.2, random_state=42)"
   ]
  },
  {
   "cell_type": "code",
   "execution_count": 131,
   "metadata": {},
   "outputs": [
    {
     "data": {
      "text/plain": [
       "LogisticRegression(C=1.0, class_weight=None, dual=False, fit_intercept=True,\n",
       "          intercept_scaling=1, max_iter=100, multi_class='ovr', n_jobs=1,\n",
       "          penalty='l2', random_state=None, solver='liblinear', tol=0.0001,\n",
       "          verbose=0, warm_start=False)"
      ]
     },
     "execution_count": 131,
     "metadata": {},
     "output_type": "execute_result"
    }
   ],
   "source": [
    "log = LogisticRegression()\n",
    "log.fit(X_train_c, y_train_c)\n"
   ]
  },
  {
   "cell_type": "code",
   "execution_count": 132,
   "metadata": {},
   "outputs": [],
   "source": [
    "pred = log.predict(X_test_c)\n",
    "pred_prob = log.predict_proba(X_test_c)"
   ]
  },
  {
   "cell_type": "code",
   "execution_count": 133,
   "metadata": {},
   "outputs": [
    {
     "data": {
      "text/plain": [
       "0.9570785714285714"
      ]
     },
     "execution_count": 133,
     "metadata": {},
     "output_type": "execute_result"
    }
   ],
   "source": [
    "metrics.accuracy_score(y_test_c, pred)"
   ]
  },
  {
   "cell_type": "code",
   "execution_count": 134,
   "metadata": {},
   "outputs": [
    {
     "data": {
      "text/plain": [
       "0.7266188031877833"
      ]
     },
     "execution_count": 134,
     "metadata": {},
     "output_type": "execute_result"
    }
   ],
   "source": [
    "metrics.roc_auc_score(y_test_c, pred)"
   ]
  },
  {
   "cell_type": "markdown",
   "metadata": {},
   "source": [
    "Using TFIDF Vectorizer"
   ]
  },
  {
   "cell_type": "code",
   "execution_count": 135,
   "metadata": {},
   "outputs": [],
   "source": [
    "tfidf_vectorizer = TfidfVectorizer(stop_words='english')\n",
    "tfidf_data = tfidf_vectorizer.fit_transform(train_data.comment_text.values)"
   ]
  },
  {
   "cell_type": "code",
   "execution_count": 136,
   "metadata": {},
   "outputs": [],
   "source": [
    "X_train_t, X_test_t, y_train_t, y_test_t = train_test_split(tfidf_data, y, test_size=0.2, random_state=42)"
   ]
  },
  {
   "cell_type": "code",
   "execution_count": 137,
   "metadata": {},
   "outputs": [
    {
     "data": {
      "text/plain": [
       "LogisticRegression(C=1.0, class_weight=None, dual=False, fit_intercept=True,\n",
       "          intercept_scaling=1, max_iter=100, multi_class='ovr', n_jobs=1,\n",
       "          penalty='l2', random_state=None, solver='liblinear', tol=0.0001,\n",
       "          verbose=0, warm_start=False)"
      ]
     },
     "execution_count": 137,
     "metadata": {},
     "output_type": "execute_result"
    }
   ],
   "source": [
    "log = LogisticRegression()\n",
    "log.fit(X_train_t, y_train_t)\n"
   ]
  },
  {
   "cell_type": "code",
   "execution_count": 138,
   "metadata": {},
   "outputs": [],
   "source": [
    "pred = log.predict(X_test_t)"
   ]
  },
  {
   "cell_type": "code",
   "execution_count": 139,
   "metadata": {},
   "outputs": [
    {
     "data": {
      "text/plain": [
       "0.95955"
      ]
     },
     "execution_count": 139,
     "metadata": {},
     "output_type": "execute_result"
    }
   ],
   "source": [
    "metrics.accuracy_score(y_test_t, pred)"
   ]
  },
  {
   "cell_type": "code",
   "execution_count": 140,
   "metadata": {},
   "outputs": [
    {
     "data": {
      "text/plain": [
       "0.7020227783162215"
      ]
     },
     "execution_count": 140,
     "metadata": {},
     "output_type": "execute_result"
    }
   ],
   "source": [
    "metrics.roc_auc_score(y_test_t, pred)"
   ]
  },
  {
   "cell_type": "markdown",
   "metadata": {},
   "source": [
    "## So far model quality very bad comparing to the proportion"
   ]
  },
  {
   "cell_type": "markdown",
   "metadata": {},
   "source": [
    "https://machinelearningmastery.com/use-word-embedding-layers-deep-learning-keras/\n",
    "    \n",
    "    Build a neural network with embeddings, using Glove, \n",
    "    in the last dense leyer we should use sigmoid function!!"
   ]
  },
  {
   "cell_type": "markdown",
   "metadata": {},
   "source": [
    "Try also LightGBM, Naive Bayes, CNN, RNN"
   ]
  },
  {
   "cell_type": "code",
   "execution_count": null,
   "metadata": {},
   "outputs": [],
   "source": []
  }
 ],
 "metadata": {
  "kernelspec": {
   "display_name": "Python 3",
   "language": "python",
   "name": "python3"
  },
  "language_info": {
   "codemirror_mode": {
    "name": "ipython",
    "version": 3
   },
   "file_extension": ".py",
   "mimetype": "text/x-python",
   "name": "python",
   "nbconvert_exporter": "python",
   "pygments_lexer": "ipython3",
   "version": "3.6.7"
  }
 },
 "nbformat": 4,
 "nbformat_minor": 1
}
